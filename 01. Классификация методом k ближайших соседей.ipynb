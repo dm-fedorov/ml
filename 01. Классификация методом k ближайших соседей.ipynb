{
 "cells": [
  {
   "cell_type": "markdown",
   "metadata": {},
   "source": [
    "### Некоторые популярные области применения машинного обучения:\n",
    "    \n",
    "* Автономные машины \n",
    "* Обнаружение объектов в сценах\n",
    "* Анализ эмоциональной окраски (например, классификация рецензий на фильмы на отрицательные, положительные и нейтральные) \n",
    "* Перевод естественных языков (с английского на испанский, с французского на японский и т. д.)\n",
    "* Выявление закономерностей в данных \n",
    "* Прогнозирование временных рядов — например, предсказание будущих котировок акций и прогнозы погоды\n",
    "* Выявление попыток мошенничества с кредитными картами \n",
    "* Прогнозирование нарушений выплат ипотечных кредитов\n",
    "* Выявление попыток страхового мошенничества Прогнозирование оттока клиентов\n",
    "* Глубокий анализ данных в социальных сетях (Facebook, Twitter, LinkedIn) \n",
    "* Распознавание лиц\n",
    "* Выявление аномалий\n",
    "* Распознавание голоса\n",
    "* Диагностическая медицина \n",
    "* Распознавание образов и классификация изображений\n",
    "* Исследование данных \n",
    "* Распознавание рукописного текста\n",
    "* Классификация новостей: спорт, финансы, политика и т. д. \n",
    "* Рекомендательные системы («тем, кто купил этот продукт, также понравились...»)\n",
    "* Классификация электронной почты и выделение спама\n",
    "* Сжатие данных\n",
    "* Маркетинг: деление клиентов на группы \n",
    "* Фильтрация спама\n",
    "* Обнаружение вторжений в компьютерные системы \n",
    "* Чат-боты    "
   ]
  },
  {
   "cell_type": "markdown",
   "metadata": {},
   "source": [
    "### Две основные разновидности машинного обучения: \n",
    "* машинное обучение с учителем, которое работает с помеченными данными; \n",
    "* машинное обучение без учителя, которое работает с непомеченными данными."
   ]
  },
  {
   "cell_type": "markdown",
   "metadata": {},
   "source": [
    "### Машинное обучение с учителем\n",
    "\n",
    "Машинное обучение с учителем делится на две категории — классификацию и регрессию. Модели проходят обучение на наборах данных, состоящих из строк и столбцов. Каждая строка представляет точку данных, а каждый столбец — некую характеристику этой точки. В машинном обучении с учителем с каждой точкой данных связывается метка, называемая целевой меткой (например, «dog» или «cat»). Она определяет то значение, которое должно прогнозироваться для новых данных, передаваемых вашим моделям."
   ]
  },
  {
   "cell_type": "markdown",
   "metadata": {},
   "source": [
    "#### Классификация\n",
    "\n",
    "Для анализа набора данных Digits, включенного в поставку scikit-learn, будет применен один из простейших классификационных алгоритмов — метод k ближайших соседей. Классификационные алгоритмы прогнозируют дискретные классы (категории), к которым относятся точки данных. При бинарной классификации используются два класса: например, «спам» или «не спам» в приложении классификации электронной почты. В задачах множественной\n",
    "классификации используется более двух классов — например, 10 классов (от 0 до 9) в наборе данных Digits. Схема классификации для описаний фильмов может пытаться классифицировать их по жанру: «приключения», «фэнтези», «романтика», «исторический» и т. д."
   ]
  },
  {
   "cell_type": "markdown",
   "metadata": {},
   "source": [
    "#### Регрессия\n",
    "\n",
    "Регрессионные модели прогнозируют непрерывный вывод — например, прогнозируемую температуру в анализе временных рядов. Далее рассмотрим пример простой линейной регрессии, но реализуем его с использованием оценщика LinearRegression из scikit-learn. Затем оценщик LinearRegression будет использован для выполнения множественной линейной регрессии с набором данных California Housing, включенным в поставку scikit-learn. В этом примере будет прогнозироваться медианная стоимость дома в квартале по данным переписи США с учетом следующих характеристик: среднего количества комнат, медианного возраста дома, среднего количества спален и медианного дохода. Оценщик LinearRegression по умолчанию использует все числовые характеристики набора данных для формирования более сложных прогнозов, чем это возможно с простой линейной регрессией с одним признаком."
   ]
  },
  {
   "cell_type": "markdown",
   "metadata": {},
   "source": [
    "### Машинное обучение без учителя\n",
    " \n",
    "Воспользуемся методом снижения размерности признакового пространства (с применением оценщика scikit-learn TSNE) для сжатия 64 признаков набора данных Digits до двух в целях визуализации. Это позволит увидеть, как хорошо «группируются» данные Digits — наборы данных с рукописными цифрами наподобие тех, что должны распознаваться компьютерами в почтовых отделениях для отправки писем по указанным почтовым индексам. Речь идет о сложной задаче из области распознавания образов, если учесть неповторимость человеческого почерка. Тем не менее эта модель кластеризации будет построена всего в нескольких строках кода, а достигнутый результат окажется весьма впечатляющим. "
   ]
  },
  {
   "cell_type": "markdown",
   "metadata": {},
   "source": [
    "#### Кластеризация методом k средних и набор данных Iris\n",
    "\n",
    "Представим простейший алгоритм машинного обучения без учителя — кластеризацию методом k средних и воспользуемся им для набора данных Iris, также включенного в поставку scikit-learn. Снижение размерности признакового пространства (с оценщиком PCA из scikit-learn) сжимает четыре признака набора данных Iris до двух с целью визуализации. Будет продемонстрирована кластеризация трех образцов Iris по набору данных и графическое представление центроида каждого кластера (то есть центральной точки кластера). Применим несколько оценщиков кластеризации для сравнения их эффективности по разбиению точек набора данных Iris на три кластера.\n",
    "Обычно аналитик задает желательное количество моделей k. Метод k средних перебирает данные, стараясь разделить их на заданное количество кластеров. Как и многие алгоритмы машинного обучения, метод k средних работает по итеративному принципу и в конечном итоге сходится к кластерам в заданном количестве.\n",
    "\n",
    "Кластеризация методом k средних может выявить сходство в непомеченных данных. Этот факт может помочь в назначении меток данным, чтобы оценщики для обучения с учителем смогли обработать его. С учетом того, насколько монотонен и ненадежен процесс назначения меток непомеченным данным (причем подавляющее большинство мировых данных не имеет меток), машинное обучение без учителя играет важную роль."
   ]
  },
  {
   "cell_type": "markdown",
   "metadata": {},
   "source": [
    "### Наборы данных, включенные в поставку scikit-learn\n",
    "\n",
    "**«Игрушечные» наборы данных**\n",
    "- Цены на дома в Бостоне\n",
    "- Ирисы\n",
    "- Диабет\n",
    "- Оптическое распознавание рукописных цифр\n",
    "- Linnerrud\n",
    "- Распознавание вин\n",
    "- Диагностика рака груди (Висконсин)\n",
    "\n",
    "**«Реальные» наборы данных**\n",
    "- Лица Оливетти\n",
    "- Тексты 20 новостных групп\n",
    "- Помеченные лица для распознавания\n",
    "- Типы лесопосадок\n",
    "- RCV1\n",
    "- Kidcup 99\n",
    "- California Housing\n",
    "\n",
    "Подробнее:\n",
    "- https://scikit-learn.org/stable/datasets/index.html\n",
    "- https://www.openml.org\n"
   ]
  },
  {
   "cell_type": "markdown",
   "metadata": {},
   "source": [
    "#### Последовательность действий в типичном исследовании data science\n",
    "* загрузка набора данных;\n",
    "* исследование данных с использованием pandas и визуализаций;\n",
    "* преобразование данных (нечисловых данных в числовые, потому что scikit-learn требуются числовые данные);\n",
    "* разбиение данных для обучения и тестирования;\n",
    "* создание модели;\n",
    "* обучение и тестирование модели;\n",
    "* настройка параметров модели и оценка ее точности;\n",
    "* формирование прогнозов на основании «живых» данных, которые еще неизвестны модели."
   ]
  },
  {
   "cell_type": "markdown",
   "metadata": {},
   "source": [
    "### Практический пример: классификация методом k ближайших соседей и набор данных Digits, часть 1\n",
    "\n",
    "Чтобы почта обрабатывалась эффективно, а каждое письмо передавалось по правильному адресу, компьютеры почтовой службы должны сканировать рукописные имена, адреса и почтовые индексы, распознавая цифры и буквы. "
   ]
  },
  {
   "cell_type": "markdown",
   "metadata": {},
   "source": [
    "#### Задачи классификации\n",
    "\n",
    "Рассмотрим задачу классификации в области машинного обучения с учителем, где требуется спрогнозировать класс, к которому относится образец. Например, если у вас имеются изображения собак и кошек, то каждое изображение должно классифицироваться как «собака» или «кошка». \n",
    "\n",
    "Подобная задача называется бинарной, поскольку в ней задействованы всего два класса.\n",
    "\n",
    "Воспользуемся набором данных [Digits](https://scikit-learn.org/stable/datasets/index.html#optical-recognition-of-handwritten-digits-dataset), входящим в поставку scikit-learn. \n",
    "\n",
    "Набор состоит из изображений 8 × 8 пикселов и представляет 1797 рукописных цифр (от 0 до 9). Требуется определить, какую цифру представляет изображение. \n",
    "Так как существует 10 возможных цифр (классов), данная задача является задачей множественной классификации. Для обучения модели используются помеченные данные — класс каждой цифры известен заранее. В этом примере для распознавания рукописных цифр будет применен один из простейших алгоритмов классификации — метод k ближайших соседей (k-NN). \n",
    "Следующая визуализация цифры 5 в низком разрешении была получена в результате вывода одной цифры в виде матрицы 8 × 8:"
   ]
  },
  {
   "cell_type": "code",
   "execution_count": null,
   "metadata": {},
   "outputs": [],
   "source": [
    "number.jpg"
   ]
  },
  {
   "cell_type": "markdown",
   "metadata": {},
   "source": [
    "Начнем с основных этапов реализации задач машинного обучения:\n",
    "* Выбор данных для обучения модели.\n",
    "* Загрузка и анализ данных.\n",
    "* Разбиение данных для обучения и тестирования.\n",
    "* Выбор и построение модели.\n",
    "* Обучение модели.\n",
    "* Формирование прогнозов.\n",
    "\n",
    "Далее: \n",
    "* проведем оценку результатов;\n",
    "* настроим параметры модели;\n",
    "* обработаем несколько классификационных моделей для выбора наилучшей модели(-ей).\n",
    "\n",
    "Для визуализации данных будут использоваться библиотеки Matplotlib и Seaborn."
   ]
  },
  {
   "cell_type": "markdown",
   "metadata": {},
   "source": [
    "### Алгоритм k ближайших соседей\n",
    "\n",
    "Scikit-learn поддерживает много алгоритмов классификации, включая простейший алгоритм k ближайших соседей (k-NN). Этот алгоритм пытается спрогнозировать класс тестового образца, анализируя k обучающих образцов, расположенных ближе всего (по расстоянию) к тестовому образцу. Для примера возьмем следующую диаграмму, на которой заполненные точки представляют четыре класса — A, B, C и D. В контексте нашего обсуждения эти буквы будут использоваться как имена классов:"
   ]
  },
  {
   "cell_type": "code",
   "execution_count": null,
   "metadata": {},
   "outputs": [],
   "source": [
    "knn.jpg"
   ]
  },
  {
   "cell_type": "markdown",
   "metadata": {},
   "source": [
    "Требуется спрогнозировать классы, к которым принадлежат новые образцы X, Y и Z. Будем считать, что прогнозы должны формироваться по трем ближайшим соседям каждого образца — k равно 3 в алгоритме k ближайших соседей:\n",
    "* Все три ближайших соседа образца X являются точками класса D, поэтому модель прогнозирует, что X относится к классу D.\n",
    "* Все три ближайших соседа образца Y являются точками класса B, поэтому модель прогнозирует, что Y относится к классу B.\n",
    "* Для Z выбор не очевиден, потому что образец находится между точками B и C. Из трех ближайших соседей один принадлежит классу B, а два — классу C. В алгоритме k ближайших соседей побеждает класс с большинством «голосов». Из-за двух голосов C против одного голоса B мы прогнозируем, что Z относится к классу C. Выбор нечетного значения k в алгоритме k-NN предотвращает «ничьи» и гарантирует, что количество голосов никогда не будет равным."
   ]
  },
  {
   "cell_type": "markdown",
   "metadata": {},
   "source": [
    "#### Гиперпараметры и настройка гиперпараметров\n",
    "\n",
    "В области машинного обучения модель реализует алгоритм машинного обучения. В терминологии scikit-learn модели называются оценщиками. Существуют два типа параметров машинного обучения:\n",
    "* вычисляемые оценщиком в ходе своего обучения на основании предоставленных вами данных;\n",
    "* задаваемые заранее при создании объекта оценщика scikit-learn, представляющего модель.\n",
    "\n",
    "Параметры, задаваемые заранее, называются гиперпараметрами.\n",
    "\n",
    "В алгоритме k ближайших соседей k является гиперпараметром. Для простоты мы используем значения гиперпараметров по умолчанию для scikit-learn. В реальном исследовании из области машинного обучения желательно поэкспериментировать с разными значениями k для получения наилучших возможных моделей для ваших исследований. Этот процесс называется настройкой гиперпараметров. Позднее мы используем настройку гиперпараметров для выбора значения k, которое позволяет алгоритму k ближайших соседей выдать лучшие прогнозы для набора данных Digits. Scikit-learn также содержит средства автоматической настройки гиперпараметров."
   ]
  },
  {
   "cell_type": "markdown",
   "metadata": {},
   "source": [
    "### Загрузка набора данных\n",
    "\n",
    "Функция load_digits из модуля sklearn.datasets возвращает объект scikit-learn Bunch , содержащий данные цифр и информацию о наборе данных Digits\n",
    "(так называемые метаданные):"
   ]
  },
  {
   "cell_type": "code",
   "execution_count": 1,
   "metadata": {},
   "outputs": [],
   "source": [
    "from sklearn.datasets import load_digits\n",
    "digits = load_digits()"
   ]
  },
  {
   "cell_type": "markdown",
   "metadata": {},
   "source": [
    "Bunch представляет собой подкласс dict , содержащий дополнительные атрибуты для взаимодействия с набором данных."
   ]
  },
  {
   "cell_type": "markdown",
   "metadata": {},
   "source": [
    "### Вывод описания\n",
    "\n",
    "Набор данных Digits, входящий в поставку scikit-learn, является подмножеством [набора данных рукописных цифр UCI (Калифорнийский университет в Ирвайне) ML](http://archive.ics.uci.edu/ml/datasets/Optical+Recognition+of+Handwritten+Digits).\n",
    "\n",
    "Исходный набор данных UCI содержит 5620 образцов — 3823 для обучения и 1797 для тестирования. Версия набора данных, поставляемая со scikit-learn, содержит только 1797 тестовых образцов. Атрибут DESCR объекта Bunch содержит описание набора данных. Согласно описанию набора данных Digits, каждый образец содержит 64 признака (Number of Attributes), представляющие изображение 8 × 8 со значениями пикселов в диапазоне 0–16 (Attribute\n",
    "Information). Набор данных не содержит отсутствующих значений (Missing Attribute Values). Создается впечатление, что 64 признака — это много, но необходимо иметь в виду, что реальные наборы данных иногда содержат сотни, тысячи и даже миллионы признаков."
   ]
  },
  {
   "cell_type": "code",
   "execution_count": 3,
   "metadata": {},
   "outputs": [
    {
     "name": "stdout",
     "output_type": "stream",
     "text": [
      ".. _digits_dataset:\n",
      "\n",
      "Optical recognition of handwritten digits dataset\n",
      "--------------------------------------------------\n",
      "\n",
      "**Data Set Characteristics:**\n",
      "\n",
      "    :Number of Instances: 5620\n",
      "    :Number of Attributes: 64\n",
      "    :Attribute Information: 8x8 image of integer pixels in the range 0..16.\n",
      "    :Missing Attribute Values: None\n",
      "    :Creator: E. Alpaydin (alpaydin '@' boun.edu.tr)\n",
      "    :Date: July; 1998\n",
      "\n",
      "This is a copy of the test set of the UCI ML hand-written digits datasets\n",
      "https://archive.ics.uci.edu/ml/datasets/Optical+Recognition+of+Handwritten+Digits\n",
      "\n",
      "The data set contains images of hand-written digits: 10 classes where\n",
      "each class refers to a digit.\n",
      "\n",
      "Preprocessing programs made available by NIST were used to extract\n",
      "normalized bitmaps of handwritten digits from a preprinted form. From a\n",
      "total of 43 people, 30 contributed to the training set and different 13\n",
      "to the test set. 32x32 bitmaps are divided into nonoverlapping blocks of\n",
      "4x4 and the number of on pixels are counted in each block. This generates\n",
      "an input matrix of 8x8 where each element is an integer in the range\n",
      "0..16. This reduces dimensionality and gives invariance to small\n",
      "distortions.\n",
      "\n",
      "For info on NIST preprocessing routines, see M. D. Garris, J. L. Blue, G.\n",
      "T. Candela, D. L. Dimmick, J. Geist, P. J. Grother, S. A. Janet, and C.\n",
      "L. Wilson, NIST Form-Based Handprint Recognition System, NISTIR 5469,\n",
      "1994.\n",
      "\n",
      ".. topic:: References\n",
      "\n",
      "  - C. Kaynak (1995) Methods of Combining Multiple Classifiers and Their\n",
      "    Applications to Handwritten Digit Recognition, MSc Thesis, Institute of\n",
      "    Graduate Studies in Science and Engineering, Bogazici University.\n",
      "  - E. Alpaydin, C. Kaynak (1998) Cascading Classifiers, Kybernetika.\n",
      "  - Ken Tang and Ponnuthurai N. Suganthan and Xi Yao and A. Kai Qin.\n",
      "    Linear dimensionalityreduction using relevance weighted LDA. School of\n",
      "    Electrical and Electronic Engineering Nanyang Technological University.\n",
      "    2005.\n",
      "  - Claudio Gentile. A New Approximate Maximal Margin Classification\n",
      "    Algorithm. NIPS. 2000.\n"
     ]
    }
   ],
   "source": [
    "print(digits.DESCR)"
   ]
  },
  {
   "cell_type": "markdown",
   "metadata": {},
   "source": [
    "### Проверка атрибутов data и target\n",
    "\n",
    "Атрибуты data и target объекта Bunch представляют собой массивы NumPy:\n",
    "* Массив data содержит 1797 образца (изображения цифр), каждый из которых несет 64 признака со значениями в диапазоне 0–16, представляющие интенсивности пикселов. С Matplotlib можно визуализировать интенсивности в оттенках серого от белого (0) до черного (16):"
   ]
  },
  {
   "cell_type": "code",
   "execution_count": null,
   "metadata": {},
   "outputs": [],
   "source": [
    "color.jpg"
   ]
  },
  {
   "cell_type": "markdown",
   "metadata": {},
   "source": [
    "Массив target содержит метки изображений, то есть классы, указывающие, какую цифру представляет каждое изображение. Массив называется target , потому что при прогнозировании вы стремитесь «попасть в цель» с выбором значений. Чтобы увидеть метки образцов в наборе данных, выведем значения target каждого 100-го образца:"
   ]
  },
  {
   "cell_type": "code",
   "execution_count": 4,
   "metadata": {},
   "outputs": [
    {
     "data": {
      "text/plain": [
       "array([0, 4, 1, 7, 4, 8, 2, 2, 4, 4, 1, 9, 7, 3, 2, 1, 2, 5])"
      ]
     },
     "execution_count": 4,
     "metadata": {},
     "output_type": "execute_result"
    }
   ],
   "source": [
    "digits.target[::100]"
   ]
  },
  {
   "cell_type": "markdown",
   "metadata": {},
   "source": [
    "Количество образцов и признаков (на один образец) подтверждается при помощи атрибута shape массива data , который показывает, что набор данных состоит из 1797 строк (образцов) и 64 столбцов (признаков):"
   ]
  },
  {
   "cell_type": "code",
   "execution_count": 5,
   "metadata": {},
   "outputs": [
    {
     "data": {
      "text/plain": [
       "(1797, 64)"
      ]
     },
     "execution_count": 5,
     "metadata": {},
     "output_type": "execute_result"
    }
   ],
   "source": [
    "digits.data.shape"
   ]
  },
  {
   "cell_type": "markdown",
   "metadata": {},
   "source": [
    "Размеры массива target подтверждают, что количество целевых значений соответствует количеству образцов:"
   ]
  },
  {
   "cell_type": "code",
   "execution_count": 6,
   "metadata": {},
   "outputs": [
    {
     "data": {
      "text/plain": [
       "(1797,)"
      ]
     },
     "execution_count": 6,
     "metadata": {},
     "output_type": "execute_result"
    }
   ],
   "source": [
    "digits.target.shape"
   ]
  },
  {
   "cell_type": "markdown",
   "metadata": {},
   "source": [
    "#### Пример изображения цифры\n",
    "\n",
    "Все изображения двумерны — они обладают шириной и высотой в пикселах.\n",
    "Объект Bunch , возвращаемый load_digits , содержит атрибут images — массив, каждый элемент которого представляет собой двумерный массив 8 × 8 с интенсивностями пикселов изображения цифры. Хотя в исходном наборе данных каждый пиксел представлен целочисленным значением в диапазоне 0–16, scikit-learn хранит эти значения в виде значений с плавающей точкой (тип NumPy float64). Например, двумерный массив, представляющий изображение образца с индексом 13, выглядит так:"
   ]
  },
  {
   "cell_type": "code",
   "execution_count": 7,
   "metadata": {},
   "outputs": [
    {
     "data": {
      "text/plain": [
       "array([[ 0.,  2.,  9., 15., 14.,  9.,  3.,  0.],\n",
       "       [ 0.,  4., 13.,  8.,  9., 16.,  8.,  0.],\n",
       "       [ 0.,  0.,  0.,  6., 14., 15.,  3.,  0.],\n",
       "       [ 0.,  0.,  0., 11., 14.,  2.,  0.,  0.],\n",
       "       [ 0.,  0.,  0.,  2., 15., 11.,  0.,  0.],\n",
       "       [ 0.,  0.,  0.,  0.,  2., 15.,  4.,  0.],\n",
       "       [ 0.,  1.,  5.,  6., 13., 16.,  6.,  0.],\n",
       "       [ 0.,  2., 12., 12., 13., 11.,  0.,  0.]])"
      ]
     },
     "execution_count": 7,
     "metadata": {},
     "output_type": "execute_result"
    }
   ],
   "source": [
    "digits.images[13]"
   ]
  },
  {
   "cell_type": "markdown",
   "metadata": {},
   "source": [
    "Ниже показано изображение, представленное этим двумерным массивом:"
   ]
  },
  {
   "cell_type": "code",
   "execution_count": null,
   "metadata": {},
   "outputs": [],
   "source": [
    "num03.jpg"
   ]
  },
  {
   "cell_type": "markdown",
   "metadata": {},
   "source": [
    "### Подготовка данных для использования со scikit-learn\n",
    "\n",
    "Алгоритмы машинного обучения scikit-learn требуют, чтобы образцы хранились в двумерном массиве значений с плавающей точкой (или коллекции, сходной с двумерным массивом, например списком списков или коллекцией\n",
    "pandas DataFrame):\n",
    "* каждая строка представляет один образец;\n",
    "* каждый столбец заданной строки представляет один признак этого образца.\n",
    "\n",
    "Для представления каждого образца в виде одной строки данных многомерные данные должны быть преобразованы в одномерный массив.\n",
    "\n",
    "Если вы работаете с данными, содержащими категорийные признаки (обычно представленные в виде строк — скажем, 'spam' и 'not-spam'), то вам также придется провести предварительную обработку этих признаков и преобразовать их в числовые значения (так называемое прямое унитарное кодирование). Модуль sklearn.preprocessing библиотеки Scikit-learn предоставляет функциональность для преобразования категорийных данных в числовые. Набор данных Digits не содержит категорийных признаков."
   ]
  },
  {
   "cell_type": "markdown",
   "metadata": {},
   "source": [
    "Функция load_digits возвращает предварительно обработанные данные, готовые к машинному обучению. Набор данных Digits является числовым, поэтому load_digits просто сглаживает двумерный массив в одномерный массив. Например, массив 8 × 8 digits.images[13] соответствует массиву 1 × 64 digits.data[13] следующего вида:"
   ]
  },
  {
   "cell_type": "code",
   "execution_count": 8,
   "metadata": {},
   "outputs": [
    {
     "data": {
      "text/plain": [
       "array([ 0.,  2.,  9., 15., 14.,  9.,  3.,  0.,  0.,  4., 13.,  8.,  9.,\n",
       "       16.,  8.,  0.,  0.,  0.,  0.,  6., 14., 15.,  3.,  0.,  0.,  0.,\n",
       "        0., 11., 14.,  2.,  0.,  0.,  0.,  0.,  0.,  2., 15., 11.,  0.,\n",
       "        0.,  0.,  0.,  0.,  0.,  2., 15.,  4.,  0.,  0.,  1.,  5.,  6.,\n",
       "       13., 16.,  6.,  0.,  0.,  2., 12., 12., 13., 11.,  0.,  0.])"
      ]
     },
     "execution_count": 8,
     "metadata": {},
     "output_type": "execute_result"
    }
   ],
   "source": [
    "digits.data[13]"
   ]
  },
  {
   "cell_type": "markdown",
   "metadata": {},
   "source": [
    "В этом одномерном массиве первые восемь элементов содержат элементы строки 0 двумерного массива, следующие восемь элементов — элементы строки 1 двумерного массива, и т. д."
   ]
  },
  {
   "cell_type": "markdown",
   "metadata": {},
   "source": [
    "### Визуализация данных\n",
    "\n",
    "Всегда старайтесь поближе познакомиться со своими данными. Этот процесс называется исследованием данных. Например, изображения цифр (с тем чтобы составить представление об их внешнем виде) можно просто вывести функцией implot библиотеки Matplotlib. \n",
    "\n",
    "Чтобы понять, насколько трудна задача распознавания рукописных цифр, посмотрите, как сильно различаются изображения цифры 3 в первой, третьей и четвертой строке, и взгляните на изображения цифры 2 в первой, третьей и четвертой строке."
   ]
  },
  {
   "cell_type": "code",
   "execution_count": null,
   "metadata": {},
   "outputs": [],
   "source": [
    "all_numbers.jpg"
   ]
  },
  {
   "cell_type": "markdown",
   "metadata": {},
   "source": [
    "Следующий вызов функции subplots создает эту диаграмму 6 × 4 (размер задается ключевым аргументом figsize(6, 4)), которая состоит из 24 поддиаграмм, расположенных в 4 строки (nrows =4) и 6 столбцов (ncols =6). Каждая\n",
    "поддиаграмма имеет собственный объект Axes, который используется для вывода одного изображения цифры:"
   ]
  },
  {
   "cell_type": "code",
   "execution_count": 9,
   "metadata": {},
   "outputs": [],
   "source": [
    "import matplotlib.pyplot as plt"
   ]
  },
  {
   "cell_type": "code",
   "execution_count": 10,
   "metadata": {},
   "outputs": [
    {
     "data": {
      "image/png": "[encoded data removed]",
      "text/plain": [
       "<Figure size 432x288 with 24 Axes>"
      ]
     },
     "metadata": {
      "needs_background": "light"
     },
     "output_type": "display_data"
    }
   ],
   "source": [
    "figure, axes = plt.subplots(nrows=4, ncols=6, figsize=(6, 4))"
   ]
  },
  {
   "cell_type": "markdown",
   "metadata": {},
   "source": [
    "Функция subplots возвращает объекты Axes в двумерном массиве NumPy."
   ]
  },
  {
   "cell_type": "markdown",
   "metadata": {},
   "source": [
    "Затем команда for в сочетании со встроенной функцией zip будет использоваться для параллельного перебора всех 24 объектов Axes, первых 24 изображений в digits.images и первых 24 значений в digits.target:"
   ]
  },
  {
   "cell_type": "code",
   "execution_count": 11,
   "metadata": {},
   "outputs": [
    {
     "data": {
      "text/plain": [
       "<Figure size 432x288 with 0 Axes>"
      ]
     },
     "metadata": {},
     "output_type": "display_data"
    }
   ],
   "source": [
    "for item in zip(axes.ravel(), digits.images, digits.target):\n",
    "    axes, image, target = item\n",
    "    axes.imshow(image, cmap=plt.cm.gray_r)\n",
    "    axes.set_xticks([]) # Удаление делений на оси x\n",
    "    axes.set_yticks([]) # Удаление делений на оси y\n",
    "    axes.set_title(target)\n",
    "plt.tight_layout()"
   ]
  },
  {
   "cell_type": "markdown",
   "metadata": {},
   "source": [
    "Напомним, метод массивов NumPy ravel создает одномерное представление многомерного массива, а функция zip — кортежи, содержащие элементы всех аргументов zip с одинаковыми индексами. Аргумент с наименьшим количе-\n",
    "ством элементов определяет количество возвращаемых кортежей. Каждая итерация цикла:\n",
    "* распаковывает один кортеж на три переменные, представляющие объект Axes , изображение и целевое значение;\n",
    "* вызывает метод imshow объекта Axes для вывода одного изображения. Ключевой аргумент cmap=plt.cm.gray_r определяет цвета, выводимые в изображении. Значение plt.cm.gray_r представляет собой цветовую карту — группу часто выбираемых цветов, хорошо сочетающихся друг с другом. С этой конкретной цветовой картой пикселы изображения выводятся в оттенках серого: 0 соответствует белому цвету, 16 — черному, а промежуточные значения — оттенкам серого с возрастанием темного. Названия цветовых карт Matplotlib приведены на [странице](https://matplotlib.org/examples/color/colormaps_reference.html). К ним можно обращаться через объект plt.cm bkb или в строковом виде 'gray_r'; \n",
    "* вызывает методы set_xticks и set_yticks объекта Axes с пустыми списками, чтобы указать, что оси x и y должны выводиться без делений;\n",
    "* вызывает метод set_title объекта Axes для вывода целевого значения над изображением, то есть фактического значения, представляемого изображением.\n",
    "\n",
    "После цикла вызов метода tight_layout удаляет лишние поля у верхнего, правого, нижнего и левого края Figure , с тем чтобы строки и столбцы цифровых изображений заполняли большую площадь диаграммы."
   ]
  },
  {
   "cell_type": "markdown",
   "metadata": {},
   "source": [
    "### Разбиение данных для обучения и тестирования\n",
    "\n",
    "Обучение моделей машинного обучения обычно производится на подмножестве набора данных. Как правило, чем больше данных доступно для обучения, тем качественнее обучается модель. Важно зарезервировать часть данных для тестирования, чтобы вы могли оценить эффективность модели на данных, которые ей пока неизвестны. Когда вы будете уверены в том, что модель работает эффективно, ее можно будет использовать для прогнозирования на новых данных.\n",
    "Сначала данные разбиваются на два поднабора: обучающий и тестовый.\n",
    "\n",
    "Функция train_test_split из модуля sklearn.model_selection осуществляет случайную перестановку данных, а затем разбивает образцы в массиве data и целевые значения в массиве target на обучающий и тестовый набор. Это гарантирует, что обучающий и тестовый наборы обладают сходными характеристиками. Случайная перестановка и разбиение выполняются для вашего удобства объектом ShuffleSplit из модуля sklearn.model_selection. Функция train_test_split возвращает кортеж из четырех элементов, в котором два первых элемента содержат образцы, разделенные на обучающий и тестовый набор, а два последних — соответствующие целевые значения, также разделенные на обучающий и тестовый набор. По общепринятым соглашениям буква верхнего регистра X используется для представления образцов, а буква y нижнего регистра — для представления целевых значений:"
   ]
  },
  {
   "cell_type": "code",
   "execution_count": 12,
   "metadata": {},
   "outputs": [],
   "source": [
    "from sklearn.model_selection import train_test_split"
   ]
  },
  {
   "cell_type": "code",
   "execution_count": 13,
   "metadata": {},
   "outputs": [],
   "source": [
    "X_train, X_test, y_train, y_test = train_test_split(digits.data, digits.target, random_state=11)"
   ]
  },
  {
   "cell_type": "markdown",
   "metadata": {},
   "source": [
    "Предполагается, что классы данных сбалансированы, то есть образцы равномерно распределены между классами. К слову, все классификационные наборы, входящие в поставку scikit-learn, обладают этим свойством. Несбалансирован-\n",
    "ность классов может привести к ошибочным результатам. \n",
    "\n",
    "Функция train_test_split предоставляет ключевой аргумент random_state для воспроизводимости результатов. Если в будущем тот же код будет выполняться с тем же значением инициализации, train_test_split выберет те же данные для обучающего и тестового наборов. Значение инициализации в нашем примере (11) было выбрано произвольно."
   ]
  },
  {
   "cell_type": "markdown",
   "metadata": {},
   "source": [
    "### Размеры обучающего и тестового наборов\n",
    "\n",
    "Взглянув на размеры наборов X_train и X_test, мы видим, что по умолчанию train_test_split резервирует 75% данных для обучения и 25% для тестирования:"
   ]
  },
  {
   "cell_type": "code",
   "execution_count": 14,
   "metadata": {},
   "outputs": [
    {
     "data": {
      "text/plain": [
       "(1347, 64)"
      ]
     },
     "execution_count": 14,
     "metadata": {},
     "output_type": "execute_result"
    }
   ],
   "source": [
    "X_train.shape"
   ]
  },
  {
   "cell_type": "code",
   "execution_count": 15,
   "metadata": {},
   "outputs": [
    {
     "data": {
      "text/plain": [
       "(450, 64)"
      ]
     },
     "execution_count": 15,
     "metadata": {},
     "output_type": "execute_result"
    }
   ],
   "source": [
    "X_test.shape"
   ]
  },
  {
   "cell_type": "markdown",
   "metadata": {},
   "source": [
    "Чтобы использовать другое соотношение, можно задать размеры тестового и обучающего набора при помощи ключевых аргументов test_size и train_size функции train_test_split. Используйте значения с плавающей точкой в диапазоне от 0.0 до 1.0 для определения процентной доли каждого набора в данных. Целочисленные значения задают точное количество образцов. Если один из этих ключевых аргументов задается при вызове, то второй вычисляется автоматически. Например, команда\n",
    "\n",
    "X_train, X_test, y_train, y_test = train_test_split(\n",
    "digits.data, digits.target, random_state=11, test_size=0.20)\n",
    "\n",
    "сообщает, что 20% данных предназначены для тестирования, поэтому значение train_size вычисляется равным 0.80."
   ]
  },
  {
   "cell_type": "markdown",
   "metadata": {},
   "source": [
    "### Создание модели\n",
    "\n",
    "Оценщик KNeighborsClassifier (модуль sklearn.neighbors) реализует алгоритм k ближайших соседей. Сначала создается объект оценщика KNeighborsClassifier:"
   ]
  },
  {
   "cell_type": "code",
   "execution_count": 16,
   "metadata": {},
   "outputs": [],
   "source": [
    "from sklearn.neighbors import KNeighborsClassifier"
   ]
  },
  {
   "cell_type": "code",
   "execution_count": 17,
   "metadata": {},
   "outputs": [],
   "source": [
    "knn = KNeighborsClassifier()"
   ]
  },
  {
   "cell_type": "markdown",
   "metadata": {},
   "source": [
    "Чтобы создать оценщика, достаточно создать объект."
   ]
  },
  {
   "cell_type": "markdown",
   "metadata": {},
   "source": [
    "### Обучение модели\n",
    "\n",
    "Затем вызывается метод fit объекта KNeighborsClassifier, который загружает обучающий набор образцов (X_train) и обучающий набор целевых значений (y_train) в оценщике:"
   ]
  },
  {
   "cell_type": "code",
   "execution_count": 18,
   "metadata": {},
   "outputs": [
    {
     "data": {
      "text/plain": [
       "KNeighborsClassifier(algorithm='auto', leaf_size=30, metric='minkowski',\n",
       "                     metric_params=None, n_jobs=None, n_neighbors=5, p=2,\n",
       "                     weights='uniform')"
      ]
     },
     "execution_count": 18,
     "metadata": {},
     "output_type": "execute_result"
    }
   ],
   "source": [
    "knn.fit(X=X_train, y=y_train)"
   ]
  },
  {
   "cell_type": "markdown",
   "metadata": {},
   "source": [
    "Для большинства оценщиков scikit-learn метод fit загружает данные в оценщика, а затем использует эти данные для выполнения «за кулисами» сложных вычислений, в ходе которых происходит извлечение информации и обучение модели. Метод fit объекта KNeighborsClassifier просто загружает данные в оценщике, потому что алгоритм k-NN не имеет исходного процесса обучения. \n",
    "\n",
    "Данный оценщик называется отложенным, потому что он выполняет свою работу только тогда, когда он используется для построения прогнозов. В реальных приложениях машинного обучения обучение моделей может занимать минуты, часы, дни и даже месяцы, но специализированное высокопроизводительное оборудование — графические процессоры (GPU) и тензорные процессоры (TPU) — могут значительно сократить время обучения модели. \n",
    "\n",
    "Как видно из вывода фрагмента, метод fit возвращает оценщика, поэтому выводится его строковое представление, включающее настройки по умолчанию. Значение n_neighbors соответствует k в алгоритме k ближайших соседей. По умолчанию KNeighborsClassifier ищет пятерых ближайших соседей для построения своих прогнозов. Для простоты мы используем оценки оценщика по умолчанию. Для KNeighborsClassifier они описаны по [адресу](https://scikit-learn.org/stable/modules/generated/sklearn.neighbors.KNeighborsClassifier.html)."
   ]
  },
  {
   "cell_type": "markdown",
   "metadata": {},
   "source": [
    "### Прогнозирование классов для рукописных цифр\n",
    "\n",
    "Итак, после загрузки данных в KNeighborsClassifier эти данные могут использоваться с тестовыми образцами для построения прогнозов. При вызове метода predict оценщика с передачей X_test в аргументе возвращает массив, содержащий прогнозируемый класс каждого тестового изображения:"
   ]
  },
  {
   "cell_type": "code",
   "execution_count": 19,
   "metadata": {},
   "outputs": [],
   "source": [
    "predicted = knn.predict(X=X_test)"
   ]
  },
  {
   "cell_type": "code",
   "execution_count": 20,
   "metadata": {},
   "outputs": [],
   "source": [
    "expected = y_test"
   ]
  },
  {
   "cell_type": "markdown",
   "metadata": {},
   "source": [
    "Сравним прогнозируемые цифры с ожидаемыми для первых 20 тестовых образцов:"
   ]
  },
  {
   "cell_type": "code",
   "execution_count": 21,
   "metadata": {},
   "outputs": [
    {
     "data": {
      "text/plain": [
       "array([0, 4, 9, 9, 3, 1, 4, 1, 5, 0, 4, 9, 4, 1, 5, 3, 3, 8, 5, 6])"
      ]
     },
     "execution_count": 21,
     "metadata": {},
     "output_type": "execute_result"
    }
   ],
   "source": [
    "predicted[:20]"
   ]
  },
  {
   "cell_type": "code",
   "execution_count": 22,
   "metadata": {},
   "outputs": [
    {
     "data": {
      "text/plain": [
       "array([0, 4, 9, 9, 3, 1, 4, 1, 5, 0, 4, 9, 4, 1, 5, 3, 3, 8, 3, 6])"
      ]
     },
     "execution_count": 22,
     "metadata": {},
     "output_type": "execute_result"
    }
   ],
   "source": [
    "expected[:20]"
   ]
  },
  {
   "cell_type": "markdown",
   "metadata": {},
   "source": [
    "Как видим, среди первых 20 элементов массивов predicted и expected не совпадают только значения с индексом 18. Здесь ожидалась цифра 3, но модель предсказала 5.\n",
    "\n",
    "Воспользуемся трансформацией списка для нахождения всех ошибочных прогнозов для всего тестового набора, то есть тех случаев, в которых значения из массивов predicted и expected не совпадают:"
   ]
  },
  {
   "cell_type": "code",
   "execution_count": 23,
   "metadata": {},
   "outputs": [],
   "source": [
    "wrong = [(p, e) for (p, e) in zip(predicted, expected) if p != e]"
   ]
  },
  {
   "cell_type": "code",
   "execution_count": 24,
   "metadata": {},
   "outputs": [
    {
     "data": {
      "text/plain": [
       "[(5, 3),\n",
       " (8, 9),\n",
       " (4, 9),\n",
       " (7, 3),\n",
       " (7, 4),\n",
       " (2, 8),\n",
       " (9, 8),\n",
       " (3, 8),\n",
       " (3, 8),\n",
       " (1, 8)]"
      ]
     },
     "execution_count": 24,
     "metadata": {},
     "output_type": "execute_result"
    }
   ],
   "source": [
    "wrong"
   ]
  },
  {
   "cell_type": "markdown",
   "metadata": {},
   "source": [
    "Трансформация списка использует zip для создания кортежей, содержащих соответствующие элементы predicted и expected . Кортеж включается в результат только в том случае, если его значение p (прогнозируемое значение)\n",
    "и e (ожидаемое значение) различны, то есть спрогнозированное значение было неправильным. В этом примере оценщик неправильно спрогнозировал только 10 из 450 тестовых образцов. Таким образом, точность прогнозирования для\n",
    "этого оценщика составила впечатляющую величину 97,78% даже при том, что мы использовали только параметры оценщика по умолчанию."
   ]
  },
  {
   "cell_type": "markdown",
   "metadata": {},
   "source": [
    "### Практический пример: классификация методом k ближайших соседей и набор данных Digits, часть 2\n",
    "\n",
    "Сделаем следующее:\n",
    "* оценим точность оценщика для классификации методом k-NN;\n",
    "* выполним несколько оценщиков и сравним их результаты для выбора наилучшего варианта(-ов);\n",
    "* продемонстрируем настройку гиперпараметра k метода k-NN для достижения оптимальной эффективности KNeighborsClassifier."
   ]
  },
  {
   "cell_type": "markdown",
   "metadata": {},
   "source": [
    "#### Метод score оценщика\n",
    "\n",
    "Каждый оценщик содержит метод score , который возвращает оценку результатов, показанных с тестовыми данными, переданными в аргументах. Для классификационных оценщиков метод возвращает точность прогнозирования для тестовых данных:"
   ]
  },
  {
   "cell_type": "code",
   "execution_count": 25,
   "metadata": {},
   "outputs": [
    {
     "name": "stdout",
     "output_type": "stream",
     "text": [
      "97.78%\n"
     ]
    }
   ],
   "source": [
    "print(f'{knn.score(X_test, y_test):.2%}')"
   ]
  },
  {
   "cell_type": "markdown",
   "metadata": {},
   "source": [
    "Оценщик kNeighborsClassifier со своим значением k по умолчанию (то есть n_neighbors=5) достигает точности прогнозирования 97,78%. Вскоре мы проведем настройку гиперпараметра, чтобы попытаться определить оптимальное значение k и добиться еще более высокой точности. \n",
    "\n",
    "#### Матрица несоответствий \n",
    "\n",
    "Другой способ проверки точности классификационного оценщика основан на использовании матрицы несоответствий, содержащей информацию "
   ]
  },
  {
   "cell_type": "markdown",
   "metadata": {},
   "source": [
    "о правильно и неправильно спрогнозированных значениях (также называемых попаданиями и промахами) для заданного класса. Вызовите функцию confusion_matrix из модуля sklearn.metrics и передайте в аргументах классы expected и predicted:"
   ]
  },
  {
   "cell_type": "code",
   "execution_count": 26,
   "metadata": {},
   "outputs": [],
   "source": [
    "from sklearn.metrics import confusion_matrix"
   ]
  },
  {
   "cell_type": "code",
   "execution_count": 27,
   "metadata": {},
   "outputs": [],
   "source": [
    "confusion = confusion_matrix(y_true=expected, y_pred=predicted)"
   ]
  },
  {
   "cell_type": "markdown",
   "metadata": {},
   "source": [
    "Ключевой аргумент y_true задает фактические классы тестовых образцов. Люди просмотрели изображения в наборе данных и пометили их конкретными классами (цифры). Ключевой аргумент y_pred определяет прогнозируемые\n",
    "цифры для этих тестовых изображений. \n",
    "\n",
    "Ниже приведена матрица несоответствий, полученная по итогам предшествующего вывода. Правильные прогнозы находятся на главной диагонали, проходящей от левого верхнего до правого нижнего угла. Ненулевые значения, не находящиеся на главной диагонали, обозначают ошибочные прогнозы:"
   ]
  },
  {
   "cell_type": "code",
   "execution_count": 28,
   "metadata": {},
   "outputs": [
    {
     "data": {
      "text/plain": [
       "array([[45,  0,  0,  0,  0,  0,  0,  0,  0,  0],\n",
       "       [ 0, 45,  0,  0,  0,  0,  0,  0,  0,  0],\n",
       "       [ 0,  0, 54,  0,  0,  0,  0,  0,  0,  0],\n",
       "       [ 0,  0,  0, 42,  0,  1,  0,  1,  0,  0],\n",
       "       [ 0,  0,  0,  0, 49,  0,  0,  1,  0,  0],\n",
       "       [ 0,  0,  0,  0,  0, 38,  0,  0,  0,  0],\n",
       "       [ 0,  0,  0,  0,  0,  0, 42,  0,  0,  0],\n",
       "       [ 0,  0,  0,  0,  0,  0,  0, 45,  0,  0],\n",
       "       [ 0,  1,  1,  2,  0,  0,  0,  0, 39,  1],\n",
       "       [ 0,  0,  0,  0,  1,  0,  0,  0,  1, 41]])"
      ]
     },
     "execution_count": 28,
     "metadata": {},
     "output_type": "execute_result"
    }
   ],
   "source": [
    "confusion"
   ]
  },
  {
   "cell_type": "markdown",
   "metadata": {},
   "source": [
    "Каждая строка представляет один класс, то есть одну из цифр от 0 до 9.\n",
    "\n",
    "Столбцы обозначают количество тестовых образцов, классифицированных в соответствующий класс. Например, строка 0\n",
    "представляет класс цифры 0. Столбцы представляют 10 возможных целевых классов 0–9. Так как мы работаем с цифрами, классы (0–9) и индексы строк и столбцов (0–9) совпадают. По данным строки, 0, 45 тестового образца были классифицированы как цифра 0, но ни один из тестовых образцов не был ошибочно классифицирован как одна из цифр 1–9. Таким образом, все 100% цифр 0 были спрогнозированы правильно."
   ]
  },
  {
   "cell_type": "markdown",
   "metadata": {},
   "source": [
    "Теперь возьмем строку 8, представляющую результат для цифры 8:\n",
    "\n",
    "[0, 1, 1, 2, 0, 0, 0, 0, 39, 1]\n",
    "\n",
    "* 1 в столбце с индексом 1 означает, что одна цифра 8 была неправильно классифицирована как 1.\n",
    "*  1 в столбце с индексом 2 означает, что одна цифра 8 была неправильно классифицирована как 2.\n",
    "*  2 в столбце с индексом 3 означает, что две цифры 8 были неправильно классифицированы как 3.\n",
    "*  39 в столбце с индексом 8 означает, что 39 цифр 8 были правильно классифицированы как 8.\n",
    "*  1 в столбце с индексом 9 означает, что одна цифра 8 была неправильно классифицирована как 9.\n",
    "\n",
    "Таким образом, алгоритм правильно спрогнозировал 88,63% (39 из 44) всех цифр 8. Позднее было показано, что общая точность прогнозирования этого оценщика составляла 97,78%. Более низкая точность прогнозирования для цифры 8 означает, что она из-за своей формы труднее распознается, чем другие цифры."
   ]
  },
  {
   "cell_type": "markdown",
   "metadata": {},
   "source": [
    "#### Отчет по классификации\n",
    "\n",
    "Модуль sklearn.metrics также предоставляет функцию classification_report, которая выводит [таблицу метрик классификации](https://scikit-learn.org/stable/modules/model_evaluation.html#precision-recall-and-f-measures), основанных на ожидаемых и прогнозируемых значениях:"
   ]
  },
  {
   "cell_type": "code",
   "execution_count": 29,
   "metadata": {},
   "outputs": [],
   "source": [
    "from sklearn.metrics import classification_report"
   ]
  },
  {
   "cell_type": "code",
   "execution_count": 30,
   "metadata": {},
   "outputs": [],
   "source": [
    "names = [str(digit) for digit in digits.target_names]"
   ]
  },
  {
   "cell_type": "code",
   "execution_count": 31,
   "metadata": {},
   "outputs": [
    {
     "name": "stdout",
     "output_type": "stream",
     "text": [
      "              precision    recall  f1-score   support\n",
      "\n",
      "           0       1.00      1.00      1.00        45\n",
      "           1       0.98      1.00      0.99        45\n",
      "           2       0.98      1.00      0.99        54\n",
      "           3       0.95      0.95      0.95        44\n",
      "           4       0.98      0.98      0.98        50\n",
      "           5       0.97      1.00      0.99        38\n",
      "           6       1.00      1.00      1.00        42\n",
      "           7       0.96      1.00      0.98        45\n",
      "           8       0.97      0.89      0.93        44\n",
      "           9       0.98      0.95      0.96        43\n",
      "\n",
      "    accuracy                           0.98       450\n",
      "   macro avg       0.98      0.98      0.98       450\n",
      "weighted avg       0.98      0.98      0.98       450\n",
      "\n"
     ]
    }
   ],
   "source": [
    "print(classification_report(expected, predicted, target_names=names))"
   ]
  },
  {
   "cell_type": "markdown",
   "metadata": {},
   "source": [
    "В этом отчете:\n",
    "\n",
    "* precision — точность, то есть общее количество точных прогнозов для заданной цифры, разделенное на общее количество прогнозов для этой цифры. Точность можно проверить по столбцам матрицы несоответствий. Например, взглянув на столбец с индексом 7, вы увидите значение 1 в строках 3 и 4: это означает, что одна цифра 3 и одна цифра 4 были ошибочно классифицированы как 7. Значение 45 в строке 7 показывает, что 45 изображений были правильно классифицированы как 7. Таким образом, точность для цифры 7 составляет 45/47, или 0,96;\n",
    "* recall — отклик, то есть общее количество правильных прогнозов для заданной цифры, разделенное на общее количество образцов, которые должны были прогнозироваться как эта цифра. Отклик можно проверить по строкам матрицы несоответствий. Например, в строке с индексом 8 встречаются три значения 1 и значение 2; это означает, что некоторые цифры 8 были ошибочно классифицированы как другие цифры, а также значение 39, которое показывает, что 39 изображений были классифицированы правильно. Таким образом, отклик для цифры 8 составляет 39/44, или 0,89;\n",
    "* f1-score — среднее значение точности и отклика;\n",
    "* support — количество образцов с заданным ожидаемым значением. Например, 50 образцов были снабжены меткой 4, а 38 образцов — меткой 5. \n",
    "\n",
    "Подробности о средних значениях в нижней части отчета можно найти [здесь](https://scikit-learn.org/stable/modules/generated/sklearn.metrics.classification_report.html)."
   ]
  },
  {
   "cell_type": "markdown",
   "metadata": {},
   "source": [
    "#### Визуализация матрицы несоответствий\n",
    "\n",
    "На тепловой карте значения представлены цветами; обычно более высоким значениям соответствуют более интенсивные цвета. Функции построения диаграмм Seaborn работают с двумерными данными. При использовании pandas DataFrame в качестве источника данных Seaborn автоматически помечает свои визуализации по именам столбцов и индексам строк. Преобразуем матрицу несоответствий в коллекцию DataFrame , а затем построим ее визуальное представление:"
   ]
  },
  {
   "cell_type": "code",
   "execution_count": 32,
   "metadata": {},
   "outputs": [],
   "source": [
    "import pandas as pd"
   ]
  },
  {
   "cell_type": "code",
   "execution_count": 33,
   "metadata": {},
   "outputs": [],
   "source": [
    "confusion_df = pd.DataFrame(confusion, index=range(10), columns=range(10))"
   ]
  },
  {
   "cell_type": "code",
   "execution_count": 34,
   "metadata": {},
   "outputs": [],
   "source": [
    "import seaborn as sns"
   ]
  },
  {
   "cell_type": "code",
   "execution_count": 35,
   "metadata": {},
   "outputs": [
    {
     "data": {
      "image/png": "[encoded data removed]",
      "text/plain": [
       "<Figure size 432x288 with 2 Axes>"
      ]
     },
     "metadata": {
      "needs_background": "light"
     },
     "output_type": "display_data"
    }
   ],
   "source": [
    "axes = sns.heatmap(confusion_df, annot=True, cmap='nipy_spectral_r')"
   ]
  },
  {
   "cell_type": "markdown",
   "metadata": {},
   "source": [
    "Функция heatmap библиотеки Seaborn строит тепловую карту по заданной коллекции DataFrame . Ключевой аргумент annot=True (сокращение от «annotation») выводит справа от диаграммы цветную полосу, которая обозначает соответствие между значениями и цветами цветовой карты. Ключевой аргумент cmap='nipy_spectral_r' определяет используемую цветовую карту. \n",
    "При выводе матрицы несоответствий в форме цветовой карты главная диагональ и ошибочные прогнозы хорошо выделяются на общем фоне."
   ]
  },
  {
   "cell_type": "markdown",
   "metadata": {},
   "source": [
    "### K-проходная перекрестная проверка\n",
    "\n",
    "K-проходная перекрестная проверка позволяет использовать все данные как для обучения, так и для тестирования. Повторное обучение и тестирование модели с разными частями набора данных помогают лучше понять, как модель справляется с прогнозированием для новых данных. Набор данных разбивается на k частей равного размера (параметр k в данном случае никак не связан с k из алгоритма k ближайших соседей). После этого модель повторно обучается на k–1 частях и тестируется на оставшейся части. Для примера возьмем k=10 с нумерацией частей от 1 до 10. Со всеми частями будут выполнены 10 последовательных циклов обучения и тестирования:\n",
    "* Сначала выполняется обучение на частях 1–9, а затем тестирование с частью 10.\n",
    "* Затем выполняется обучение на частях 1–8 и 10, а затем тестирование с частью 9.\n",
    "* Затем выполняется обучение на частях 1–7 и 9–10, а затем тестирование с частью 8.\n",
    "\n",
    "Цикл обучения и тестирования продолжается до тех пор, пока каждая часть не будет использована для тестирования модели."
   ]
  },
  {
   "cell_type": "markdown",
   "metadata": {},
   "source": [
    "#### Класс KFold\n",
    "\n",
    "Библиотека scikit-learn предоставляет класс KFold и функцию cross_val_score (из модуля sklearn.model_selection) для выполнения описанных выше циклов обучения и тестирования. Выполним k-проходную перекрестную проверку с набором данных Digits и оценщиком KNeighborsClassifier, созданным ранее. Начнем с создания объекта KFold:"
   ]
  },
  {
   "cell_type": "code",
   "execution_count": 36,
   "metadata": {},
   "outputs": [],
   "source": [
    "from sklearn.model_selection import KFold"
   ]
  },
  {
   "cell_type": "code",
   "execution_count": 37,
   "metadata": {},
   "outputs": [],
   "source": [
    "kfold = KFold(n_splits=10, random_state=11, shuffle=True)"
   ]
  },
  {
   "cell_type": "markdown",
   "metadata": {},
   "source": [
    "Ключевые аргументы:\n",
    "* n_splits=10 — количество частей;\n",
    "* random_state=11 — значение инициализации генератора случайных чисел для обеспечения воспроизводимости результатов;\n",
    "* shuffle=True — объект KFold выполняет случайную перестановку данных перед разбиением их на части. Этот шаг особенно важен, если образцы могут быть сгруппированы или упорядочены. Например, набор данных Iris, который будет использован позднее в этой главе, содержит 150 образцов трех разновидностей ирисов: первые пятьдесят относятся к Iris setosa, следующие пятьдесят — к Iris versicolor, а последние 5 пятьдесят 0 — к Iris virginica. Если не переставить образцы, то может оказаться, что в обучающих данных нет ни одного образца конкретного вида ирисов, а тестовые данные состоят из данных одного вида."
   ]
  },
  {
   "cell_type": "markdown",
   "metadata": {},
   "source": [
    "Использование объекта KFold с функцией cross_val_score Затем воспользуемся функцией cross_val_score для обучения и тестирования модели:\n"
   ]
  },
  {
   "cell_type": "code",
   "execution_count": 38,
   "metadata": {},
   "outputs": [],
   "source": [
    "from sklearn.model_selection import cross_val_score"
   ]
  },
  {
   "cell_type": "code",
   "execution_count": 39,
   "metadata": {},
   "outputs": [],
   "source": [
    "scores = cross_val_score(estimator=knn, X=digits.data, y=digits.target, cv=kfold)"
   ]
  },
  {
   "cell_type": "markdown",
   "metadata": {},
   "source": [
    "Ключевые аргументы:\n",
    "* estimator=knn — оценщик, который вы хотите проверить;\n",
    "* X=digits.data — образцы, используемые для обучения и тестирования;\n",
    "* y=digits.target — прогнозы целевых значений для образцов;\n",
    "* cv=kfold — генератор перекрестной проверки, определяющий способ разбиения образцов и целевых значений для обучения и тестирования. \n",
    "\n",
    "Функция cross_val_score возвращает массив показателей точности — по одной для каждой части. Как видно из следующего вывода, модель была достаточно точной. Наименьший показатель точности составил 0,97777778\n",
    "(97,78%), а в одном случае при прогнозировании всей части была достигнута 100-процентная точность:"
   ]
  },
  {
   "cell_type": "code",
   "execution_count": 40,
   "metadata": {},
   "outputs": [
    {
     "data": {
      "text/plain": [
       "array([0.97777778, 0.99444444, 0.98888889, 0.97777778, 0.98888889,\n",
       "       0.99444444, 0.97777778, 0.98882682, 1.        , 0.98324022])"
      ]
     },
     "execution_count": 40,
     "metadata": {},
     "output_type": "execute_result"
    }
   ],
   "source": [
    "scores"
   ]
  },
  {
   "cell_type": "markdown",
   "metadata": {},
   "source": [
    "Располагая частичными показателями точности, можно получить общее представление о точности модели. Для этого можно вычислить средний показатель точности и стандартное отклонение по 10 показателям точности (или другому\n",
    "выбранному вами количеству частей):"
   ]
  },
  {
   "cell_type": "code",
   "execution_count": 41,
   "metadata": {},
   "outputs": [
    {
     "name": "stdout",
     "output_type": "stream",
     "text": [
      "Mean accuracy: 98.72%\n"
     ]
    }
   ],
   "source": [
    "print(f'Mean accuracy: {scores.mean():.2%}')"
   ]
  },
  {
   "cell_type": "code",
   "execution_count": 42,
   "metadata": {},
   "outputs": [
    {
     "name": "stdout",
     "output_type": "stream",
     "text": [
      "Accuracy standard deviation: 0.75%\n"
     ]
    }
   ],
   "source": [
    "print(f'Accuracy standard deviation: {scores.std():.2%}')"
   ]
  },
  {
   "cell_type": "markdown",
   "metadata": {},
   "source": [
    "В среднем модель обеспечивала точность 98,72%, то есть даже больше, чем в предыдущем варианте, когда 75% данных использовалось для обучения, а 25% — для тестирования."
   ]
  },
  {
   "cell_type": "markdown",
   "metadata": {},
   "source": [
    "#### Выполнение нескольких моделей для поиска наилучшей\n",
    "\n",
    "Трудно заранее определить, какая модель машинного обучения будет оптимальной для конкретного набора данных, особенно если подробности их работы скрыты от пользователя. И хотя KNeighborsClassifier прогнозирует изображения цифр с высокой точностью, может оказаться, что другие оценщики scikit-learn работают еще точнее. Scikit-learn предоставляет много моделей, позволяющих быстро провести обучение и тестирование данных. Это позволяет запустить несколько разных моделей и определить, какая из них лучше подходит для конкретного практического сценария.\n",
    "Воспользуемся методами из предыдущего раздела для сравнения нескольких классификационных оценщиков — KNeighborsClassifier , SVC и GaussianNB (существуют и другие). И хотя оценщики SVC и GaussianNB ранее не описыва-\n",
    "лись, scikit-learn позволяет легко опробовать их с настройками по умолчанию. \n",
    "\n",
    "Импортируем двух других оценщиков:"
   ]
  },
  {
   "cell_type": "code",
   "execution_count": 43,
   "metadata": {},
   "outputs": [],
   "source": [
    "from sklearn.svm import SVC"
   ]
  },
  {
   "cell_type": "code",
   "execution_count": 44,
   "metadata": {},
   "outputs": [],
   "source": [
    "from sklearn.naive_bayes import GaussianNB"
   ]
  },
  {
   "cell_type": "markdown",
   "metadata": {},
   "source": [
    "Теперь необходимо создать оценщиков. Следующий словарь содержит пары «ключ-значение» для существующего оценщика KNeighborsClassifier, созданного ранее, а также новых оценщиков SVC и GaussianNB:"
   ]
  },
  {
   "cell_type": "code",
   "execution_count": 45,
   "metadata": {},
   "outputs": [],
   "source": [
    "estimators = {\n",
    "    'KNeighborsClassifier': knn,\n",
    "    'SVC': SVC(gamma='scale'),\n",
    "    'GaussianNB': GaussianNB()}"
   ]
  },
  {
   "cell_type": "markdown",
   "metadata": {},
   "source": [
    "После этого можно переходить к выполнению модели:"
   ]
  },
  {
   "cell_type": "code",
   "execution_count": 46,
   "metadata": {},
   "outputs": [
    {
     "name": "stdout",
     "output_type": "stream",
     "text": [
      "KNeighborsClassifier: mean accuracy=98.72%; standard deviation=0.75%\n",
      "                 SVC: mean accuracy=98.72%; standard deviation=0.79%\n",
      "          GaussianNB: mean accuracy=84.48%; standard deviation=3.47%\n"
     ]
    }
   ],
   "source": [
    "for estimator_name, estimator_object in estimators.items():\n",
    "    kfold = KFold(n_splits=10, random_state=11, shuffle=True)\n",
    "    scores = cross_val_score(estimator=estimator_object,\n",
    "                             X=digits.data, y=digits.target, cv=kfold)\n",
    "    print(f'{estimator_name:>20}: ' +\n",
    "          f'mean accuracy={scores.mean():.2%}; ' +\n",
    "          f'standard deviation={scores.std():.2%}')\n",
    "    "
   ]
  },
  {
   "cell_type": "markdown",
   "metadata": {},
   "source": [
    "Цикл перебирает элементы словаря estimators и для каждой пары «ключ-значение» выполняет следующие операции:\n",
    "\n",
    "* распаковывает ключ в estimator_name , а значение — в estimator_object;\n",
    "* создает объект KFold , осуществляющий случайную перестановку данных и формирующий 10 частей. В данном случае ключевой аргумент random_state особенно важен — он гарантирует, что все оценщики будут работать с идентичными частями (чтобы эффективность сравнивалась по одним исходным данным);\n",
    "* оценивает текущий объект estimator_object с использованием cross_val_score;\n",
    "* выводит имя оценщика, за которым следует математическое ожидание и стандартное отклонение для оценок точности, вычисленных для всех 10 частей."
   ]
  },
  {
   "cell_type": "markdown",
   "metadata": {},
   "source": [
    "Судя по результатам, оценщик SVC обеспечивает лучшую точность — по крайней мере, с настройками по умолчанию. Возможно, настройка некоторых параметров позволит добиться еще более точных результатов. \n",
    "\n",
    "Точности оценщиков KNeighborsClassifier и SVC почти идентичны, поэтому стоит провести настройку гиперпараметров каждого оценщика для выбора лучшего варианта."
   ]
  },
  {
   "cell_type": "markdown",
   "metadata": {},
   "source": [
    "В документации scikit-learn приведена [полезная диаграмма](https://scikit-learn.org/stable/tutorial/machine_learning_map/index.html) для выбора правильного оценщика в зависимости от размера и типа данных, а также поставленной задачи машинного обучения."
   ]
  },
  {
   "cell_type": "markdown",
   "metadata": {},
   "source": [
    "### Настройка гиперпараметров\n",
    "\n",
    "Ранее в этом разделе мы упоминали, что k в алгоритме k ближайших соседей является гиперпараметром алгоритма. Гиперпараметры задаются до того, как алгоритм начнет использоваться для обучения модели. В реальных исследованиях в процессе настройки гиперпараметров должны быть выбраны значения гиперпараметров, которые обеспечивают лучшие возможные прогнозы.\n",
    "\n",
    "Чтобы определить лучшее значение k в алгоритме k-NN, поэкспериментируйте с разными значениями k и сравните эффективность оценщика в каждом варианте. Для этого можно воспользоваться теми же методами, что и при сравнении\n",
    "оценщиков. Следующий цикл создает объект KNeighborsClassifiers с нечетными значениями k от 1 до 19 (как упоминалось ранее, нечетные значения k в k-NN предотвращают неоднозначные ситуации с «ничейными» результатами) и выполняет k-проходную перекрестную проверку для каждого варианта. \n",
    "\n",
    "Как видно из оценок точности и стандартных отклонений, при значении k = 1 достигается наибольшая точность прогнозирования для набора данных Digits. \n",
    "\n",
    "Рост значений k ведет к снижению точности:"
   ]
  },
  {
   "cell_type": "code",
   "execution_count": 47,
   "metadata": {},
   "outputs": [
    {
     "name": "stdout",
     "output_type": "stream",
     "text": [
      "k=1 ; mean accuracy=98.83%; standard deviation=0.58%\n",
      "k=3 ; mean accuracy=98.78%; standard deviation=0.78%\n",
      "k=5 ; mean accuracy=98.72%; standard deviation=0.75%\n",
      "k=7 ; mean accuracy=98.44%; standard deviation=0.96%\n",
      "k=9 ; mean accuracy=98.39%; standard deviation=0.80%\n",
      "k=11; mean accuracy=98.39%; standard deviation=0.80%\n",
      "k=13; mean accuracy=97.89%; standard deviation=0.89%\n",
      "k=15; mean accuracy=97.89%; standard deviation=1.02%\n",
      "k=17; mean accuracy=97.50%; standard deviation=1.00%\n",
      "k=19; mean accuracy=97.66%; standard deviation=0.96%\n"
     ]
    }
   ],
   "source": [
    "for k in range(1, 20, 2):\n",
    "    kfold = KFold(n_splits=10, random_state=11, shuffle=True)\n",
    "    knn = KNeighborsClassifier(n_neighbors=k)\n",
    "    scores = cross_val_score(estimator=knn,\n",
    "                             X=digits.data, y=digits.target, cv=kfold)\n",
    "    print(f'k={k:<2}; mean accuracy={scores.mean():.2%}; ' +\n",
    "          f'standard deviation={scores.std():.2%}')"
   ]
  },
  {
   "cell_type": "markdown",
   "metadata": {},
   "source": [
    "При проведении машинного обучения, особенно с переходом к большим данным и глубокому обучению, исследователь должен знать и свои данные, и свои инструменты. Например, с ростом k время обработки стремительно возрастает,\n",
    "потому что метод k-NN должен выполнить больше вычислений для нахождения ближайших соседей. Применение функции cross_validate позволяет провести перекрестную проверку и выполнить хронометраж результатов."
   ]
  },
  {
   "cell_type": "code",
   "execution_count": null,
   "metadata": {},
   "outputs": [],
   "source": []
  }
 ],
 "metadata": {
  "kernelspec": {
   "display_name": "Python 3",
   "language": "python",
   "name": "python3"
  },
  "language_info": {
   "codemirror_mode": {
    "name": "ipython",
    "version": 3
   },
   "file_extension": ".py",
   "mimetype": "text/x-python",
   "name": "python",
   "nbconvert_exporter": "python",
   "pygments_lexer": "ipython3",
   "version": "3.7.3"
  }
 },
 "nbformat": 4,
 "nbformat_minor": 4
}
