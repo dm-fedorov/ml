{
 "cells": [
  {
   "cell_type": "markdown",
   "metadata": {},
   "source": [
    "Рекомендую: [Think Stats is an introduction to Probability and Statistics for Python programmers](https://greenteapress.com/wp/think-stats-2e/)"
   ]
  },
  {
   "cell_type": "markdown",
   "metadata": {},
   "source": [
    "### Представление данных"
   ]
  },
  {
   "cell_type": "markdown",
   "metadata": {},
   "source": [
    "Параметр, который мы рассматриваем для статистического анализа, - это набор нескольких наблюдений или выборок, описываемых набором различных атрибутов или признаков. Данные можно затем представить в виде 2D-таблицы или матрицы, в которой столбцы содержат различные атрибуты данных и располагают ряды наблюдений. Например, данные, содержащиеся в examples/brain_size.csv:"
   ]
  }
 ],
 "metadata": {
  "kernelspec": {
   "display_name": "Python 3",
   "language": "python",
   "name": "python3"
  },
  "language_info": {
   "codemirror_mode": {
    "name": "ipython",
    "version": 3
   },
   "file_extension": ".py",
   "mimetype": "text/x-python",
   "name": "python",
   "nbconvert_exporter": "python",
   "pygments_lexer": "ipython3",
   "version": "3.7.3"
  }
 },
 "nbformat": 4,
 "nbformat_minor": 2
}
