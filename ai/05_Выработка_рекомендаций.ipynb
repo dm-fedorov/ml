{
  "nbformat": 4,
  "nbformat_minor": 0,
  "metadata": {
    "kernelspec": {
      "display_name": "Python 3",
      "language": "python",
      "name": "python3"
    },
    "language_info": {
      "codemirror_mode": {
        "name": "ipython",
        "version": 3
      },
      "file_extension": ".py",
      "mimetype": "text/x-python",
      "name": "python",
      "nbconvert_exporter": "python",
      "pygments_lexer": "ipython3",
      "version": "3.7.3"
    },
    "colab": {
      "name": "05. Выработка рекомендаций",
      "provenance": []
    }
  },
  "cells": [
    {
      "cell_type": "markdown",
      "metadata": {
        "id": "w6Ma4xIyCFn4",
        "colab_type": "text"
      },
      "source": [
        "### Выработка рекомендаций"
      ]
    },
    {
      "cell_type": "markdown",
      "metadata": {
        "id": "DsjIIdkZCFn7",
        "colab_type": "text"
      },
      "source": [
        "В этом словаре критик выставляет фильму оценку от 1 до 5. Как бы ни было выражено предпочтение, необходимо отобразить его в виде числового значения. Если бы вы создавали сайт для онлайновой торговли, то могли бы использовать 1 как признак того, что посетитель делал покупки в прошлом, и 0 – что не делал."
      ]
    },
    {
      "cell_type": "code",
      "metadata": {
        "id": "cPz2wh09CFn7",
        "colab_type": "code",
        "colab": {}
      },
      "source": [
        "# A dictionary of movie critics and their ratings of a set of movie\n",
        "critics = {'Lisa Rose': {'Lady in the Water': 2.5, 'Snakes on a Plane': 3.5,\n",
        "                         'Just My Luck': 3.0, 'Superman Returns': 3.5,\n",
        "                         'You, Me and Dupree': 2.5, 'The Night Listener': 3.0},\n",
        "           'Gene Seymour': {'Lady in the Water': 3.0, 'Snakes on a Plane': 3.5,\n",
        "                            'Just My Luck': 1.5, 'Superman Returns': 5.0,\n",
        "                            'The Night Listener': 3.0,\n",
        "                            'You, Me and Dupree': 3.5},\n",
        "           'Michael Phillips': {'Lady in the Water': 2.5,\n",
        "                                'Snakes on a Plane': 3.0,\n",
        "                                'Superman Returns': 3.5,\n",
        "                                'The Night Listener': 4.0},\n",
        "           'Claudia Puig': {'Snakes on a Plane': 3.5, 'Just My Luck': 3.0,\n",
        "                            'The Night Listener': 4.5, 'Superman Returns': 4.0,\n",
        "                            'You, Me and Dupree': 2.5},\n",
        "           'Mick LaSalle': {'Lady in the Water': 3.0, 'Snakes on a Plane': 4.0,\n",
        "                            'Just My Luck': 2.0, 'Superman Returns': 3.0,\n",
        "                            'The Night Listener': 3.0,\n",
        "                            'You, Me and Dupree': 2.0},\n",
        "           'Jack Matthews': {'Lady in the Water': 3.0, 'Snakes on a Plane': 4.0,\n",
        "                             'The Night Listener': 3.0, 'Superman Returns': 5.0,\n",
        "                             'You, Me and Dupree': 3.5},\n",
        "           'Toby': {'Snakes on a Plane': 4.5, 'You, Me and Dupree': 1.0,\n",
        "                    'Superman Returns': 4.0}}"
      ],
      "execution_count": 0,
      "outputs": []
    },
    {
      "cell_type": "code",
      "metadata": {
        "id": "nLtEtqFfCFoB",
        "colab_type": "code",
        "outputId": "533e7c8c-5367-49f1-ddb5-e4cd4827ce10",
        "colab": {
          "base_uri": "https://localhost:8080/",
          "height": 121
        }
      },
      "source": [
        "critics['Lisa Rose']"
      ],
      "execution_count": 0,
      "outputs": [
        {
          "output_type": "execute_result",
          "data": {
            "text/plain": [
              "{'Just My Luck': 3.0,\n",
              " 'Lady in the Water': 2.5,\n",
              " 'Snakes on a Plane': 3.5,\n",
              " 'Superman Returns': 3.5,\n",
              " 'The Night Listener': 3.0,\n",
              " 'You, Me and Dupree': 2.5}"
            ]
          },
          "metadata": {
            "tags": []
          },
          "execution_count": 2
        }
      ]
    },
    {
      "cell_type": "markdown",
      "metadata": {
        "id": "MAvNmOmBCFoE",
        "colab_type": "text"
      },
      "source": [
        "Собрав данные о том, что людям нравится, нужно как-то определить, насколько их вкусы схожи. \n",
        "\n",
        "Для этого каждый человек сравнивается со всеми другими и вычисляется коэффициент подобия (или оценка подобия). \n",
        "\n",
        "Для этого есть несколько способов: евклидово расстояние и коэффициент корреляции Пирсона."
      ]
    },
    {
      "cell_type": "markdown",
      "metadata": {
        "id": "C_G2IMw6CFoF",
        "colab_type": "text"
      },
      "source": [
        "### Оценка по евклидову расстоянию"
      ]
    },
    {
      "cell_type": "markdown",
      "metadata": {
        "id": "CpL4TXGyCFoG",
        "colab_type": "text"
      },
      "source": [
        "В этом случае предметы, которые люди оценивали сообща, представляются в виде координатных осей. Теперь в этой системе координат можно расположить точки, соответствующие людям, и посмотреть, насколько они оказались близки.\n"
      ]
    },
    {
      "cell_type": "markdown",
      "metadata": {
        "id": "Z7ejeBFECFoH",
        "colab_type": "text"
      },
      "source": [
        "![alt text](https://github.com/dm-fedorov/ml/blob/master/%D0%92%D1%8B%D1%80%D0%B0%D0%B1%D0%BE%D1%82%D0%BA%D0%B0%20%D1%80%D0%B5%D0%BA%D0%BE%D0%BC%D0%B5%D0%BD%D0%B4%D0%B0%D1%86%D0%B8%D0%B9/1.jpg?raw=1)\n"
      ]
    },
    {
      "cell_type": "markdown",
      "metadata": {
        "id": "4STEiZTNCFoH",
        "colab_type": "text"
      },
      "source": [
        "Чем ближе два человека в пространстве предпочтений, тем более схожи их предпочтения. \n",
        "\n",
        "Поскольку эта диаграмма двумерная, то одновременно можно смотреть только на два показателя, но принцип остается тем же самым и для большего числа показателей. \n",
        "\n",
        "Чтобы вычислить расстояние между `Toby` и `LaSalle` на этой диаграмме, возьмем разности координат по каждой оси, возведем их в квадрат, сложим, а затем извлечем квадратный корень из суммы: "
      ]
    },
    {
      "cell_type": "code",
      "metadata": {
        "id": "MyXZHzB-CFoI",
        "colab_type": "code",
        "outputId": "72d8b235-1a85-429d-f1c9-8a4217159c83",
        "colab": {
          "base_uri": "https://localhost:8080/",
          "height": 35
        }
      },
      "source": [
        "from math import sqrt\n",
        "sqrt(pow(5-4, 2) + pow(4-1, 2))"
      ],
      "execution_count": 0,
      "outputs": [
        {
          "output_type": "execute_result",
          "data": {
            "text/plain": [
              "3.1622776601683795"
            ]
          },
          "metadata": {
            "tags": []
          },
          "execution_count": 3
        }
      ]
    },
    {
      "cell_type": "markdown",
      "metadata": {
        "id": "hihZqIWiCFoM",
        "colab_type": "text"
      },
      "source": [
        "Расстояние, вычисленное по этой формуле, будет тем меньше, чем больше сходства между людьми. Однако нам нужна функция, значение которой тем больше, чем люди более похожи друг на друга. Этого можно добиться, добавив к вычисленному расстоянию 1 (чтобы никогда не делить на 0) и взяв обратную величину:\n"
      ]
    },
    {
      "cell_type": "code",
      "metadata": {
        "id": "KbK1BKNrCFoN",
        "colab_type": "code",
        "outputId": "60257304-09b6-49da-e802-f54571ab668c",
        "colab": {
          "base_uri": "https://localhost:8080/",
          "height": 35
        }
      },
      "source": [
        "1/(1 + sqrt(pow(5-4, 2)+pow(4-1, 2)))"
      ],
      "execution_count": 0,
      "outputs": [
        {
          "output_type": "execute_result",
          "data": {
            "text/plain": [
              "0.2402530733520421"
            ]
          },
          "metadata": {
            "tags": []
          },
          "execution_count": 4
        }
      ]
    },
    {
      "cell_type": "markdown",
      "metadata": {
        "id": "4hQN2yOPCFoR",
        "colab_type": "text"
      },
      "source": [
        "Новая функция всегда возвращает значение от 0 до 1, причем 1 получается, когда предпочтения двух людей в точности совпадают. Теперь можно собрать все воедино и написать функцию для вычисления оценки подобия."
      ]
    },
    {
      "cell_type": "code",
      "metadata": {
        "id": "XQwXr4nVCFoS",
        "colab_type": "code",
        "colab": {}
      },
      "source": [
        "def sim_distance(prefs, person1, person2):\n",
        "    '''Return a distance-based similarity score for person1 and person2.'''\n",
        "    # get the list of shared items\n",
        "    si = {}\n",
        "    for item in prefs[person1]:\n",
        "        if item in prefs[person2]:\n",
        "            si[item] = 1\n",
        "\n",
        "    # if no ratings in common, return 0\n",
        "    if len(si) == 0:\n",
        "        return 0\n",
        "\n",
        "    # add up the squares of all the differences\n",
        "    sum_of_squares = sum([pow(prefs[person1][item] - prefs[person2][item], 2)\n",
        "                          for item in prefs[person1] if item in prefs[person2]])\n",
        "    return 1/(1 + sum_of_squares) # between (0, 1)"
      ],
      "execution_count": 0,
      "outputs": []
    },
    {
      "cell_type": "markdown",
      "metadata": {
        "id": "oETT50DLCFoX",
        "colab_type": "text"
      },
      "source": [
        "Этой функции при вызове передаются имена двух людей, для которых требуется вычислить оценку подобия."
      ]
    },
    {
      "cell_type": "code",
      "metadata": {
        "id": "dK2F2SkOCFoY",
        "colab_type": "code",
        "outputId": "75de17bd-0c7e-4fee-e981-e0b3429790d0",
        "colab": {
          "base_uri": "https://localhost:8080/",
          "height": 35
        }
      },
      "source": [
        "sim_distance(critics,'Lisa Rose', 'Gene Seymour')"
      ],
      "execution_count": 0,
      "outputs": [
        {
          "output_type": "execute_result",
          "data": {
            "text/plain": [
              "0.14814814814814814"
            ]
          },
          "metadata": {
            "tags": []
          },
          "execution_count": 6
        }
      ]
    },
    {
      "cell_type": "markdown",
      "metadata": {
        "id": "3j4vjhbGCFod",
        "colab_type": "text"
      },
      "source": [
        "Получили оценку подобия между `Lisa Rose` и `Gene Seymour`."
      ]
    },
    {
      "cell_type": "markdown",
      "metadata": {
        "id": "nsDNpYG1CFoe",
        "colab_type": "text"
      },
      "source": [
        "### Коэффициент корреляции Пирсона"
      ]
    },
    {
      "cell_type": "markdown",
      "metadata": {
        "id": "wREiDAcRCFoe",
        "colab_type": "text"
      },
      "source": [
        "`Коэффициент корреляции Пирсона` – это мера того, насколько хорошо два набора данных ложатся на прямую. \n",
        "\n",
        "Формула сложнее, чем для вычисления евклидова расстояния, но она дает лучшие результаты, когда данные плохо нормализованы, например если некоторый критик устойчиво выставляет фильмам более низкие оценки, чем в среднем.\n",
        "\n",
        "Для визуализации этого метода можете нанести на диаграмму оценки, выставленные двумя критиками, как показано на следующем рисунке. \n",
        "\n",
        "`Mick LaSalle` оценил фильм `«Superman»` на 3, а `Gene Seymour` – на 5, поэтому мы наносим точку (3, 5)."
      ]
    },
    {
      "cell_type": "markdown",
      "metadata": {
        "id": "9ALZD5PwCFof",
        "colab_type": "text"
      },
      "source": [
        "![alt text](https://github.com/dm-fedorov/ml/blob/master/%D0%92%D1%8B%D1%80%D0%B0%D0%B1%D0%BE%D1%82%D0%BA%D0%B0%20%D1%80%D0%B5%D0%BA%D0%BE%D0%BC%D0%B5%D0%BD%D0%B4%D0%B0%D1%86%D0%B8%D0%B9/2.jpg?raw=1)"
      ]
    },
    {
      "cell_type": "markdown",
      "metadata": {
        "id": "52heUW0iCFog",
        "colab_type": "text"
      },
      "source": [
        "На диаграмме также изображена прямая линия. Она называется `линией наилучшего приближения`, поскольку проходит настолько близко ко всем точкам на диаграмме, насколько возможно. Если бы оба критика выставили всем фильмам одинаковые оценки, то эта линия оказалась бы диагональной и прошла бы через все точки. В этом случае получилась бы идеальная корреляция с коэффициентом 1. \n",
        "\n",
        "Но в нашем случае критики разошлись в оценках, поэтому коэффициент корреляции равен 0,4. \n",
        "\n",
        "На следующем рисунке показан пример с гораздо более высоким коэффициентом корреляции 0,75."
      ]
    },
    {
      "cell_type": "markdown",
      "metadata": {
        "id": "80-AtOzfCFoh",
        "colab_type": "text"
      },
      "source": [
        "![alt text](https://github.com/dm-fedorov/ml/blob/master/%D0%92%D1%8B%D1%80%D0%B0%D0%B1%D0%BE%D1%82%D0%BA%D0%B0%20%D1%80%D0%B5%D0%BA%D0%BE%D0%BC%D0%B5%D0%BD%D0%B4%D0%B0%D1%86%D0%B8%D0%B9/3.jpg?raw=1)"
      ]
    },
    {
      "cell_type": "markdown",
      "metadata": {
        "id": "hAdX5J_tCFoi",
        "colab_type": "text"
      },
      "source": [
        "У коэффициента корреляции Пирсона есть одно интересное свойство, которое можно наблюдать на рисунке – он корректирует обесценивание оценок. \n",
        "\n",
        "Видно, что Jack Matthews систематически выставляет более высокие оценки, чем Lisa Rose, но линия все равно проходит близко к точкам, поскольку их предпочтения схожи. Если один критик склонен выставлять более высокие оценки, чем другой, то идеальная корреляция все равно возможна при условии, что разница в оценках постоянна. \n",
        "\n",
        "Метод евклидова расстояния в этом случае выдал бы результат, что критики не похожи, поскольку один всегда оказывается строже другого, несмотря на то что их вкусы, по существу, очень сходны. "
      ]
    },
    {
      "cell_type": "markdown",
      "metadata": {
        "id": "T2ssn_nACFoi",
        "colab_type": "text"
      },
      "source": [
        "Программа для вычисления коэффициента корреляции Пирсона сначала находит фильмы, оцененные обоими критиками, и вычисляет сумму и сумму квадратов выставленных ими оценок, а также сумму произведений оценок. \n",
        "\n",
        "На последнем этапе найденные значения используются для вычисления коэффициента корреляции."
      ]
    },
    {
      "cell_type": "code",
      "metadata": {
        "id": "3WNUrNLyCFoj",
        "colab_type": "code",
        "colab": {}
      },
      "source": [
        "def sim_pearson(prefs, p1, p2):\n",
        "    '''Return the Pearson correlation coefficient for p1 and p2.'''\n",
        "    # get the list of shared items\n",
        "    si = {}\n",
        "    for item in prefs[p1]:\n",
        "        if item in prefs[p2]:\n",
        "            si[item] = 1\n",
        "\n",
        "    # find the number of elements\n",
        "    n = len(si)\n",
        "\n",
        "    # if no ratings in common, return 0\n",
        "    if len(si) == 0:\n",
        "        return 0\n",
        "\n",
        "    # add up all the preferences\n",
        "    sum1 = sum([prefs[p1][item] for item in si])\n",
        "    sum2 = sum([prefs[p2][item] for item in si])\n",
        "\n",
        "    # sum up the squares\n",
        "    sum1Sq = sum([pow(prefs[p1][item], 2) for item in si])\n",
        "    sum2Sq = sum([pow(prefs[p2][item], 2) for item in si])\n",
        "\n",
        "    # sum up the products\n",
        "    pSum = sum([prefs[p1][item] * prefs[p2][item] for item in si])\n",
        "\n",
        "    # calculate Pearson score\n",
        "    num = pSum - (sum1 * sum2)/n\n",
        "    den = sqrt((sum1Sq - pow(sum1, 2)/n) * (sum2Sq - pow(sum2, 2)/n))\n",
        "    if den == 0:\n",
        "        return 0\n",
        "    else:\n",
        "        return num/den # between(-1, 1)"
      ],
      "execution_count": 0,
      "outputs": []
    },
    {
      "cell_type": "markdown",
      "metadata": {
        "id": "cCcXANOpCFor",
        "colab_type": "text"
      },
      "source": [
        "Эта функция возвращает значение от –1 до 1. \n",
        "\n",
        "Значение 1 означает, что два человека выставили каждому предмету в точности одинаковые оценки. В отличие от евклидовой метрики, масштабировать возвращенное значение для приведения к нужному диапазону не требуется."
      ]
    },
    {
      "cell_type": "code",
      "metadata": {
        "id": "xQaYBhHHCFos",
        "colab_type": "code",
        "outputId": "3a4765ef-3e85-4fe4-e240-340c2db54206",
        "colab": {
          "base_uri": "https://localhost:8080/",
          "height": 35
        }
      },
      "source": [
        "sim_pearson(critics, 'Lisa Rose','Gene Seymour')"
      ],
      "execution_count": 0,
      "outputs": [
        {
          "output_type": "execute_result",
          "data": {
            "text/plain": [
              "0.39605901719066977"
            ]
          },
          "metadata": {
            "tags": []
          },
          "execution_count": 8
        }
      ]
    },
    {
      "cell_type": "markdown",
      "metadata": {
        "id": "kupBHpLACFov",
        "colab_type": "text"
      },
      "source": [
        "### Ранжирование критиков"
      ]
    },
    {
      "cell_type": "markdown",
      "metadata": {
        "id": "ffdCEqabCFov",
        "colab_type": "text"
      },
      "source": [
        "Имея функции для сравнения двух людей, можно написать функцию, которая будет вычислять оценку подобия всех имеющихся людей с данным человеком и искать наилучшее соответствие. \n",
        "\n",
        "В данном случае интересуют кинокритики с таким же вкусом, как у меня. Тогда я буду знать, на кого ориентироваться, принимая решение о выборе фильма. \n",
        "\n",
        "Возвращает первые n элементов отсортированного списка результатов."
      ]
    },
    {
      "cell_type": "code",
      "metadata": {
        "id": "L06tZ0A1CFow",
        "colab_type": "code",
        "colab": {}
      },
      "source": [
        "def topMatches(prefs, person, n=5, similarity=sim_pearson):\n",
        "    '''Return the best matches for person from the prefs dictionary.'''\n",
        "    scores = [(similarity(prefs, person, other), other)\n",
        "              for other in prefs if other != person]\n",
        "    # sort the list so the highest scores appear at the top\n",
        "    scores.sort(reverse = True)\n",
        "    return scores[0:n]"
      ],
      "execution_count": 0,
      "outputs": []
    },
    {
      "cell_type": "code",
      "metadata": {
        "id": "xtIslFdoCFo0",
        "colab_type": "code",
        "outputId": "38d76b22-fe3d-4cf6-b6b5-68d5f901d244",
        "colab": {
          "base_uri": "https://localhost:8080/",
          "height": 69
        }
      },
      "source": [
        " topMatches(critics,'Toby',n=3)"
      ],
      "execution_count": 0,
      "outputs": [
        {
          "output_type": "execute_result",
          "data": {
            "text/plain": [
              "[(0.9912407071619299, 'Lisa Rose'),\n",
              " (0.9244734516419049, 'Mick LaSalle'),\n",
              " (0.8934051474415647, 'Claudia Puig')]"
            ]
          },
          "metadata": {
            "tags": []
          },
          "execution_count": 10
        }
      ]
    },
    {
      "cell_type": "markdown",
      "metadata": {
        "id": "KuUfHanxCFo3",
        "colab_type": "text"
      },
      "source": [
        "### Рекомендование предметов"
      ]
    },
    {
      "cell_type": "markdown",
      "metadata": {
        "id": "LLsT6nFKCFo4",
        "colab_type": "text"
      },
      "source": [
        "В действительности я хочу, чтобы мне порекомендовали фильм. \n",
        "\n",
        "Можно было бы посмотреть, какие фильмы понравились человеку с похожими на мои вкусами, и выбрать из них те, что я еще не смотрел. Но при таком подходе можно было бы случайно наткнуться на критиков, ничего не писавших о фильмах, которые могли бы мне понравиться. \n",
        "\n",
        "Можно также отобрать критика, которому почему-то понравился фильм, получивший отрицательные отзывы от всех остальных критиков, вошедших в список topMatches.\n",
        "\n",
        "Чтобы разрешить эти проблемы, необходимо ранжировать сами фильмы, вычислив взвешенную сумму оценок критиков. Берем каждого из отобранных критиков и умножаем его оценку подобия со мной на оценку, которую он выставил каждому фильму. \n",
        "\n",
        "В таблице показан результат вычислений."
      ]
    },
    {
      "cell_type": "markdown",
      "metadata": {
        "id": "PsDBpzMPCFo5",
        "colab_type": "text"
      },
      "source": [
        "![alt text](https://github.com/dm-fedorov/ml/blob/master/%D0%92%D1%8B%D1%80%D0%B0%D0%B1%D0%BE%D1%82%D0%BA%D0%B0%20%D1%80%D0%B5%D0%BA%D0%BE%D0%BC%D0%B5%D0%BD%D0%B4%D0%B0%D1%86%D0%B8%D0%B9/4.jpg?raw=1)"
      ]
    },
    {
      "cell_type": "markdown",
      "metadata": {
        "id": "GaoQYdUaCFo5",
        "colab_type": "text"
      },
      "source": [
        "В таблице приведены коэффициенты корреляции для каждого критика и оценки, поставленные ими трем фильмам («The Night Listener», «Lady in the Water» и «Just My Luck»), которые я сам не оценивал. \n",
        "\n",
        "В столбцах «П.x» находится произведение коэффициента подобия на оценку, выставленную критиком. Смысл в том, чтобы мнение критика с похожими на мои вкусами вносило больший вклад в общую оценку, чем мнение критика, не похожего на меня. В строке «Итого» приведены суммы вычисленных таким образом величин. \n",
        "\n",
        "Можно было бы использовать для ранжирования сами эти суммы, но тогда фильм, который просмотрело больше людей, получил бы преимущество. Чтобы исправить эту несправедливость, необходимо разделить полученную величину на сумму коэффициентов подобия для всех критиков, которые рецензировали фильм (строка «S подоб.» в таблице). \n",
        "\n",
        "Поскольку фильм «The Night Listener» рецензировали все, величина «Итого» для него делится на сумму всех коэффициентов подобия. Напротив, фильм «Lady in the Water» критик Puig не рецензировал, следовательно, в этом случае величина «Итого» делится на сумму коэффициентов подобия всех критиков, кроме Puig. В последней строке показано частное от деления."
      ]
    },
    {
      "cell_type": "code",
      "metadata": {
        "id": "xL29A8OOCFo6",
        "colab_type": "code",
        "colab": {}
      },
      "source": [
        "def getRecommendations(prefs, person, similarity = sim_pearson):\n",
        "    '''Get recommendations for a person by using a weighed averaged ranking.'''\n",
        "    totals = {}\n",
        "    simSums = {}\n",
        "    for other in prefs:\n",
        "        # don't compare me to myself (skip to the next iteration)\n",
        "        if other == person:\n",
        "            continue\n",
        "\n",
        "        sim = similarity(prefs, person, other)\n",
        "\n",
        "        # ignore scores of zero or lower\n",
        "        if sim <= 0:\n",
        "            continue\n",
        "\n",
        "        for item in prefs[other]:\n",
        "            # only score movies I haven't seen yet\n",
        "            if item not in prefs[person] or prefs[person][item] == 0:\n",
        "                # similarity * score\n",
        "                totals.setdefault(item, 0)\n",
        "                totals[item] += prefs[other][item] * sim\n",
        "                # sum of similarities\n",
        "                simSums.setdefault(item, 0)\n",
        "                simSums[item] += sim\n",
        "\n",
        "    # create the normalized list\n",
        "    rankings = [(total/simSums[item], item) for item, total in totals.items()]\n",
        "\n",
        "    # return the sorted list\n",
        "    rankings.sort(reverse = True)\n",
        "    return rankings"
      ],
      "execution_count": 0,
      "outputs": []
    },
    {
      "cell_type": "markdown",
      "metadata": {
        "id": "CDLRd2u6CFo-",
        "colab_type": "text"
      },
      "source": [
        "Здесь мы в цикле обходим всех людей, присутствующих в словаре prefs. Для каждого вычисляется коэффициент подобия с заданным человеком person. Далее обходятся все фильмы, которым текущий критик выставил оценку. В строке, выделенной полужирным шрифтом, вычисляется окончательная оценка фильма – оценка, данная каждым критиком, умножается на коэффициент подобия этого критика и произведения суммируются. В самом конце оценки нормализуются путем деления на сумму коэффициентов подобия и возвращается отсортированный список результатов."
      ]
    },
    {
      "cell_type": "code",
      "metadata": {
        "id": "6DuloIgfCFo-",
        "colab_type": "code",
        "outputId": "c8adcfed-8ffb-4f24-f47b-c24d81237b12",
        "colab": {
          "base_uri": "https://localhost:8080/",
          "height": 69
        }
      },
      "source": [
        "getRecommendations(critics,'Toby', similarity=sim_distance)"
      ],
      "execution_count": 0,
      "outputs": [
        {
          "output_type": "execute_result",
          "data": {
            "text/plain": [
              "[(3.5002478401415877, 'The Night Listener'),\n",
              " (2.7561242939959363, 'Lady in the Water'),\n",
              " (2.461988486074374, 'Just My Luck')]"
            ]
          },
          "metadata": {
            "tags": []
          },
          "execution_count": 12
        }
      ]
    },
    {
      "cell_type": "markdown",
      "metadata": {
        "id": "AJ9Za5gqCFpC",
        "colab_type": "text"
      },
      "source": [
        "Итак, построена полная система рекомендования, способная работать с товарами любого вида или со ссылками. Необходимо лишь заполнить словарь, поместив в него людей, предметы и оценки, а затем его можно использовать для рекомендования предметов любому пользователю."
      ]
    },
    {
      "cell_type": "markdown",
      "metadata": {
        "id": "XnKyp96HCFpD",
        "colab_type": "text"
      },
      "source": [
        "### Подбор предметов"
      ]
    },
    {
      "cell_type": "markdown",
      "metadata": {
        "id": "JS62JLMlCFpE",
        "colab_type": "text"
      },
      "source": [
        "Но что если нужно узнать, какие предметы похожи друг на друга? Вы могли столкнуться с такой ситуацией на сайтах\n",
        "онлайновой торговли, особенно если сайт еще не собрал о вас достаточно информации."
      ]
    },
    {
      "cell_type": "markdown",
      "metadata": {
        "id": "MM8p2DPxCFpE",
        "colab_type": "text"
      },
      "source": [
        "В данном случае вы можете определить степень сходства, выявив людей, которым понравился данный товар, и посмотрев, что еще им понравилось. По существу, это тот же метод, которым мы уже пользовались для определения похожести людей, – нужно лишь вместо людей всюду подставить товары. Стало быть, мы сможем применить уже написанные функции, если преобразуем словарь, заменив \n",
        "\n",
        "```python\n",
        "{'Lisa Rose': {'Lady in the Water': 2.5, 'Snakes on a Plane': 3.5},\n",
        "'Gene Seymour': {'Lady in the Water': 3.0, 'Snakes on a Plane': 3.5}}\n",
        "```\n",
        "на\n",
        "\n",
        "```python\n",
        "{'Lady in the Water':{'Lisa Rose':2.5,'Gene Seymour':3.0},\n",
        "'Snakes on a Plane':{'Lisa Rose':3.5,'Gene Seymour':3.5}} \n",
        "```"
      ]
    },
    {
      "cell_type": "code",
      "metadata": {
        "id": "jISivfc6CFpF",
        "colab_type": "code",
        "colab": {}
      },
      "source": [
        "def transformPrefs(prefs):\n",
        "    '''Swipe the people and the item.'''\n",
        "    results = {}\n",
        "    for person in prefs:\n",
        "        for item in prefs[person]:\n",
        "            results.setdefault(item, {})\n",
        "            # flip item and person\n",
        "            results[item][person] = prefs[person][item]\n",
        "    return results"
      ],
      "execution_count": 0,
      "outputs": []
    },
    {
      "cell_type": "markdown",
      "metadata": {
        "id": "Xzd2ttZ4CFpI",
        "colab_type": "text"
      },
      "source": [
        "вызовем функцию topMatches , чтобы найти фильмы, похожие на «Superman Returns»"
      ]
    },
    {
      "cell_type": "code",
      "metadata": {
        "id": "z3fh0IQkCFpI",
        "colab_type": "code",
        "outputId": "8ed0210f-8fd5-4f6b-f47b-a3f094d118d7",
        "colab": {
          "base_uri": "https://localhost:8080/",
          "height": 104
        }
      },
      "source": [
        "movies=transformPrefs(critics)\n",
        "topMatches(movies,'Superman Returns')"
      ],
      "execution_count": 0,
      "outputs": [
        {
          "output_type": "execute_result",
          "data": {
            "text/plain": [
              "[(0.6579516949597695, 'You, Me and Dupree'),\n",
              " (0.4879500364742689, 'Lady in the Water'),\n",
              " (0.11180339887498941, 'Snakes on a Plane'),\n",
              " (-0.1798471947990544, 'The Night Listener'),\n",
              " (-0.42289003161103106, 'Just My Luck')]"
            ]
          },
          "metadata": {
            "tags": []
          },
          "execution_count": 14
        }
      ]
    },
    {
      "cell_type": "markdown",
      "metadata": {
        "id": "KGFTJ5d5CFpL",
        "colab_type": "text"
      },
      "source": [
        "Обратите внимание, что в этом примере встречаются отрицательные коэффициенты корреляции. Это означает, что тем, кому нравится фильм «Superman Returns», фильм «Just My Luck» обычно не нравится.\n",
        "\n",
        "Не всегда очевидно, что перестановка людей и товаров приведет к полезным результатам, но во многих случаях это позволяет провести интересные сравнения. Сайт онлайновой торговли может хранить истории покупок, чтобы рекомендовать товары посетителям. В этом случае описанная выше перестановка людей и товаров позволит найти людей, которые могли бы купить определенный товар. Это может оказаться очень полезным при планировании маркетинговых акций для продвижения \n",
        "товаров."
      ]
    },
    {
      "cell_type": "markdown",
      "metadata": {
        "id": "zyxYOBoaCFpL",
        "colab_type": "text"
      },
      "source": [
        "### Фильтрация по схожести образцов"
      ]
    },
    {
      "cell_type": "markdown",
      "metadata": {
        "id": "TyCzJ077CFpM",
        "colab_type": "text"
      },
      "source": [
        "Мы реализовали механизм рекомендования таким образом, что для создания набора данных необходимы оценки, выставленные каждым пользователем. Для нескольких тысяч людей или предметов это, возможно, и будет работать, но на таком большом сайте, как Amazon, миллионы пользователей и товаров, поэтому сравнение каждого пользователя со всеми другими, а затем сравнение товаров, которым каждый пользователь выставил оценки, займет недопустимо много времени. Кроме того, на сайте, который продает миллионы разных товаров, перекрытие вкусов может быть очень мало, поэтому нелегко решить,\n",
        "какие пользователи похожи. \n",
        "\n",
        "Техника, которую мы применяли до сих пор, называется коллаборативной фильтрацией по схожести пользователей. Альтернатива известна под названием «коллаборативная фильтрация по схожести образцов». Когда набор данных очень велик, коллаборативная фильтрация по схожести образцов может давать лучшие результаты, причем многие вычисления можно выполнить заранее, поэтому пользователь получит рекомендации быстрее.\n",
        "\n",
        "Основная идея заключается в том, чтобы для каждого образца заранее вычислить большинство похожих на него. Тогда для выработки рекомендаций пользователю достаточно будет найти те образцы, которым он выставил наивысшие оценки, и создать взвешенный список образцов, максимально похожих на эти. \n",
        "\n",
        "Отметим одно существенное отличие: хотя на первом шаге необходимо исследовать все данные, результаты сравнения образцов изменяются не так часто, как результаты сравнения пользователей. Это означает, что не нужно постоянно пересчитывать для каждого образца список похожих на него; это можно делать, когда нагрузка на сайт невелика,\n",
        "или вообще на отдельном компьютере."
      ]
    },
    {
      "cell_type": "markdown",
      "metadata": {
        "id": "QMtnIKqyCFpN",
        "colab_type": "text"
      },
      "source": [
        "### Построение набора данных для сравнения образцов"
      ]
    },
    {
      "cell_type": "markdown",
      "metadata": {
        "id": "81ET0h2HCFpN",
        "colab_type": "text"
      },
      "source": [
        "Чтобы сравнивать образцы, нужно первым делом написать функцию, которая построит полный набор данных о похожих образцах. "
      ]
    },
    {
      "cell_type": "code",
      "metadata": {
        "id": "AUf8Xe-NCFpO",
        "colab_type": "code",
        "colab": {}
      },
      "source": [
        "def calculateSimilarItems(prefs, n = 10):\n",
        "    '''Return a dictionary of items showing which other items they are most similiar to.'''\n",
        "    result = {}\n",
        "\n",
        "    # invert the preference matrix to be item-centric\n",
        "    itemPrefs = transformPrefs(prefs)\n",
        "    c = 0\n",
        "    for item in itemPrefs:\n",
        "        # status updates for large datasets\n",
        "        c += 1\n",
        "        if c%100 == 0:\n",
        "            print(\"%d/%d\" % (c, len(itemPrefs)))\n",
        "        # find the most similar items to this one\n",
        "        scores = topMatches(itemPrefs, item, n = n, similarity=sim_distance)\n",
        "        result[item] = scores\n",
        "    return result"
      ],
      "execution_count": 0,
      "outputs": []
    },
    {
      "cell_type": "markdown",
      "metadata": {
        "id": "4qEc-hbACFpR",
        "colab_type": "text"
      },
      "source": [
        "Эта функция сначала обращает словарь предпочтений, вызывая написанную ранее функцию transformPrefs, которой передается список образцов вместе с оценками, выставленными каждым пользователем. Далее в цикле обходятся все образцы и трансформированный словарь передается функции topMatches, которая возвращает наиболее похожие образцы и коэффициенты подобия для них. Наконец функция создает и возвращает словарь, в котором каждому образцу сопоставлен список наиболее похожих на него образцов."
      ]
    },
    {
      "cell_type": "code",
      "metadata": {
        "id": "Siee7D6pCFpR",
        "colab_type": "code",
        "outputId": "2c960bf6-be49-48e7-d7ca-2a00deacb0aa",
        "colab": {
          "base_uri": "https://localhost:8080/",
          "height": 537
        }
      },
      "source": [
        "itemsim=calculateSimilarItems(critics)\n",
        "itemsim"
      ],
      "execution_count": 0,
      "outputs": [
        {
          "output_type": "execute_result",
          "data": {
            "text/plain": [
              "{'Just My Luck': [(0.2222222222222222, 'Lady in the Water'),\n",
              "  (0.18181818181818182, 'You, Me and Dupree'),\n",
              "  (0.15384615384615385, 'The Night Listener'),\n",
              "  (0.10526315789473684, 'Snakes on a Plane'),\n",
              "  (0.06451612903225806, 'Superman Returns')],\n",
              " 'Lady in the Water': [(0.4, 'You, Me and Dupree'),\n",
              "  (0.2857142857142857, 'The Night Listener'),\n",
              "  (0.2222222222222222, 'Snakes on a Plane'),\n",
              "  (0.2222222222222222, 'Just My Luck'),\n",
              "  (0.09090909090909091, 'Superman Returns')],\n",
              " 'Snakes on a Plane': [(0.2222222222222222, 'Lady in the Water'),\n",
              "  (0.18181818181818182, 'The Night Listener'),\n",
              "  (0.16666666666666666, 'Superman Returns'),\n",
              "  (0.10526315789473684, 'Just My Luck'),\n",
              "  (0.05128205128205128, 'You, Me and Dupree')],\n",
              " 'Superman Returns': [(0.16666666666666666, 'Snakes on a Plane'),\n",
              "  (0.10256410256410256, 'The Night Listener'),\n",
              "  (0.09090909090909091, 'Lady in the Water'),\n",
              "  (0.06451612903225806, 'Just My Luck'),\n",
              "  (0.05333333333333334, 'You, Me and Dupree')],\n",
              " 'The Night Listener': [(0.2857142857142857, 'Lady in the Water'),\n",
              "  (0.18181818181818182, 'Snakes on a Plane'),\n",
              "  (0.15384615384615385, 'Just My Luck'),\n",
              "  (0.14814814814814814, 'You, Me and Dupree'),\n",
              "  (0.10256410256410256, 'Superman Returns')],\n",
              " 'You, Me and Dupree': [(0.4, 'Lady in the Water'),\n",
              "  (0.18181818181818182, 'Just My Luck'),\n",
              "  (0.14814814814814814, 'The Night Listener'),\n",
              "  (0.05333333333333334, 'Superman Returns'),\n",
              "  (0.05128205128205128, 'Snakes on a Plane')]}"
            ]
          },
          "metadata": {
            "tags": []
          },
          "execution_count": 16
        }
      ]
    },
    {
      "cell_type": "markdown",
      "metadata": {
        "id": "K0QWhLuvCFpV",
        "colab_type": "text"
      },
      "source": [
        "Напомним, что эту функцию следует запускать лишь тогда, когда необходимо обновить данные о схожести образцов. Пока количество пользователей и выставленных ими оценок невелико, это имеет смысл делать чаще, но по мере роста числа пользователей коэффициенты подобия образцов обычно перестают сильно изменяться."
      ]
    },
    {
      "cell_type": "markdown",
      "metadata": {
        "id": "GwFlghtXCFpW",
        "colab_type": "text"
      },
      "source": [
        "### Выдача рекомендаций"
      ]
    },
    {
      "cell_type": "markdown",
      "metadata": {
        "id": "2oAkmix_CFpX",
        "colab_type": "text"
      },
      "source": [
        "Теперь вы готовы выдавать рекомендации, пользуясь словарем данных о схожести образцов без обращения ко всему набору данных. Необходимо получить список всех образцов, которым пользователь выставлял оценки, найти похожие и взвесить их с учетом коэффициентов подобия.\n",
        "\n",
        "В таблице показана процедура выработки рекомендаций на основе фильтрации по схожести образцов. Критики тут вообще не участвуют, а сравниваются фильмы, которые я оценивал, с теми, которые не оценивал.\n",
        "\n",
        "![alt text](https://github.com/dm-fedorov/ml/blob/master/%D0%92%D1%8B%D1%80%D0%B0%D0%B1%D0%BE%D1%82%D0%BA%D0%B0%20%D1%80%D0%B5%D0%BA%D0%BE%D0%BC%D0%B5%D0%BD%D0%B4%D0%B0%D1%86%D0%B8%D0%B9/5.jpg?raw=1)"
      ]
    },
    {
      "cell_type": "markdown",
      "metadata": {
        "id": "N4Dftwy5CFpY",
        "colab_type": "text"
      },
      "source": [
        "В каждой строке указан фильм, который я смотрел, и оценка, которую я ему выставил. Для каждого фильма, который я не смотрел, имеется столбец, где показано, насколько он похож на виденные мной фильмы. Например, коэффициент подобия между фильмами «Superman» и «The Night Listener» равен 0,103. В столбцах с названиями, начинающимися с О.x, показана моя оценка, умноженная на коэффициент подобия; поскольку я поставил фильму «Superman» оценку 4,0, то, умножая\n",
        "число на пересечении строки «Superman» и столбца «Night» на 4,0, получаем: 4,0 × 0,103 = 0,412.\n",
        "В строке «Итого» просуммированы коэффициенты подобия и значения в столбцах «О.x» для каждого фильма. Чтобы предсказать мою оценку фильма, достаточно разделить итог для колонки «О.x» на суммарный коэффициент подобия. Так, для фильма «The Night Listener» прогноз моей оценки равен 1,378/0,433 = 3,183."
      ]
    },
    {
      "cell_type": "code",
      "metadata": {
        "id": "zk_ITIyMCFpY",
        "colab_type": "code",
        "colab": {}
      },
      "source": [
        "def getRecommendedItems(prefs, itemMatch, user):\n",
        "    '''Get recommendations using the item-based filtering.'''\n",
        "    userRatings = prefs[user]\n",
        "    scores = {}\n",
        "    totalSim = {}\n",
        "\n",
        "    # loop over items rated by this user\n",
        "    for (item, rating) in userRatings.items():\n",
        "        # loop over items similar to this one\n",
        "        for (similarity, item2) in itemMatch[item]:\n",
        "            # ignore if user has already reated this item\n",
        "            if item2 in userRatings:\n",
        "                continue\n",
        "\n",
        "            # weighted sum of rating times similarity\n",
        "            scores.setdefault(item2, 0)\n",
        "            scores[item2] += similarity * rating\n",
        "\n",
        "            # sum of all the similarities\n",
        "            totalSim.setdefault(item2, 0)\n",
        "            totalSim[item2] += similarity\n",
        "\n",
        "    # divide each total score by total weighting to get an average\n",
        "    rankings = [(score/totalSim[item], item)\n",
        "                for item, score in scores.items()]\n",
        "\n",
        "    # return the rankings from highest to lowest\n",
        "    rankings.sort(reverse = True)\n",
        "    return rankings"
      ],
      "execution_count": 0,
      "outputs": []
    },
    {
      "cell_type": "code",
      "metadata": {
        "id": "RbmWF9gRCFpb",
        "colab_type": "code",
        "outputId": "9dddf024-cb5d-4047-f2a4-da00e321213f",
        "colab": {
          "base_uri": "https://localhost:8080/",
          "height": 69
        }
      },
      "source": [
        "getRecommendedItems(critics,itemsim,'Toby')"
      ],
      "execution_count": 0,
      "outputs": [
        {
          "output_type": "execute_result",
          "data": {
            "text/plain": [
              "[(3.182634730538922, 'The Night Listener'),\n",
              " (2.5983318700614575, 'Just My Luck'),\n",
              " (2.4730878186968837, 'Lady in the Water')]"
            ]
          },
          "metadata": {
            "tags": []
          },
          "execution_count": 18
        }
      ]
    },
    {
      "cell_type": "markdown",
      "metadata": {
        "id": "ZATD8ncMCFpe",
        "colab_type": "text"
      },
      "source": [
        "Фильм «The Night Listener» по-прежнему лидирует с большим отрывом, а «Just My Luck» и «Lady in the Water» поменялись местами, но остались близки. Важнее тот факт, что функции getRecommendedItems не пришлось вычислять коэффициенты подобия для всех остальных критиков, поскольку нужный набор данных был построен заранее."
      ]
    }
  ]
}