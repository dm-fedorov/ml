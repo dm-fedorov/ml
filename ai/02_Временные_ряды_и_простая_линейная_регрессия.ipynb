{
  "nbformat": 4,
  "nbformat_minor": 0,
  "metadata": {
    "kernelspec": {
      "display_name": "Python 3",
      "language": "python",
      "name": "python3"
    },
    "language_info": {
      "codemirror_mode": {
        "name": "ipython",
        "version": 3
      },
      "file_extension": ".py",
      "mimetype": "text/x-python",
      "name": "python",
      "nbconvert_exporter": "python",
      "pygments_lexer": "ipython3",
      "version": "3.7.3"
    },
    "colab": {
      "name": "02. Временные ряды и простая линейная регрессия.ipynb",
      "provenance": [],
      "collapsed_sections": []
    }
  },
  "cells": [
    {
      "cell_type": "markdown",
      "metadata": {
        "id": "Q8KdhvjePpNe",
        "colab_type": "text"
      },
      "source": [
        "Рассматрим `временные ряды` — последовательности значений (называемых наблюдениями), связанных с определенными моментами времени. Примерами такого рода являются котировки на момент закрытия операций на бирже, почасовые измерения температуры, изменения локации летящего самолета, годовая урожайность и квартальная прибыль компании. \n",
        "\n",
        "Для формирования прогнозов на основе данных временных рядов (точнее, для прогнозирования средних январских температур в будущем и средних январских температур до 1895 года) воспользуемся методом `простой линейной регрессии` и данными средней январской температуры в Нью-Йорке с 1895 по 2018 год. \n"
      ]
    },
    {
      "cell_type": "markdown",
      "metadata": {
        "id": "7eEHonnvPpNf",
        "colab_type": "text"
      },
      "source": [
        "Данные, которые будут использованы в примере, представляют собой временной ряд, в котором наблюдения упорядочены по годам. Одномерные временные ряды содержат одно наблюдение на один момент времени, например среднюю январскую температуру в Нью-Йорке за конкретный год. Многомерные временные ряды содержат по два и более наблюдения на один момент времени (например, температуру, влажность и атмосферное давление в метеорологическом приложении). \n",
        "\n",
        "С временными рядами часто выполняются две операции:\n",
        "* Анализ временных рядов выявляет закономерности в существующих данных временных рядов, помогая аналитикам понять суть данных. Стандартная аналитическая задача — выявление сезонности в данных. Например, в Нью-Йорке ежемесячная температура существенно изменяется в зависимости от времени года (зима, весна, лето или осень).\n",
        "* Прогнозирование временных рядов использует прошлые данные для прогнозирования будущего.\n",
        "\n",
        "Рассматрим прогнозирование временных рядов."
      ]
    },
    {
      "cell_type": "markdown",
      "metadata": {
        "id": "YakbQy9lPpNf",
        "colab_type": "text"
      },
      "source": [
        "#### Простая линейная регрессия\n",
        "\n",
        "При помощи метода, называемого простой линейной регрессией, построим прогнозы, выявляющие линейные отношения между месяцами (январь каждого года) и средней температурой в Нью-Йорке. Для заданной коллекции значений, представляющих независимую переменную (комбинация «месяц/год») и зависимую переменную (средняя температура за этот месяц/год), простая линейная регрессия описывает отношение между этими переменными прямой линией — регрессионной прямой.\n",
        "\n",
        "#### Линейные отношения\n",
        "\n",
        "Чтобы понять общую концепцию линейных отношений, рассмотрим температуры по шкале Фаренгейта и Цельсия. Для заданной температуры по Фаренгейту соответствующая температура по Цельсию вычисляется по следующей формуле:\n",
        "\n",
        "```\n",
        "c = 5 / 9 * (f - 32)\n",
        "```"
      ]
    },
    {
      "cell_type": "markdown",
      "metadata": {
        "id": "EAnZPKTAPpNg",
        "colab_type": "text"
      },
      "source": [
        "В этой формуле `f` (температура по Фаренгейту) — независимая переменная, а `c` (температура по Цельсию) — зависимая переменная; каждое значение `c` зависит от значения `f`, использованного при вычислении.\n",
        "\n",
        "График температур по Фаренгейту и соответствующих им температур по Цельсию представляет собой прямую линию. Чтобы убедиться в этом, сначала создадим лямбда-выражение для предыдущей формулы и воспользуемся им для вычисления эквивалентов по шкале Цельсия для температур по Фаренгейту 0–100 с приращением 10 градусов. Каждая пара температур по Фаренгейту/Цельсию будет храниться в виде кортежа в `temps`:"
      ]
    },
    {
      "cell_type": "code",
      "metadata": {
        "id": "fA112WPdPpNh",
        "colab_type": "code",
        "colab": {}
      },
      "source": [
        "c = lambda f: 5 / 9 * (f - 32)"
      ],
      "execution_count": 0,
      "outputs": []
    },
    {
      "cell_type": "code",
      "metadata": {
        "id": "7KNEfkokPpNl",
        "colab_type": "code",
        "colab": {}
      },
      "source": [
        "temps = [(f, c(f)) for f in range(0, 101, 10)]"
      ],
      "execution_count": 0,
      "outputs": []
    },
    {
      "cell_type": "markdown",
      "metadata": {
        "id": "yb9Ei71FPpNq",
        "colab_type": "text"
      },
      "source": [
        "Поместим данные в `DataFrame` и используем метод `plot` для вывода линейной зависимости между температурами по Фаренгейту и по Цельсию. Ключевой аргумент `style` метода `plot` управляет внешним видом данных. \n",
        "\n",
        "Точка в строке `'.-'` указывает, что каждая точка данных должна обозначаться точкой на графике, а дефис — что точки должны соединяться линиями. Оси y вручную назначается метка `'Celsius'`, потому что метод `plot` по умолчанию выводит `'Celsius'` только в левом верхнем углу условных обозначений на графике:"
      ]
    },
    {
      "cell_type": "code",
      "metadata": {
        "id": "t2NPmOu-PpNr",
        "colab_type": "code",
        "colab": {}
      },
      "source": [
        "import pandas as pd\n",
        "temps_df = pd.DataFrame(temps, columns=['Fahrenheit', 'Celsius'])"
      ],
      "execution_count": 0,
      "outputs": []
    },
    {
      "cell_type": "code",
      "metadata": {
        "id": "nBRbTTG3PpNw",
        "colab_type": "code",
        "outputId": "ad98f276-1349-4e86-f7bb-a8e23f5c906a",
        "colab": {
          "base_uri": "https://localhost:8080/",
          "height": 281
        }
      },
      "source": [
        "axes = temps_df.plot(x='Fahrenheit', y='Celsius', style='.-')\n",
        "y_label = axes.set_ylabel('Celsius')"
      ],
      "execution_count": 0,
      "outputs": [
        {
          "output_type": "display_data",
          "data": {
            "image/png": "[encoded data removed]",
            "text/plain": [
              "<Figure size 432x288 with 1 Axes>"
            ]
          },
          "metadata": {
            "tags": [],
            "needs_background": "light"
          }
        }
      ]
    },
    {
      "cell_type": "markdown",
      "metadata": {
        "id": "-dc67lFuPpN2",
        "colab_type": "text"
      },
      "source": [
        "#### Компоненты уравнения простой линейной регрессии\n",
        "\n",
        "Точки на любой прямой линии (в двумерном пространстве) могут быть описаны уравнением:\n",
        "\n",
        "```\n",
        "y = mx + b,\n",
        "```\n",
        "\n",
        "где \n",
        "* `m` — коэффициент наклона линии;\n",
        "* `b` — точка пересечения линии с осью y (при x = 0);\n",
        "* `x` — независимая переменная (дата в нашем примере);\n",
        "* `y` — зависимая переменная (температура в нашем примере).\n",
        "\n",
        "В простой линейной регрессии `y` — прогнозируемое значение для заданного `x`."
      ]
    },
    {
      "cell_type": "markdown",
      "metadata": {
        "id": "U_t2Is8vPpN3",
        "colab_type": "text"
      },
      "source": [
        "#### Функция linregress из модуля stats библиотеки SciPy\n",
        "\n",
        "Простая линейная регрессия определяет коэффициент наклона (`m`) и точку пересечения (`b`) прямой линии, лучше всего подходящую к вашим данным. \n",
        "\n",
        "На следующей диаграмме показаны некоторые точки данных временного ряда:"
      ]
    },
    {
      "cell_type": "markdown",
      "metadata": {
        "id": "DUHLxEUoZBwt",
        "colab_type": "text"
      },
      "source": [
        "![alt text](https://raw.githubusercontent.com/dm-fedorov/ml/master/pic/lin.png)"
      ]
    },
    {
      "cell_type": "markdown",
      "metadata": {
        "id": "yFmRMyQpPpN-",
        "colab_type": "text"
      },
      "source": [
        "Алгоритм простой линейной регрессии производит итерационную настройку угла наклона и точки пересечения, вычисляя для каждой корректировки квадрат расстояния каждой точки от линии. \n",
        "\n",
        "«Наилучшая подгонка» достигается, когда значения угла наклона и точки пересечения минимизируют сумму квадратов расстояний. Этот принцип называется обычным `методом наименьших квадратов`.\n",
        "\n",
        "Библиотека `SciPy (Scientific Python)` широко применяется в инженерных, научных и математических вычислениях на языке Python. Функция `linregress` этой библиотеки (из модуля `scipy.stats`) выполняет простую линейную регрессию за вас. После вызова `linregress` остается подставить полученные значения угла наклона и точки пересечения в формулу `y = mx + b` для получения прогноза."
      ]
    },
    {
      "cell_type": "markdown",
      "metadata": {
        "id": "j4DDa5lmPpN_",
        "colab_type": "text"
      },
      "source": [
        "В этом примере мы загрузим данные средних январских температур в Нью-Йорке в 1895–2018 годах из CSV-файла в DataFrame. Библиотека Seaborn будет использована для графического представления данных DataFrame в виде регрессионной прямой, представляющей график изменения средней температуры за период 1895–2018 годов."
      ]
    },
    {
      "cell_type": "markdown",
      "metadata": {
        "id": "rIUZPHo7PpOA",
        "colab_type": "text"
      },
      "source": [
        "#### Получение метеорологических данных от NOAA\n",
        "\n",
        "Загрузим данные для исследования. [Национальное управление по исследованию океанов и атмосферы](http://www.noaa.gov) (NOAA, National Oceanic and Atmospheric Administration, или Национальное управление по исследованию океанов и атмосферы) предоставляет доступ к обширным статистическим данным, включая временные ряды для средних температур в конкретных городах с различными интервалами времени."
      ]
    },
    {
      "cell_type": "markdown",
      "metadata": {
        "id": "y8qVx9xlPpOB",
        "colab_type": "text"
      },
      "source": [
        "Мы получили средние январские температуры в Нью-Йорке с 1895 по 2018 год из временных рядов [NOAA «Climate at a Glance»](https://www.ncdc.noaa.gov/cag/).\n",
        "\n",
        "Данные содержат три столбца для каждого наблюдения:"
      ]
    },
    {
      "cell_type": "markdown",
      "metadata": {
        "id": "x3nJSSR6PpOB",
        "colab_type": "text"
      },
      "source": [
        "* `Date` — значение в форме 'YYYYMM' (например, '201801'). Часть MM всегда содержит 01, потому что мы загружали данные только за январь каждого года.\n",
        "* `Value` — температура по Фаренгейту в формате с плавающей точкой. \n",
        "* `Anomaly` — разность между значением для заданной даты и средними значениями для всех дат. В нашем примере значение Anomaly не используется, поэтому мы его проигнорируем."
      ]
    },
    {
      "cell_type": "markdown",
      "metadata": {
        "id": "TqnN8BTzPpOC",
        "colab_type": "text"
      },
      "source": [
        "Загрузим и выведем данные для Нью-Йорка:"
      ]
    },
    {
      "cell_type": "code",
      "metadata": {
        "id": "8pa8su27PpOD",
        "colab_type": "code",
        "outputId": "7af7a56a-70a5-425d-d3bb-606243302657",
        "colab": {
          "base_uri": "https://localhost:8080/",
          "height": 202
        }
      },
      "source": [
        "nyc = pd.read_csv('https://raw.githubusercontent.com/dm-fedorov/ml/master/datasets/ave_hi_nyc_jan_1895-2018.csv')\n",
        "nyc.head()"
      ],
      "execution_count": 0,
      "outputs": [
        {
          "output_type": "execute_result",
          "data": {
            "text/html": [
              "<div>\n",
              "<style scoped>\n",
              "    .dataframe tbody tr th:only-of-type {\n",
              "        vertical-align: middle;\n",
              "    }\n",
              "\n",
              "    .dataframe tbody tr th {\n",
              "        vertical-align: top;\n",
              "    }\n",
              "\n",
              "    .dataframe thead th {\n",
              "        text-align: right;\n",
              "    }\n",
              "</style>\n",
              "<table border=\"1\" class=\"dataframe\">\n",
              "  <thead>\n",
              "    <tr style=\"text-align: right;\">\n",
              "      <th></th>\n",
              "      <th>Date</th>\n",
              "      <th>Value</th>\n",
              "      <th>Anomaly</th>\n",
              "    </tr>\n",
              "  </thead>\n",
              "  <tbody>\n",
              "    <tr>\n",
              "      <th>0</th>\n",
              "      <td>189501</td>\n",
              "      <td>34.2</td>\n",
              "      <td>-3.2</td>\n",
              "    </tr>\n",
              "    <tr>\n",
              "      <th>1</th>\n",
              "      <td>189601</td>\n",
              "      <td>34.7</td>\n",
              "      <td>-2.7</td>\n",
              "    </tr>\n",
              "    <tr>\n",
              "      <th>2</th>\n",
              "      <td>189701</td>\n",
              "      <td>35.5</td>\n",
              "      <td>-1.9</td>\n",
              "    </tr>\n",
              "    <tr>\n",
              "      <th>3</th>\n",
              "      <td>189801</td>\n",
              "      <td>39.6</td>\n",
              "      <td>2.2</td>\n",
              "    </tr>\n",
              "    <tr>\n",
              "      <th>4</th>\n",
              "      <td>189901</td>\n",
              "      <td>36.4</td>\n",
              "      <td>-1.0</td>\n",
              "    </tr>\n",
              "  </tbody>\n",
              "</table>\n",
              "</div>"
            ],
            "text/plain": [
              "     Date  Value  Anomaly\n",
              "0  189501   34.2     -3.2\n",
              "1  189601   34.7     -2.7\n",
              "2  189701   35.5     -1.9\n",
              "3  189801   39.6      2.2\n",
              "4  189901   36.4     -1.0"
            ]
          },
          "metadata": {
            "tags": []
          },
          "execution_count": 5
        }
      ]
    },
    {
      "cell_type": "code",
      "metadata": {
        "id": "ALcgQAJzPpOH",
        "colab_type": "code",
        "outputId": "a075db94-1ad9-4531-cc24-fe9c09a6ede2",
        "colab": {
          "base_uri": "https://localhost:8080/",
          "height": 202
        }
      },
      "source": [
        "nyc.tail()"
      ],
      "execution_count": 0,
      "outputs": [
        {
          "output_type": "execute_result",
          "data": {
            "text/html": [
              "<div>\n",
              "<style scoped>\n",
              "    .dataframe tbody tr th:only-of-type {\n",
              "        vertical-align: middle;\n",
              "    }\n",
              "\n",
              "    .dataframe tbody tr th {\n",
              "        vertical-align: top;\n",
              "    }\n",
              "\n",
              "    .dataframe thead th {\n",
              "        text-align: right;\n",
              "    }\n",
              "</style>\n",
              "<table border=\"1\" class=\"dataframe\">\n",
              "  <thead>\n",
              "    <tr style=\"text-align: right;\">\n",
              "      <th></th>\n",
              "      <th>Date</th>\n",
              "      <th>Value</th>\n",
              "      <th>Anomaly</th>\n",
              "    </tr>\n",
              "  </thead>\n",
              "  <tbody>\n",
              "    <tr>\n",
              "      <th>119</th>\n",
              "      <td>201401</td>\n",
              "      <td>35.5</td>\n",
              "      <td>-1.9</td>\n",
              "    </tr>\n",
              "    <tr>\n",
              "      <th>120</th>\n",
              "      <td>201501</td>\n",
              "      <td>36.1</td>\n",
              "      <td>-1.3</td>\n",
              "    </tr>\n",
              "    <tr>\n",
              "      <th>121</th>\n",
              "      <td>201601</td>\n",
              "      <td>40.8</td>\n",
              "      <td>3.4</td>\n",
              "    </tr>\n",
              "    <tr>\n",
              "      <th>122</th>\n",
              "      <td>201701</td>\n",
              "      <td>42.8</td>\n",
              "      <td>5.4</td>\n",
              "    </tr>\n",
              "    <tr>\n",
              "      <th>123</th>\n",
              "      <td>201801</td>\n",
              "      <td>38.7</td>\n",
              "      <td>1.3</td>\n",
              "    </tr>\n",
              "  </tbody>\n",
              "</table>\n",
              "</div>"
            ],
            "text/plain": [
              "       Date  Value  Anomaly\n",
              "119  201401   35.5     -1.9\n",
              "120  201501   36.1     -1.3\n",
              "121  201601   40.8      3.4\n",
              "122  201701   42.8      5.4\n",
              "123  201801   38.7      1.3"
            ]
          },
          "metadata": {
            "tags": []
          },
          "execution_count": 6
        }
      ]
    },
    {
      "cell_type": "markdown",
      "metadata": {
        "id": "UBmqjJf6PpOM",
        "colab_type": "text"
      },
      "source": [
        "#### Очистка данных\n",
        "\n",
        "При отображении данных из DataFrame Seaborn помечает оси графика именами столбцов DataFrame. Для удобочитаемости переименуем столбец `'Value'` в `'Temperature'`:"
      ]
    },
    {
      "cell_type": "code",
      "metadata": {
        "id": "w15z8hTEPpOM",
        "colab_type": "code",
        "colab": {}
      },
      "source": [
        "nyc.columns = ['Date', 'Temperature', 'Anomaly']"
      ],
      "execution_count": 0,
      "outputs": []
    },
    {
      "cell_type": "code",
      "metadata": {
        "id": "XGyUxyuQPpOQ",
        "colab_type": "code",
        "outputId": "f61e7495-0c85-4cc4-8f95-c5f32df0e780",
        "colab": {
          "base_uri": "https://localhost:8080/",
          "height": 141
        }
      },
      "source": [
        "nyc.head(3)"
      ],
      "execution_count": 0,
      "outputs": [
        {
          "output_type": "execute_result",
          "data": {
            "text/html": [
              "<div>\n",
              "<style scoped>\n",
              "    .dataframe tbody tr th:only-of-type {\n",
              "        vertical-align: middle;\n",
              "    }\n",
              "\n",
              "    .dataframe tbody tr th {\n",
              "        vertical-align: top;\n",
              "    }\n",
              "\n",
              "    .dataframe thead th {\n",
              "        text-align: right;\n",
              "    }\n",
              "</style>\n",
              "<table border=\"1\" class=\"dataframe\">\n",
              "  <thead>\n",
              "    <tr style=\"text-align: right;\">\n",
              "      <th></th>\n",
              "      <th>Date</th>\n",
              "      <th>Temperature</th>\n",
              "      <th>Anomaly</th>\n",
              "    </tr>\n",
              "  </thead>\n",
              "  <tbody>\n",
              "    <tr>\n",
              "      <th>0</th>\n",
              "      <td>189501</td>\n",
              "      <td>34.2</td>\n",
              "      <td>-3.2</td>\n",
              "    </tr>\n",
              "    <tr>\n",
              "      <th>1</th>\n",
              "      <td>189601</td>\n",
              "      <td>34.7</td>\n",
              "      <td>-2.7</td>\n",
              "    </tr>\n",
              "    <tr>\n",
              "      <th>2</th>\n",
              "      <td>189701</td>\n",
              "      <td>35.5</td>\n",
              "      <td>-1.9</td>\n",
              "    </tr>\n",
              "  </tbody>\n",
              "</table>\n",
              "</div>"
            ],
            "text/plain": [
              "     Date  Temperature  Anomaly\n",
              "0  189501         34.2     -3.2\n",
              "1  189601         34.7     -2.7\n",
              "2  189701         35.5     -1.9"
            ]
          },
          "metadata": {
            "tags": []
          },
          "execution_count": 8
        }
      ]
    },
    {
      "cell_type": "markdown",
      "metadata": {
        "id": "WDOH5oIFPpOU",
        "colab_type": "text"
      },
      "source": [
        "Seaborn помечает деления на оси `x` значениями `Date`. Поскольку в примере обрабатываются только январские данные, метки оси `x` будут лучше читаться без обозначения 01 (для января); удалим его из `Date`. \n",
        "\n",
        "Сначала проверим тип столбца:"
      ]
    },
    {
      "cell_type": "code",
      "metadata": {
        "id": "2iThABbhPpOV",
        "colab_type": "code",
        "outputId": "a3d1486e-aa1e-40f0-d8b3-795934641f6c",
        "colab": {
          "base_uri": "https://localhost:8080/",
          "height": 35
        }
      },
      "source": [
        "nyc.Date.dtype"
      ],
      "execution_count": 0,
      "outputs": [
        {
          "output_type": "execute_result",
          "data": {
            "text/plain": [
              "dtype('int64')"
            ]
          },
          "metadata": {
            "tags": []
          },
          "execution_count": 9
        }
      ]
    },
    {
      "cell_type": "markdown",
      "metadata": {
        "id": "5Bhr0vtwPpOZ",
        "colab_type": "text"
      },
      "source": [
        "Значения являются целыми числами, поэтому мы можем разделить их на `100` для отсечения двух последних цифр. Вспомните, что каждый столбец в DataFrame представляет собой коллекцию Series. Вызов метода `floordiv` коллекции Series выполняет целочисленное деление с каждым элементом Series:"
      ]
    },
    {
      "cell_type": "code",
      "metadata": {
        "id": "PL6ikSKrPpOZ",
        "colab_type": "code",
        "colab": {}
      },
      "source": [
        "nyc.Date = nyc.Date.floordiv(100)"
      ],
      "execution_count": 0,
      "outputs": []
    },
    {
      "cell_type": "code",
      "metadata": {
        "id": "a2oHPqAiPpOd",
        "colab_type": "code",
        "outputId": "5158fff6-c36e-4336-f0ce-d28031386cf5",
        "colab": {
          "base_uri": "https://localhost:8080/",
          "height": 141
        }
      },
      "source": [
        "nyc.head(3)"
      ],
      "execution_count": 0,
      "outputs": [
        {
          "output_type": "execute_result",
          "data": {
            "text/html": [
              "<div>\n",
              "<style scoped>\n",
              "    .dataframe tbody tr th:only-of-type {\n",
              "        vertical-align: middle;\n",
              "    }\n",
              "\n",
              "    .dataframe tbody tr th {\n",
              "        vertical-align: top;\n",
              "    }\n",
              "\n",
              "    .dataframe thead th {\n",
              "        text-align: right;\n",
              "    }\n",
              "</style>\n",
              "<table border=\"1\" class=\"dataframe\">\n",
              "  <thead>\n",
              "    <tr style=\"text-align: right;\">\n",
              "      <th></th>\n",
              "      <th>Date</th>\n",
              "      <th>Temperature</th>\n",
              "      <th>Anomaly</th>\n",
              "    </tr>\n",
              "  </thead>\n",
              "  <tbody>\n",
              "    <tr>\n",
              "      <th>0</th>\n",
              "      <td>1895</td>\n",
              "      <td>34.2</td>\n",
              "      <td>-3.2</td>\n",
              "    </tr>\n",
              "    <tr>\n",
              "      <th>1</th>\n",
              "      <td>1896</td>\n",
              "      <td>34.7</td>\n",
              "      <td>-2.7</td>\n",
              "    </tr>\n",
              "    <tr>\n",
              "      <th>2</th>\n",
              "      <td>1897</td>\n",
              "      <td>35.5</td>\n",
              "      <td>-1.9</td>\n",
              "    </tr>\n",
              "  </tbody>\n",
              "</table>\n",
              "</div>"
            ],
            "text/plain": [
              "   Date  Temperature  Anomaly\n",
              "0  1895         34.2     -3.2\n",
              "1  1896         34.7     -2.7\n",
              "2  1897         35.5     -1.9"
            ]
          },
          "metadata": {
            "tags": []
          },
          "execution_count": 11
        }
      ]
    },
    {
      "cell_type": "markdown",
      "metadata": {
        "id": "PvgnZ_5MPpOg",
        "colab_type": "text"
      },
      "source": [
        "#### Вычисление базовых описательных статистик для наборов данных\n",
        "\n",
        "Чтобы быстро получить некоторые статистики для температур из набора данных, вызовем `describe` для столбца `Temperature`. В коллекции присутствуют `124` наблюдения, среднее значение наблюдений равно 37.60, а наименьшее и наибольшее наблюдение равны 26.10 и 47.60 градусам соответственно:"
      ]
    },
    {
      "cell_type": "code",
      "metadata": {
        "id": "JE58w_W6PpOh",
        "colab_type": "code",
        "colab": {}
      },
      "source": [
        "pd.set_option('precision', 2)"
      ],
      "execution_count": 0,
      "outputs": []
    },
    {
      "cell_type": "code",
      "metadata": {
        "id": "ufWrlP7RPpOk",
        "colab_type": "code",
        "outputId": "ee9168cc-7ced-40c8-b4c0-803c465f0b71",
        "colab": {
          "base_uri": "https://localhost:8080/",
          "height": 173
        }
      },
      "source": [
        "nyc.Temperature.describe()"
      ],
      "execution_count": 0,
      "outputs": [
        {
          "output_type": "execute_result",
          "data": {
            "text/plain": [
              "count    124.00\n",
              "mean      37.60\n",
              "std        4.54\n",
              "min       26.10\n",
              "25%       34.58\n",
              "50%       37.60\n",
              "75%       40.60\n",
              "max       47.60\n",
              "Name: Temperature, dtype: float64"
            ]
          },
          "metadata": {
            "tags": []
          },
          "execution_count": 13
        }
      ]
    },
    {
      "cell_type": "markdown",
      "metadata": {
        "id": "JcswfANgPpOn",
        "colab_type": "text"
      },
      "source": [
        "#### Прогнозирование будущих январских температур\n",
        "\n",
        "Библиотека `SciPy (Scientific Python)` широко применяется в инженерных, научных и математических вычислениях на языке Python. Ее модуль `stats` предоставляет функцию `linregress`, которая вычисляет наклон и точку пересечения регрессионной прямой для заданного набора точек данных:"
      ]
    },
    {
      "cell_type": "code",
      "metadata": {
        "id": "vZvRJzIuPpOn",
        "colab_type": "code",
        "colab": {}
      },
      "source": [
        "from scipy import stats"
      ],
      "execution_count": 0,
      "outputs": []
    },
    {
      "cell_type": "code",
      "metadata": {
        "id": "v4NhwQfjPpOq",
        "colab_type": "code",
        "colab": {}
      },
      "source": [
        "linear_regression = stats.linregress(x=nyc.Date, y=nyc.Temperature)"
      ],
      "execution_count": 0,
      "outputs": []
    },
    {
      "cell_type": "markdown",
      "metadata": {
        "id": "GSzCYvs_PpOt",
        "colab_type": "text"
      },
      "source": [
        "Функция `linregress` получает два одномерных массива одинаковой длины, представляющих координаты `x` и `y` точек данных. Ключевые аргументы `x` и `y` представляют независимые и зависимые переменные соответственно. \n",
        "\n",
        "Объект, возвращаемый `linregress`, содержит угол наклона и точку пересечения регрессионной прямой:"
      ]
    },
    {
      "cell_type": "code",
      "metadata": {
        "id": "fRJmU5nwPpOt",
        "colab_type": "code",
        "outputId": "d506c948-cd60-4466-b3d4-4217ad825c2e",
        "colab": {
          "base_uri": "https://localhost:8080/",
          "height": 35
        }
      },
      "source": [
        "linear_regression.slope"
      ],
      "execution_count": 0,
      "outputs": [
        {
          "output_type": "execute_result",
          "data": {
            "text/plain": [
              "0.014771361132966163"
            ]
          },
          "metadata": {
            "tags": []
          },
          "execution_count": 16
        }
      ]
    },
    {
      "cell_type": "code",
      "metadata": {
        "id": "G-ri_xrdPpOw",
        "colab_type": "code",
        "outputId": "fa4dcbec-b660-496f-cd04-20f2a639b641",
        "colab": {
          "base_uri": "https://localhost:8080/",
          "height": 35
        }
      },
      "source": [
        "linear_regression.intercept"
      ],
      "execution_count": 0,
      "outputs": [
        {
          "output_type": "execute_result",
          "data": {
            "text/plain": [
              "8.694993233674289"
            ]
          },
          "metadata": {
            "tags": []
          },
          "execution_count": 17
        }
      ]
    },
    {
      "cell_type": "markdown",
      "metadata": {
        "id": "Hyr6d1mDPpOz",
        "colab_type": "text"
      },
      "source": [
        "Эти значения можно объединить с уравнением простой линейной регрессии для прямой линии, `y = mx + b` при прогнозировании средней январской температуры в Нью-Йорке для заданного года. \n",
        "\n",
        "Спрогнозируем среднюю температуру по Фаренгейту за январь 2019 года. В следующих вычислениях `linear_regression.slope` соответствует `m`, `2019` соответствует `x` (значение, для которого прогнозируется температура), а `linear_regression.intercept` соответствует `b`:"
      ]
    },
    {
      "cell_type": "code",
      "metadata": {
        "id": "h_EieK61PpO0",
        "colab_type": "code",
        "outputId": "fb9dcd1f-885a-43ba-bc97-f6b30279185c",
        "colab": {
          "base_uri": "https://localhost:8080/",
          "height": 35
        }
      },
      "source": [
        "linear_regression.slope * 2019 + linear_regression.intercept"
      ],
      "execution_count": 0,
      "outputs": [
        {
          "output_type": "execute_result",
          "data": {
            "text/plain": [
              "38.51837136113297"
            ]
          },
          "metadata": {
            "tags": []
          },
          "execution_count": 18
        }
      ]
    },
    {
      "cell_type": "markdown",
      "metadata": {
        "id": "ltORBtXKPpO2",
        "colab_type": "text"
      },
      "source": [
        "Также по формуле можно приближенно оценить, какой могла быть средняя температура до 1895 года. Например, оценка средней температуры за январь 1890 года может быть получена следующим образом:"
      ]
    },
    {
      "cell_type": "code",
      "metadata": {
        "id": "jEPd3gtlPpO3",
        "colab_type": "code",
        "outputId": "f15545fe-c39b-470f-968d-9f656c52a8cb",
        "colab": {
          "base_uri": "https://localhost:8080/",
          "height": 35
        }
      },
      "source": [
        "linear_regression.slope * 1890 + linear_regression.intercept"
      ],
      "execution_count": 0,
      "outputs": [
        {
          "output_type": "execute_result",
          "data": {
            "text/plain": [
              "36.612865774980335"
            ]
          },
          "metadata": {
            "tags": []
          },
          "execution_count": 19
        }
      ]
    },
    {
      "cell_type": "markdown",
      "metadata": {
        "id": "pDeWrXdcPpO5",
        "colab_type": "text"
      },
      "source": [
        "Напомним, в примере были доступны данные за 1895–2018 годы, и чем дальше вы выходите за границы диапазона, тем менее надежными становятся прогнозы."
      ]
    },
    {
      "cell_type": "markdown",
      "metadata": {
        "id": "yxfgI-UpPpO6",
        "colab_type": "text"
      },
      "source": [
        "#### Построение графика со средними температурами и регрессионной прямой\n",
        " \n",
        "Функция `regplot` строит диаграмму разброса данных, на которой точки представляют температуры за заданный год, а прямая линия — регрессионную прямую. \n",
        "\n",
        "Ключевые аргументы `x` и `y` функции `regplot` — одномерные массивы совпадающей длины, представляющие пары координат x-y для нанесения на график:"
      ]
    },
    {
      "cell_type": "code",
      "metadata": {
        "id": "oKluSEunPpO7",
        "colab_type": "code",
        "outputId": "60a1b900-f0a0-429e-e9b9-070e2b039def",
        "colab": {
          "base_uri": "https://localhost:8080/",
          "height": 334
        }
      },
      "source": [
        "import seaborn as sns\n",
        "sns.set_style('whitegrid')\n",
        "axes = sns.regplot(x=nyc.Date, y=nyc.Temperature)"
      ],
      "execution_count": 0,
      "outputs": [
        {
          "output_type": "stream",
          "text": [
            "/usr/local/lib/python3.6/dist-packages/statsmodels/tools/_testing.py:19: FutureWarning: pandas.util.testing is deprecated. Use the functions in the public API at pandas.testing instead.\n",
            "  import pandas.util.testing as tm\n"
          ],
          "name": "stderr"
        },
        {
          "output_type": "display_data",
          "data": {
            "image/png": "[encoded data removed]",
            "text/plain": [
              "<Figure size 432x288 with 1 Axes>"
            ]
          },
          "metadata": {
            "tags": []
          }
        }
      ]
    },
    {
      "cell_type": "markdown",
      "metadata": {
        "id": "b39d5t6OPpO-",
        "colab_type": "text"
      },
      "source": [
        "Затененная область рядом с регрессионной прямой демонстрирует 95-процентный [доверительный интервал для регрессионной прямой](https://en.wikipedia.org/wiki/Simple_linеar_regression#Confidence_intervals). \n",
        "\n",
        "Для вывода графика без доверительного интервала добавьте ключевой аргумент `ci=None` в список аргументов функции `regplot`."
      ]
    },
    {
      "cell_type": "markdown",
      "metadata": {
        "id": "VpY89LnFPpO_",
        "colab_type": "text"
      },
      "source": [
        "Наклон регрессионной прямой (подъем от левой части к правой) указывает на то, что в последние 124 года средняя температура повышалась. На графике ось `y` представляет температурный диапазон между минимумом 26.1 и максимумом 47.6 по Фаренгейту, в результате чего наблюдается значительный разброс данных вокруг регрессионной прямой, из-за которого труднее выявить линейную связь. Эта проблема типична для визуализаций в области аналитики данных. Если оси на графике отражают разные типы данных (даты и температуры в данном случае), то как разумно определить их относительные масштабы? \n",
        "\n",
        "На предыдущем графике все определяется исключительно высотой графика — Seaborn и Matplotlib автоматически масштабируют оси на основании диапазонов значений данных. Ось значений y можно масштабировать, чтобы подчеркнуть линейность отношения. \n",
        "\n",
        "В следующем примере ось y была масштабирована от 21,5-градусного диапазона до 60-градусного диапазона (от 10 до 70 градусов):"
      ]
    },
    {
      "cell_type": "code",
      "metadata": {
        "id": "Xe4TQkhaPpO_",
        "colab_type": "code",
        "outputId": "feb06026-e394-4abc-8e71-f7e2a9201685",
        "colab": {
          "base_uri": "https://localhost:8080/",
          "height": 35
        }
      },
      "source": [
        "axes.set_ylim(10, 70)"
      ],
      "execution_count": 0,
      "outputs": [
        {
          "output_type": "execute_result",
          "data": {
            "text/plain": [
              "(10.0, 70.0)"
            ]
          },
          "metadata": {
            "tags": []
          },
          "execution_count": 21
        }
      ]
    },
    {
      "cell_type": "code",
      "metadata": {
        "id": "BHOHyyVBPpPC",
        "colab_type": "code",
        "outputId": "eaf5a635-a3f0-4d90-dca5-7f62eb0f506a",
        "colab": {
          "base_uri": "https://localhost:8080/",
          "height": 301
        }
      },
      "source": [
        "import seaborn as sns\n",
        "sns.set_style('whitegrid')\n",
        "axes = sns.regplot(x=nyc.Date, y=nyc.Temperature)\n",
        "axes.set_ylim(10, 70)"
      ],
      "execution_count": 0,
      "outputs": [
        {
          "output_type": "execute_result",
          "data": {
            "text/plain": [
              "(10.0, 70.0)"
            ]
          },
          "metadata": {
            "tags": []
          },
          "execution_count": 22
        },
        {
          "output_type": "display_data",
          "data": {
            "image/png": "[encoded data removed]",
            "text/plain": [
              "<Figure size 432x288 with 1 Axes>"
            ]
          },
          "metadata": {
            "tags": []
          }
        }
      ]
    },
    {
      "cell_type": "code",
      "metadata": {
        "id": "PVs5YvTaPpPE",
        "colab_type": "code",
        "colab": {}
      },
      "source": [
        ""
      ],
      "execution_count": 0,
      "outputs": []
    }
  ]
}