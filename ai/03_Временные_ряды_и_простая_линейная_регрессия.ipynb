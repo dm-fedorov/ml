{
  "nbformat": 4,
  "nbformat_minor": 0,
  "metadata": {
    "kernelspec": {
      "display_name": "Python 3",
      "language": "python",
      "name": "python3"
    },
    "language_info": {
      "codemirror_mode": {
        "name": "ipython",
        "version": 3
      },
      "file_extension": ".py",
      "mimetype": "text/x-python",
      "name": "python",
      "nbconvert_exporter": "python",
      "pygments_lexer": "ipython3",
      "version": "3.7.3"
    },
    "colab": {
      "name": "03. Временные ряды и простая линейная регрессия.ipynb",
      "provenance": [],
      "collapsed_sections": []
    }
  },
  "cells": [
    {
      "cell_type": "markdown",
      "metadata": {
        "id": "ezR5G6UTP86u",
        "colab_type": "text"
      },
      "source": [
        "В примере рассматриваются:\n",
        "* Использование оценщика scikit-learn для повторной реализации простой линейной регрессии.\n",
        "* Использование функции `scatterplot` библиотеки Seaborn для графического вывода данных и функции `plot` библиотеки Matplotlib для вывода регрессионной прямой.\n",
        "* Использование значений угла наклона и точки пересечения, вычисленных оценщиком scikit-learn, для построения прогнозов."
      ]
    },
    {
      "cell_type": "code",
      "metadata": {
        "id": "UgCi8yvEP86w",
        "colab_type": "code",
        "outputId": "7fcc5672-1596-48e0-b28c-8575ce84cae3",
        "colab": {
          "base_uri": "https://localhost:8080/",
          "height": 202
        }
      },
      "source": [
        "import pandas as pd\n",
        "nyc = pd.read_csv('https://raw.githubusercontent.com/dm-fedorov/ml/master/datasets/ave_hi_nyc_jan_1895-2018.csv')\n",
        "nyc.head()"
      ],
      "execution_count": 0,
      "outputs": [
        {
          "output_type": "execute_result",
          "data": {
            "text/html": [
              "<div>\n",
              "<style scoped>\n",
              "    .dataframe tbody tr th:only-of-type {\n",
              "        vertical-align: middle;\n",
              "    }\n",
              "\n",
              "    .dataframe tbody tr th {\n",
              "        vertical-align: top;\n",
              "    }\n",
              "\n",
              "    .dataframe thead th {\n",
              "        text-align: right;\n",
              "    }\n",
              "</style>\n",
              "<table border=\"1\" class=\"dataframe\">\n",
              "  <thead>\n",
              "    <tr style=\"text-align: right;\">\n",
              "      <th></th>\n",
              "      <th>Date</th>\n",
              "      <th>Value</th>\n",
              "      <th>Anomaly</th>\n",
              "    </tr>\n",
              "  </thead>\n",
              "  <tbody>\n",
              "    <tr>\n",
              "      <th>0</th>\n",
              "      <td>189501</td>\n",
              "      <td>34.2</td>\n",
              "      <td>-3.2</td>\n",
              "    </tr>\n",
              "    <tr>\n",
              "      <th>1</th>\n",
              "      <td>189601</td>\n",
              "      <td>34.7</td>\n",
              "      <td>-2.7</td>\n",
              "    </tr>\n",
              "    <tr>\n",
              "      <th>2</th>\n",
              "      <td>189701</td>\n",
              "      <td>35.5</td>\n",
              "      <td>-1.9</td>\n",
              "    </tr>\n",
              "    <tr>\n",
              "      <th>3</th>\n",
              "      <td>189801</td>\n",
              "      <td>39.6</td>\n",
              "      <td>2.2</td>\n",
              "    </tr>\n",
              "    <tr>\n",
              "      <th>4</th>\n",
              "      <td>189901</td>\n",
              "      <td>36.4</td>\n",
              "      <td>-1.0</td>\n",
              "    </tr>\n",
              "  </tbody>\n",
              "</table>\n",
              "</div>"
            ],
            "text/plain": [
              "     Date  Value  Anomaly\n",
              "0  189501   34.2     -3.2\n",
              "1  189601   34.7     -2.7\n",
              "2  189701   35.5     -1.9\n",
              "3  189801   39.6      2.2\n",
              "4  189901   36.4     -1.0"
            ]
          },
          "metadata": {
            "tags": []
          },
          "execution_count": 1
        }
      ]
    },
    {
      "cell_type": "code",
      "metadata": {
        "id": "z8QPm3q4P861",
        "colab_type": "code",
        "colab": {}
      },
      "source": [
        "nyc.columns = ['Date', 'Temperature', 'Anomaly']"
      ],
      "execution_count": 0,
      "outputs": []
    },
    {
      "cell_type": "code",
      "metadata": {
        "id": "STdExow9P865",
        "colab_type": "code",
        "colab": {}
      },
      "source": [
        "nyc.Date = nyc.Date.floordiv(100)"
      ],
      "execution_count": 0,
      "outputs": []
    },
    {
      "cell_type": "code",
      "metadata": {
        "id": "R2e8tEO-P869",
        "colab_type": "code",
        "outputId": "413a728d-ad88-43ed-b983-7ce6735b8568",
        "colab": {
          "base_uri": "https://localhost:8080/",
          "height": 141
        }
      },
      "source": [
        "nyc.head(3)"
      ],
      "execution_count": 0,
      "outputs": [
        {
          "output_type": "execute_result",
          "data": {
            "text/html": [
              "<div>\n",
              "<style scoped>\n",
              "    .dataframe tbody tr th:only-of-type {\n",
              "        vertical-align: middle;\n",
              "    }\n",
              "\n",
              "    .dataframe tbody tr th {\n",
              "        vertical-align: top;\n",
              "    }\n",
              "\n",
              "    .dataframe thead th {\n",
              "        text-align: right;\n",
              "    }\n",
              "</style>\n",
              "<table border=\"1\" class=\"dataframe\">\n",
              "  <thead>\n",
              "    <tr style=\"text-align: right;\">\n",
              "      <th></th>\n",
              "      <th>Date</th>\n",
              "      <th>Temperature</th>\n",
              "      <th>Anomaly</th>\n",
              "    </tr>\n",
              "  </thead>\n",
              "  <tbody>\n",
              "    <tr>\n",
              "      <th>0</th>\n",
              "      <td>1895</td>\n",
              "      <td>34.2</td>\n",
              "      <td>-3.2</td>\n",
              "    </tr>\n",
              "    <tr>\n",
              "      <th>1</th>\n",
              "      <td>1896</td>\n",
              "      <td>34.7</td>\n",
              "      <td>-2.7</td>\n",
              "    </tr>\n",
              "    <tr>\n",
              "      <th>2</th>\n",
              "      <td>1897</td>\n",
              "      <td>35.5</td>\n",
              "      <td>-1.9</td>\n",
              "    </tr>\n",
              "  </tbody>\n",
              "</table>\n",
              "</div>"
            ],
            "text/plain": [
              "   Date  Temperature  Anomaly\n",
              "0  1895         34.2     -3.2\n",
              "1  1896         34.7     -2.7\n",
              "2  1897         35.5     -1.9"
            ]
          },
          "metadata": {
            "tags": []
          },
          "execution_count": 4
        }
      ]
    },
    {
      "cell_type": "markdown",
      "metadata": {
        "id": "-SGgKHcgP87C",
        "colab_type": "text"
      },
      "source": [
        "#### Разбиение данных для обучения и тестирования\n",
        "\n",
        "В этом примере будет использоваться оценщик `LinearRegression` из `sklearn.linear_model`. \n",
        "\n",
        "По умолчанию он использует все числовые признаки в наборе данных, выполняя множественную линейную регрессию. Выполним простую линейную регрессию, используя один признак как независимую переменную. В наборе данных необходимо выбрать один признак (`Date`) из набора данных. \n",
        "\n",
        "При выборе одного столбца в двумерном DataFrame результат представляет собой одномерную коллекцию Series. Однако оценщики scikit-learn требуют, чтобы в качестве обучающих и тестовых данных использовались двумерные массивы (или двумерные структуры, сходные с массивами, например списки списков или коллекции pandas DataFrame). Чтобы использовать одномерные массивы с оценщиком, необходимо преобразовать их из одномерного массива с `n` элементами в двумерный массив c `n` строками и одним столбцом."
      ]
    },
    {
      "cell_type": "markdown",
      "metadata": {
        "id": "NT-5IvCvP87C",
        "colab_type": "text"
      },
      "source": [
        "Как и прежде, данные будут разбиты на обучающий и тестовый наборы. И снова ключевой аргумент `random_state` используется для обеспечения воспроизводимости результатов:"
      ]
    },
    {
      "cell_type": "code",
      "metadata": {
        "id": "rIs2EEp2P87D",
        "colab_type": "code",
        "colab": {}
      },
      "source": [
        "from sklearn.model_selection import train_test_split"
      ],
      "execution_count": 0,
      "outputs": []
    },
    {
      "cell_type": "code",
      "metadata": {
        "id": "mGbEJxyVP87G",
        "colab_type": "code",
        "colab": {}
      },
      "source": [
        "X_train, X_test, y_train, y_test = train_test_split(\n",
        "    nyc.Date.values.reshape(-1, 1), nyc.Temperature.values,\n",
        "    random_state=11)"
      ],
      "execution_count": 0,
      "outputs": []
    },
    {
      "cell_type": "markdown",
      "metadata": {
        "id": "Xhxxb1Q3P87K",
        "colab_type": "text"
      },
      "source": [
        "Выражение `nyc.Date` возвращает коллекцию Series для столбца Date, атрибут которой `values` возвращает массив NumPy со значениями коллекции. \n",
        "\n",
        "Для преобразования одномерного массива в двумерный вызовем метод `reshape` массива. Обычно в двух аргументах передается точное количество строк и столбцов, но первый аргумент `-1` означает, что метод `reshape` должен вычислить количество строк на основании количества столбцов (1) и количества элементов (124) в массиве. \n",
        "\n",
        "Преобразованный массив содержит только один столбец, поэтому `reshape` делает вывод, что количество строк равно 124: разместить 124 элемента в один столбец можно, только распределив их по 124 строкам. \n",
        "\n",
        "Для проверки пропорции обучающих тестовых данных (75% к 25%) запросим размеры `X_train` и `X_test`:"
      ]
    },
    {
      "cell_type": "code",
      "metadata": {
        "id": "svTRv-qjP87L",
        "colab_type": "code",
        "outputId": "6a713bc1-43a7-4ab9-f1ee-a050834c6a8b",
        "colab": {
          "base_uri": "https://localhost:8080/",
          "height": 35
        }
      },
      "source": [
        "X_train.shape"
      ],
      "execution_count": 0,
      "outputs": [
        {
          "output_type": "execute_result",
          "data": {
            "text/plain": [
              "(93, 1)"
            ]
          },
          "metadata": {
            "tags": []
          },
          "execution_count": 7
        }
      ]
    },
    {
      "cell_type": "code",
      "metadata": {
        "id": "FivQOs-5P87O",
        "colab_type": "code",
        "outputId": "f8c6f1cf-3403-453e-ff76-fc7e9f6ad5fa",
        "colab": {
          "base_uri": "https://localhost:8080/",
          "height": 35
        }
      },
      "source": [
        "X_test.shape"
      ],
      "execution_count": 0,
      "outputs": [
        {
          "output_type": "execute_result",
          "data": {
            "text/plain": [
              "(31, 1)"
            ]
          },
          "metadata": {
            "tags": []
          },
          "execution_count": 8
        }
      ]
    },
    {
      "cell_type": "markdown",
      "metadata": {
        "id": "529AfHfKP87R",
        "colab_type": "text"
      },
      "source": [
        "#### Обучение модели\n",
        "\n",
        "В scikit-learn нет отдельного класса для простой линейной регрессии, потому что простая линейная регрессия является частным случаем множественной\n",
        "линейной регрессии, поэтому мы воспользуемся оценщиком `LinearRegression`:"
      ]
    },
    {
      "cell_type": "code",
      "metadata": {
        "id": "BQb6FWxiP87S",
        "colab_type": "code",
        "colab": {}
      },
      "source": [
        "from sklearn.linear_model import LinearRegression"
      ],
      "execution_count": 0,
      "outputs": []
    },
    {
      "cell_type": "code",
      "metadata": {
        "id": "bT4uOZPkP87V",
        "colab_type": "code",
        "colab": {}
      },
      "source": [
        "linear_regression = LinearRegression()"
      ],
      "execution_count": 0,
      "outputs": []
    },
    {
      "cell_type": "code",
      "metadata": {
        "id": "WMPSJQcLP87Y",
        "colab_type": "code",
        "outputId": "ad9912c8-413f-4e51-f334-a42b17bb1daa",
        "colab": {
          "base_uri": "https://localhost:8080/",
          "height": 35
        }
      },
      "source": [
        "linear_regression.fit(X=X_train, y=y_train)"
      ],
      "execution_count": 0,
      "outputs": [
        {
          "output_type": "execute_result",
          "data": {
            "text/plain": [
              "LinearRegression(copy_X=True, fit_intercept=True, n_jobs=None, normalize=False)"
            ]
          },
          "metadata": {
            "tags": []
          },
          "execution_count": 11
        }
      ]
    },
    {
      "cell_type": "markdown",
      "metadata": {
        "id": "-cQ93umIP87c",
        "colab_type": "text"
      },
      "source": [
        "После обучения оценщика `fit` возвращает оценщика и выводит строковое представление. \n",
        "\n",
        "Описания настроек по умолчанию доступны по [адресу](http://scikit-learn.org/stable/modules/generated/sklearn.linear_model.LinearRegression.html).\n",
        "\n",
        "Чтобы найти регрессионную прямую с наилучшей подгонкой к данным, оценщик `LinearRegression` в итеративном режиме регулирует угол наклона и точку пересечения для минимизации суммы квадратов расстояний точек данных от линии.\n",
        "\n",
        "После этого значения угла наклона и точки пересечения с осью, используемые в формуле `y = mx + b`, могут использоваться для прогнозирования. Угол наклона хранится в атрибуте `coeff_` оценщика (`m` в формуле), а точка пересечения — в атрибуте `intercept_` (`b` в формуле):"
      ]
    },
    {
      "cell_type": "code",
      "metadata": {
        "id": "EL5LkiOCP87c",
        "colab_type": "code",
        "outputId": "8da67797-377a-45c9-fe8a-e126e3234ae3",
        "colab": {
          "base_uri": "https://localhost:8080/",
          "height": 35
        }
      },
      "source": [
        "linear_regression.coef_"
      ],
      "execution_count": 0,
      "outputs": [
        {
          "output_type": "execute_result",
          "data": {
            "text/plain": [
              "array([0.01939167])"
            ]
          },
          "metadata": {
            "tags": []
          },
          "execution_count": 12
        }
      ]
    },
    {
      "cell_type": "code",
      "metadata": {
        "id": "nAvwYeq6P87f",
        "colab_type": "code",
        "outputId": "69d9d4c4-588a-4a3d-e304-e7639e8ef948",
        "colab": {
          "base_uri": "https://localhost:8080/",
          "height": 35
        }
      },
      "source": [
        "linear_regression.intercept_"
      ],
      "execution_count": 0,
      "outputs": [
        {
          "output_type": "execute_result",
          "data": {
            "text/plain": [
              "-0.30779820252656265"
            ]
          },
          "metadata": {
            "tags": []
          },
          "execution_count": 13
        }
      ]
    },
    {
      "cell_type": "markdown",
      "metadata": {
        "id": "Z1fLmja1P87j",
        "colab_type": "text"
      },
      "source": [
        "Позднее эти значения будут использованы для вывода регрессионной прямой и прогнозирования для конкретных дат."
      ]
    },
    {
      "cell_type": "markdown",
      "metadata": {
        "id": "ATpTUdeWP87j",
        "colab_type": "text"
      },
      "source": [
        "#### Тестирование модели\n",
        "\n",
        "Протестируем модель по данным из `X_test` и проверим прогнозы по набору данных, выводя прогнозируемые и ожидаемые значения для каждого пятого элемента:"
      ]
    },
    {
      "cell_type": "code",
      "metadata": {
        "id": "XlJuFePeP87k",
        "colab_type": "code",
        "colab": {}
      },
      "source": [
        "predicted = linear_regression.predict(X_test)"
      ],
      "execution_count": 0,
      "outputs": []
    },
    {
      "cell_type": "code",
      "metadata": {
        "id": "_eQmUNBrP87n",
        "colab_type": "code",
        "colab": {}
      },
      "source": [
        "expected = y_test"
      ],
      "execution_count": 0,
      "outputs": []
    },
    {
      "cell_type": "code",
      "metadata": {
        "id": "Dli2AXHwP87q",
        "colab_type": "code",
        "outputId": "500d4e64-84bc-4345-9821-b603d74a32d5",
        "colab": {
          "base_uri": "https://localhost:8080/",
          "height": 139
        }
      },
      "source": [
        "for p, e in zip(predicted[::5], expected[::5]):\n",
        "    print(f'predicted: {p:.2f}, expected: {e:.2f}')"
      ],
      "execution_count": 0,
      "outputs": [
        {
          "output_type": "stream",
          "text": [
            "predicted: 37.86, expected: 31.70\n",
            "predicted: 38.69, expected: 34.80\n",
            "predicted: 37.00, expected: 39.40\n",
            "predicted: 37.25, expected: 45.70\n",
            "predicted: 38.05, expected: 32.30\n",
            "predicted: 37.64, expected: 33.80\n",
            "predicted: 36.94, expected: 39.70\n"
          ],
          "name": "stdout"
        }
      ]
    },
    {
      "cell_type": "markdown",
      "metadata": {
        "id": "8rE773YSP87v",
        "colab_type": "text"
      },
      "source": [
        "#### Прогнозирование будущих температур и оценка прошлых температур\n",
        "\n",
        "Воспользуемся полученными значениями угла наклона и точки пересечения для прогнозирования средней температуры в январе 2019 года, а также оценки\n",
        "средней температуры в январе 1890 года. \n",
        "\n",
        "Лямбда-выражение в следующем фрагменте реализует формулу:\n",
        "```\n",
        "y = mx + b\n",
        "```\n",
        "\n",
        "Значение `coef_` используется вместо `m`, а значение `intercept_` — вместо `b`."
      ]
    },
    {
      "cell_type": "code",
      "metadata": {
        "id": "vtPCEIq4P87v",
        "colab_type": "code",
        "colab": {}
      },
      "source": [
        "predict = (lambda x: linear_regression.coef_ * x + linear_regression.intercept_)"
      ],
      "execution_count": 0,
      "outputs": []
    },
    {
      "cell_type": "code",
      "metadata": {
        "id": "UITylSo1P87z",
        "colab_type": "code",
        "outputId": "0992d5eb-ff79-4cfe-84f7-af23c14bd05c",
        "colab": {
          "base_uri": "https://localhost:8080/",
          "height": 35
        }
      },
      "source": [
        "predict(2019)"
      ],
      "execution_count": 0,
      "outputs": [
        {
          "output_type": "execute_result",
          "data": {
            "text/plain": [
              "array([38.84399018])"
            ]
          },
          "metadata": {
            "tags": []
          },
          "execution_count": 18
        }
      ]
    },
    {
      "cell_type": "code",
      "metadata": {
        "id": "rXCsAI9IP872",
        "colab_type": "code",
        "outputId": "9dc51b25-932e-4ad3-d94d-82ea4f447657",
        "colab": {
          "base_uri": "https://localhost:8080/",
          "height": 35
        }
      },
      "source": [
        "predict(1890)"
      ],
      "execution_count": 0,
      "outputs": [
        {
          "output_type": "execute_result",
          "data": {
            "text/plain": [
              "array([36.34246432])"
            ]
          },
          "metadata": {
            "tags": []
          },
          "execution_count": 19
        }
      ]
    },
    {
      "cell_type": "markdown",
      "metadata": {
        "id": "XrGRQTMYP875",
        "colab_type": "text"
      },
      "source": [
        "#### Визуализация набора данных с регрессионной прямой\n",
        "\n",
        "Теперь построим диаграмму разброса данных при помощи функции `scatterplot` библиотеки Seaborn и функции `plot` библиотеки Matplotlib. \n",
        "\n",
        "Для вывода точек данных воспользуемся методом `scatterplot` с коллекцией DataFrame с именем `nyc`:"
      ]
    },
    {
      "cell_type": "code",
      "metadata": {
        "id": "IbEmOzJpP876",
        "colab_type": "code",
        "outputId": "63e74329-77e6-4e9b-f4d4-b492f1cf9651",
        "colab": {
          "base_uri": "https://localhost:8080/",
          "height": 72
        }
      },
      "source": [
        "import seaborn as sns"
      ],
      "execution_count": 0,
      "outputs": [
        {
          "output_type": "stream",
          "text": [
            "/usr/local/lib/python3.6/dist-packages/statsmodels/tools/_testing.py:19: FutureWarning: pandas.util.testing is deprecated. Use the functions in the public API at pandas.testing instead.\n",
            "  import pandas.util.testing as tm\n"
          ],
          "name": "stderr"
        }
      ]
    },
    {
      "cell_type": "code",
      "metadata": {
        "id": "AJxNL10TP879",
        "colab_type": "code",
        "outputId": "a5b4add5-0ddc-49a4-dab5-40a2be473eb1",
        "colab": {
          "base_uri": "https://localhost:8080/",
          "height": 279
        }
      },
      "source": [
        "axes = sns.scatterplot(data=nyc, x='Date', y='Temperature',\n",
        "                       hue='Temperature', palette='winter', legend=False)"
      ],
      "execution_count": 0,
      "outputs": [
        {
          "output_type": "display_data",
          "data": {
            "image/png": "[encoded data removed]",
            "text/plain": [
              "<Figure size 432x288 with 1 Axes>"
            ]
          },
          "metadata": {
            "tags": [],
            "needs_background": "light"
          }
        }
      ]
    },
    {
      "cell_type": "markdown",
      "metadata": {
        "id": "DkjsnkAPP88B",
        "colab_type": "text"
      },
      "source": [
        "#### Ключевые аргументы:\n",
        "\n",
        "* `data` — коллекция DataFrame (nyc) с выводимыми данными;\n",
        "* `x` и `y` — имена столбцов `nyc`, которые являются источником данных по осям `x` и `y` соответственно. В данном случае x содержит имя столбца 'Date' , а y — 'Temperature'. Соответствующие значения столбцов образуют пары координат x-y, наносимые на диаграмму;\n",
        "* `hue` — столбец, данные которого используются для определения цветов точек ('Temperature'). В нашем примере цвет особой роли не играет, но мы хотели сделать диаграмму более привлекательной;\n",
        "* `palette` — цветовая карта Matplotlib, по которой выбираются цвета точек;\n",
        "* `legend=False` — на диаграмме разброса данных не должны выводиться условные обозначения. По умолчанию используется значение True, но в нашем примере условные обозначения не нужны.\n",
        "\n",
        "Изменим масштаб оси `y`, чтобы при выводе регрессионной прямой линейность отношения была более очевидной:"
      ]
    },
    {
      "cell_type": "code",
      "metadata": {
        "id": "ACTdWqaqP88B",
        "colab_type": "code",
        "outputId": "3cea5814-f557-455f-85cc-0a7b36b6cce2",
        "colab": {
          "base_uri": "https://localhost:8080/",
          "height": 35
        }
      },
      "source": [
        "axes.set_ylim(10, 70)"
      ],
      "execution_count": 0,
      "outputs": [
        {
          "output_type": "execute_result",
          "data": {
            "text/plain": [
              "(10.0, 70.0)"
            ]
          },
          "metadata": {
            "tags": []
          },
          "execution_count": 22
        }
      ]
    },
    {
      "cell_type": "markdown",
      "metadata": {
        "id": "HWbV0bOZP88F",
        "colab_type": "text"
      },
      "source": [
        "Перейдем к выводу регрессионной прямой. Начнем с создания массива, содержащего минимальные и максимальные значения даты из `nyc.Date`. Они станут координатами `x` начальной и конечной точек регрессионной прямой:"
      ]
    },
    {
      "cell_type": "code",
      "metadata": {
        "id": "EcM6DbfaP88G",
        "colab_type": "code",
        "colab": {}
      },
      "source": [
        "import numpy as np\n",
        "x = np.array([min(nyc.Date.values), max(nyc.Date.values)])"
      ],
      "execution_count": 0,
      "outputs": []
    },
    {
      "cell_type": "markdown",
      "metadata": {
        "id": "OdSIp8J1P88J",
        "colab_type": "text"
      },
      "source": [
        "В результате передачи `predict` массива `x` будет получен массив соответствующих прогнозируемых значений, которые будут использоваться в качестве координат `y`:"
      ]
    },
    {
      "cell_type": "code",
      "metadata": {
        "id": "69ykI9eNP88J",
        "colab_type": "code",
        "colab": {}
      },
      "source": [
        "y = predict(x)"
      ],
      "execution_count": 0,
      "outputs": []
    },
    {
      "cell_type": "markdown",
      "metadata": {
        "id": "ToQ10wwtP88M",
        "colab_type": "text"
      },
      "source": [
        "Наконец, функция `plot` библиотеки Matplotlib рисует линию по массивам x и y, представляющим координаты x и y точек соответственно:"
      ]
    },
    {
      "cell_type": "code",
      "metadata": {
        "id": "YPul2VdRP88N",
        "colab_type": "code",
        "outputId": "59664fea-35ff-42fa-9c53-1ca25fa4ffc2",
        "colab": {
          "base_uri": "https://localhost:8080/",
          "height": 265
        }
      },
      "source": [
        "import matplotlib.pyplot as plt\n",
        "line = plt.plot(x, y)"
      ],
      "execution_count": 0,
      "outputs": [
        {
          "output_type": "display_data",
          "data": {
            "image/png": "[encoded data removed]",
            "text/plain": [
              "<Figure size 432x288 with 1 Axes>"
            ]
          },
          "metadata": {
            "tags": [],
            "needs_background": "light"
          }
        }
      ]
    },
    {
      "cell_type": "code",
      "metadata": {
        "id": "0FuvNrIiP88Q",
        "colab_type": "code",
        "outputId": "f0511324-9130-4198-dede-212b98620356",
        "colab": {
          "base_uri": "https://localhost:8080/",
          "height": 283
        }
      },
      "source": [
        "axes = sns.scatterplot(data=nyc, x='Date', y='Temperature',\n",
        "                         hue='Temperature', palette='winter', legend=False)\n",
        "\n",
        "axes.set_ylim(10, 70)\n",
        "\n",
        "import numpy as np\n",
        "x = np.array([min(nyc.Date.values), max(nyc.Date.values)])\n",
        "y = predict(x)\n",
        "\n",
        "import matplotlib.pyplot as plt \n",
        "line = plt.plot(x, y)"
      ],
      "execution_count": 0,
      "outputs": [
        {
          "output_type": "display_data",
          "data": {
            "image/png": "[encoded data removed]",
            "text/plain": [
              "<Figure size 432x288 with 1 Axes>"
            ]
          },
          "metadata": {
            "tags": [],
            "needs_background": "light"
          }
        }
      ]
    },
    {
      "cell_type": "markdown",
      "metadata": {
        "id": "2y_HgYcmP88T",
        "colab_type": "text"
      },
      "source": [
        "### Чрезмерная/недостаточная подгонка\n",
        "\n",
        "При создании модели нужно в первую очередь стремиться к тому, чтобы эта модель выдавала точные прогнозы для данных, которые ей пока неизвестны. \n",
        "\n",
        "Две распространенные проблемы, препятствующие точному прогнозированию, — `чрезмерная` и `недостаточная подгонка`:\n",
        "* Недостаточная подгонка происходит в том случае, если модель слишком проста для построения прогнозов на основании тренировочных данных. Например, линейная модель (скажем, простая линейная регрессия) используется в задаче, которая на самом деле требует нелинейной модели. Например, температуры существенно изменяются на протяжении четырех времен года. Если вы попытаетесь создать обобщенную модель, которая может прогнозировать температуры круглый год, модель простой линейной регрессии приведет к недостаточной подгонке данных.\n",
        "* Чрезмерная подгонка происходит при излишней сложности модели. Крайний случай такого рода — модель, запоминающая свои обучающие данные. Такое решение приемлемо, если новые данные будут полностью совпадать с обучающими, но обычно это не так. При построении прогнозов на основании модели с чрезмерной подгонкой для новых данных, совпадающих с обучающими, будут сделаны идеально точные прогнозы, но такая модель не будет знать, что делать с данными, которые ей еще не встречались."
      ]
    },
    {
      "cell_type": "code",
      "metadata": {
        "id": "JSkhOZmMP88U",
        "colab_type": "code",
        "colab": {}
      },
      "source": [
        ""
      ],
      "execution_count": 0,
      "outputs": []
    }
  ]
}