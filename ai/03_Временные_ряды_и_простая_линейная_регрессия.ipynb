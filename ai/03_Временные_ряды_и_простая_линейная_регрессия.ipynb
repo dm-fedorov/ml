{
 "cells": [
  {
   "cell_type": "markdown",
   "metadata": {},
   "source": [
    "<a href=\"https://colab.research.google.com/github/dm-fedorov/ml/blob/master/ai/03_%D0%92%D1%80%D0%B5%D0%BC%D0%B5%D0%BD%D0%BD%D1%8B%D0%B5_%D1%80%D1%8F%D0%B4%D1%8B_%D0%B8_%D0%BF%D1%80%D0%BE%D1%81%D1%82%D0%B0%D1%8F_%D0%BB%D0%B8%D0%BD%D0%B5%D0%B9%D0%BD%D0%B0%D1%8F_%D1%80%D0%B5%D0%B3%D1%80%D0%B5%D1%81%D1%81%D0%B8%D1%8F.ipynb\"><img align=\"left\" src=\"https://colab.research.google.com/assets/colab-badge.svg\" alt=\"Open in Colab\" title=\"Open and Execute in Google Colaboratory\" target=\"_blank\"></a>"
   ]
  },
  {
   "cell_type": "markdown",
   "metadata": {
    "colab_type": "text",
    "id": "ezR5G6UTP86u"
   },
   "source": [
    "В примере рассматриваются:\n",
    "* Использование оценщика scikit-learn для повторной реализации простой линейной регрессии.\n",
    "* Использование функции `scatterplot` библиотеки Seaborn для графического вывода данных и функции `plot` библиотеки Matplotlib для вывода регрессионной прямой.\n",
    "* Использование значений угла наклона и точки пересечения, вычисленных оценщиком scikit-learn, для построения прогнозов."
   ]
  },
  {
   "cell_type": "code",
   "execution_count": 1,
   "metadata": {
    "colab": {
     "base_uri": "https://localhost:8080/",
     "height": 202
    },
    "colab_type": "code",
    "id": "UgCi8yvEP86w",
    "outputId": "7fcc5672-1596-48e0-b28c-8575ce84cae3"
   },
   "outputs": [
    {
     "data": {
      "text/html": [
       "<div>\n",
       "<style scoped>\n",
       "    .dataframe tbody tr th:only-of-type {\n",
       "        vertical-align: middle;\n",
       "    }\n",
       "\n",
       "    .dataframe tbody tr th {\n",
       "        vertical-align: top;\n",
       "    }\n",
       "\n",
       "    .dataframe thead th {\n",
       "        text-align: right;\n",
       "    }\n",
       "</style>\n",
       "<table border=\"1\" class=\"dataframe\">\n",
       "  <thead>\n",
       "    <tr style=\"text-align: right;\">\n",
       "      <th></th>\n",
       "      <th>Date</th>\n",
       "      <th>Value</th>\n",
       "      <th>Anomaly</th>\n",
       "    </tr>\n",
       "  </thead>\n",
       "  <tbody>\n",
       "    <tr>\n",
       "      <th>0</th>\n",
       "      <td>189501</td>\n",
       "      <td>34.2</td>\n",
       "      <td>-3.2</td>\n",
       "    </tr>\n",
       "    <tr>\n",
       "      <th>1</th>\n",
       "      <td>189601</td>\n",
       "      <td>34.7</td>\n",
       "      <td>-2.7</td>\n",
       "    </tr>\n",
       "    <tr>\n",
       "      <th>2</th>\n",
       "      <td>189701</td>\n",
       "      <td>35.5</td>\n",
       "      <td>-1.9</td>\n",
       "    </tr>\n",
       "    <tr>\n",
       "      <th>3</th>\n",
       "      <td>189801</td>\n",
       "      <td>39.6</td>\n",
       "      <td>2.2</td>\n",
       "    </tr>\n",
       "    <tr>\n",
       "      <th>4</th>\n",
       "      <td>189901</td>\n",
       "      <td>36.4</td>\n",
       "      <td>-1.0</td>\n",
       "    </tr>\n",
       "  </tbody>\n",
       "</table>\n",
       "</div>"
      ],
      "text/plain": [
       "     Date  Value  Anomaly\n",
       "0  189501   34.2     -3.2\n",
       "1  189601   34.7     -2.7\n",
       "2  189701   35.5     -1.9\n",
       "3  189801   39.6      2.2\n",
       "4  189901   36.4     -1.0"
      ]
     },
     "execution_count": 1,
     "metadata": {},
     "output_type": "execute_result"
    }
   ],
   "source": [
    "import pandas as pd\n",
    "nyc = pd.read_csv('https://raw.githubusercontent.com/dm-fedorov/ml/master/datasets/ave_hi_nyc_jan_1895-2018.csv')\n",
    "nyc.head()"
   ]
  },
  {
   "cell_type": "code",
   "execution_count": 2,
   "metadata": {
    "colab": {},
    "colab_type": "code",
    "id": "z8QPm3q4P861"
   },
   "outputs": [],
   "source": [
    "nyc.columns = ['Date', 'Temperature', 'Anomaly']"
   ]
  },
  {
   "cell_type": "code",
   "execution_count": 3,
   "metadata": {
    "colab": {},
    "colab_type": "code",
    "id": "STdExow9P865"
   },
   "outputs": [],
   "source": [
    "nyc.Date = nyc.Date.floordiv(100)"
   ]
  },
  {
   "cell_type": "code",
   "execution_count": 4,
   "metadata": {
    "colab": {
     "base_uri": "https://localhost:8080/",
     "height": 141
    },
    "colab_type": "code",
    "id": "R2e8tEO-P869",
    "outputId": "413a728d-ad88-43ed-b983-7ce6735b8568"
   },
   "outputs": [
    {
     "data": {
      "text/html": [
       "<div>\n",
       "<style scoped>\n",
       "    .dataframe tbody tr th:only-of-type {\n",
       "        vertical-align: middle;\n",
       "    }\n",
       "\n",
       "    .dataframe tbody tr th {\n",
       "        vertical-align: top;\n",
       "    }\n",
       "\n",
       "    .dataframe thead th {\n",
       "        text-align: right;\n",
       "    }\n",
       "</style>\n",
       "<table border=\"1\" class=\"dataframe\">\n",
       "  <thead>\n",
       "    <tr style=\"text-align: right;\">\n",
       "      <th></th>\n",
       "      <th>Date</th>\n",
       "      <th>Temperature</th>\n",
       "      <th>Anomaly</th>\n",
       "    </tr>\n",
       "  </thead>\n",
       "  <tbody>\n",
       "    <tr>\n",
       "      <th>0</th>\n",
       "      <td>1895</td>\n",
       "      <td>34.2</td>\n",
       "      <td>-3.2</td>\n",
       "    </tr>\n",
       "    <tr>\n",
       "      <th>1</th>\n",
       "      <td>1896</td>\n",
       "      <td>34.7</td>\n",
       "      <td>-2.7</td>\n",
       "    </tr>\n",
       "    <tr>\n",
       "      <th>2</th>\n",
       "      <td>1897</td>\n",
       "      <td>35.5</td>\n",
       "      <td>-1.9</td>\n",
       "    </tr>\n",
       "  </tbody>\n",
       "</table>\n",
       "</div>"
      ],
      "text/plain": [
       "   Date  Temperature  Anomaly\n",
       "0  1895         34.2     -3.2\n",
       "1  1896         34.7     -2.7\n",
       "2  1897         35.5     -1.9"
      ]
     },
     "execution_count": 4,
     "metadata": {},
     "output_type": "execute_result"
    }
   ],
   "source": [
    "nyc.head(3)"
   ]
  },
  {
   "cell_type": "markdown",
   "metadata": {
    "colab_type": "text",
    "id": "-SGgKHcgP87C"
   },
   "source": [
    "#### Разбиение данных для обучения и тестирования\n",
    "\n",
    "В этом примере будет использоваться оценщик `LinearRegression` из `sklearn.linear_model`. \n",
    "\n",
    "По умолчанию он использует все числовые признаки в наборе данных, выполняя множественную линейную регрессию. Выполним простую линейную регрессию, используя один признак как независимую переменную. В наборе данных необходимо выбрать один признак (`Date`) из набора данных. \n",
    "\n",
    "При выборе одного столбца в двумерном DataFrame результат представляет собой одномерную коллекцию Series. Однако оценщики scikit-learn требуют, чтобы в качестве обучающих и тестовых данных использовались двумерные массивы (или двумерные структуры, сходные с массивами, например списки списков или коллекции pandas DataFrame). Чтобы использовать одномерные массивы с оценщиком, необходимо преобразовать их из одномерного массива с `n` элементами в двумерный массив c `n` строками и одним столбцом."
   ]
  },
  {
   "cell_type": "markdown",
   "metadata": {
    "colab_type": "text",
    "id": "NT-5IvCvP87C"
   },
   "source": [
    "Как и прежде, данные будут разбиты на обучающий и тестовый наборы. И снова ключевой аргумент `random_state` используется для обеспечения воспроизводимости результатов:"
   ]
  },
  {
   "cell_type": "code",
   "execution_count": 5,
   "metadata": {
    "colab": {},
    "colab_type": "code",
    "id": "rIs2EEp2P87D"
   },
   "outputs": [],
   "source": [
    "from sklearn.model_selection import train_test_split"
   ]
  },
  {
   "cell_type": "code",
   "execution_count": 6,
   "metadata": {
    "colab": {},
    "colab_type": "code",
    "id": "mGbEJxyVP87G"
   },
   "outputs": [],
   "source": [
    "X_train, X_test, y_train, y_test = train_test_split(\n",
    "    nyc.Date.values.reshape(-1, 1), nyc.Temperature.values,\n",
    "    random_state=11)"
   ]
  },
  {
   "cell_type": "markdown",
   "metadata": {
    "colab_type": "text",
    "id": "Xhxxb1Q3P87K"
   },
   "source": [
    "Выражение `nyc.Date` возвращает коллекцию Series для столбца Date, атрибут которой `values` возвращает массив NumPy со значениями коллекции. \n",
    "\n",
    "Для преобразования одномерного массива в двумерный вызовем метод `reshape` массива. Обычно в двух аргументах передается точное количество строк и столбцов, но первый аргумент `-1` означает, что метод `reshape` должен вычислить количество строк на основании количества столбцов (1) и количества элементов (124) в массиве. \n",
    "\n",
    "Преобразованный массив содержит только один столбец, поэтому `reshape` делает вывод, что количество строк равно 124: разместить 124 элемента в один столбец можно, только распределив их по 124 строкам. \n",
    "\n",
    "Для проверки пропорции обучающих тестовых данных (75% к 25%) запросим размеры `X_train` и `X_test`:"
   ]
  },
  {
   "cell_type": "code",
   "execution_count": 7,
   "metadata": {
    "colab": {
     "base_uri": "https://localhost:8080/",
     "height": 35
    },
    "colab_type": "code",
    "id": "svTRv-qjP87L",
    "outputId": "6a713bc1-43a7-4ab9-f1ee-a050834c6a8b"
   },
   "outputs": [
    {
     "data": {
      "text/plain": [
       "(93, 1)"
      ]
     },
     "execution_count": 7,
     "metadata": {},
     "output_type": "execute_result"
    }
   ],
   "source": [
    "X_train.shape"
   ]
  },
  {
   "cell_type": "code",
   "execution_count": 8,
   "metadata": {
    "colab": {
     "base_uri": "https://localhost:8080/",
     "height": 35
    },
    "colab_type": "code",
    "id": "FivQOs-5P87O",
    "outputId": "f8c6f1cf-3403-453e-ff76-fc7e9f6ad5fa"
   },
   "outputs": [
    {
     "data": {
      "text/plain": [
       "(31, 1)"
      ]
     },
     "execution_count": 8,
     "metadata": {},
     "output_type": "execute_result"
    }
   ],
   "source": [
    "X_test.shape"
   ]
  },
  {
   "cell_type": "markdown",
   "metadata": {
    "colab_type": "text",
    "id": "529AfHfKP87R"
   },
   "source": [
    "#### Обучение модели\n",
    "\n",
    "В scikit-learn нет отдельного класса для простой линейной регрессии, потому что простая линейная регрессия является частным случаем множественной\n",
    "линейной регрессии, поэтому мы воспользуемся оценщиком `LinearRegression`:"
   ]
  },
  {
   "cell_type": "code",
   "execution_count": 9,
   "metadata": {
    "colab": {},
    "colab_type": "code",
    "id": "BQb6FWxiP87S"
   },
   "outputs": [],
   "source": [
    "from sklearn.linear_model import LinearRegression"
   ]
  },
  {
   "cell_type": "code",
   "execution_count": 10,
   "metadata": {
    "colab": {},
    "colab_type": "code",
    "id": "bT4uOZPkP87V"
   },
   "outputs": [],
   "source": [
    "linear_regression = LinearRegression()"
   ]
  },
  {
   "cell_type": "code",
   "execution_count": 11,
   "metadata": {
    "colab": {
     "base_uri": "https://localhost:8080/",
     "height": 35
    },
    "colab_type": "code",
    "id": "WMPSJQcLP87Y",
    "outputId": "ad9912c8-413f-4e51-f334-a42b17bb1daa"
   },
   "outputs": [
    {
     "data": {
      "text/plain": [
       "LinearRegression()"
      ]
     },
     "execution_count": 11,
     "metadata": {},
     "output_type": "execute_result"
    }
   ],
   "source": [
    "linear_regression.fit(X=X_train, y=y_train)"
   ]
  },
  {
   "cell_type": "markdown",
   "metadata": {
    "colab_type": "text",
    "id": "-cQ93umIP87c"
   },
   "source": [
    "После обучения оценщика `fit` возвращает оценщика и выводит строковое представление. \n",
    "\n",
    "Описания настроек по умолчанию доступны по [адресу](http://scikit-learn.org/stable/modules/generated/sklearn.linear_model.LinearRegression.html).\n",
    "\n",
    "Чтобы найти регрессионную прямую с наилучшей подгонкой к данным, оценщик `LinearRegression` в итеративном режиме регулирует угол наклона и точку пересечения для минимизации суммы квадратов расстояний точек данных от линии.\n",
    "\n",
    "После этого значения угла наклона и точки пересечения с осью, используемые в формуле `y = mx + b`, могут использоваться для прогнозирования. Угол наклона хранится в атрибуте `coeff_` оценщика (`m` в формуле), а точка пересечения — в атрибуте `intercept_` (`b` в формуле):"
   ]
  },
  {
   "cell_type": "code",
   "execution_count": 12,
   "metadata": {
    "colab": {
     "base_uri": "https://localhost:8080/",
     "height": 35
    },
    "colab_type": "code",
    "id": "EL5LkiOCP87c",
    "outputId": "8da67797-377a-45c9-fe8a-e126e3234ae3"
   },
   "outputs": [
    {
     "data": {
      "text/plain": [
       "array([0.01939167])"
      ]
     },
     "execution_count": 12,
     "metadata": {},
     "output_type": "execute_result"
    }
   ],
   "source": [
    "linear_regression.coef_"
   ]
  },
  {
   "cell_type": "code",
   "execution_count": 13,
   "metadata": {
    "colab": {
     "base_uri": "https://localhost:8080/",
     "height": 35
    },
    "colab_type": "code",
    "id": "nAvwYeq6P87f",
    "outputId": "69d9d4c4-588a-4a3d-e304-e7639e8ef948"
   },
   "outputs": [
    {
     "data": {
      "text/plain": [
       "-0.30779820252658396"
      ]
     },
     "execution_count": 13,
     "metadata": {},
     "output_type": "execute_result"
    }
   ],
   "source": [
    "linear_regression.intercept_"
   ]
  },
  {
   "cell_type": "markdown",
   "metadata": {
    "colab_type": "text",
    "id": "Z1fLmja1P87j"
   },
   "source": [
    "Позднее эти значения будут использованы для вывода регрессионной прямой и прогнозирования для конкретных дат."
   ]
  },
  {
   "cell_type": "markdown",
   "metadata": {
    "colab_type": "text",
    "id": "ATpTUdeWP87j"
   },
   "source": [
    "#### Тестирование модели\n",
    "\n",
    "Протестируем модель по данным из `X_test` и проверим прогнозы по набору данных, выводя прогнозируемые и ожидаемые значения для каждого пятого элемента:"
   ]
  },
  {
   "cell_type": "code",
   "execution_count": 14,
   "metadata": {
    "colab": {},
    "colab_type": "code",
    "id": "XlJuFePeP87k"
   },
   "outputs": [],
   "source": [
    "predicted = linear_regression.predict(X_test)"
   ]
  },
  {
   "cell_type": "code",
   "execution_count": 15,
   "metadata": {
    "colab": {},
    "colab_type": "code",
    "id": "_eQmUNBrP87n"
   },
   "outputs": [],
   "source": [
    "expected = y_test"
   ]
  },
  {
   "cell_type": "code",
   "execution_count": 16,
   "metadata": {
    "colab": {
     "base_uri": "https://localhost:8080/",
     "height": 139
    },
    "colab_type": "code",
    "id": "Dli2AXHwP87q",
    "outputId": "500d4e64-84bc-4345-9821-b603d74a32d5"
   },
   "outputs": [
    {
     "name": "stdout",
     "output_type": "stream",
     "text": [
      "predicted: 37.86, expected: 31.70\n",
      "predicted: 38.69, expected: 34.80\n",
      "predicted: 37.00, expected: 39.40\n",
      "predicted: 37.25, expected: 45.70\n",
      "predicted: 38.05, expected: 32.30\n",
      "predicted: 37.64, expected: 33.80\n",
      "predicted: 36.94, expected: 39.70\n"
     ]
    }
   ],
   "source": [
    "for p, e in zip(predicted[::5], expected[::5]):\n",
    "    print(f'predicted: {p:.2f}, expected: {e:.2f}')"
   ]
  },
  {
   "cell_type": "markdown",
   "metadata": {
    "colab_type": "text",
    "id": "8rE773YSP87v"
   },
   "source": [
    "#### Прогнозирование будущих температур и оценка прошлых температур\n",
    "\n",
    "Воспользуемся полученными значениями угла наклона и точки пересечения для прогнозирования средней температуры в январе 2019 года, а также оценки\n",
    "средней температуры в январе 1890 года. \n",
    "\n",
    "Лямбда-выражение в следующем фрагменте реализует формулу:\n",
    "```\n",
    "y = mx + b\n",
    "```\n",
    "\n",
    "Значение `coef_` используется вместо `m`, а значение `intercept_` — вместо `b`."
   ]
  },
  {
   "cell_type": "code",
   "execution_count": 17,
   "metadata": {
    "colab": {},
    "colab_type": "code",
    "id": "vtPCEIq4P87v"
   },
   "outputs": [],
   "source": [
    "predict = (lambda x: linear_regression.coef_ * x + linear_regression.intercept_)"
   ]
  },
  {
   "cell_type": "code",
   "execution_count": 18,
   "metadata": {
    "colab": {
     "base_uri": "https://localhost:8080/",
     "height": 35
    },
    "colab_type": "code",
    "id": "UITylSo1P87z",
    "outputId": "0992d5eb-ff79-4cfe-84f7-af23c14bd05c"
   },
   "outputs": [
    {
     "data": {
      "text/plain": [
       "array([38.84399018])"
      ]
     },
     "execution_count": 18,
     "metadata": {},
     "output_type": "execute_result"
    }
   ],
   "source": [
    "predict(2019)"
   ]
  },
  {
   "cell_type": "code",
   "execution_count": 19,
   "metadata": {
    "colab": {
     "base_uri": "https://localhost:8080/",
     "height": 35
    },
    "colab_type": "code",
    "id": "rXCsAI9IP872",
    "outputId": "9dc51b25-932e-4ad3-d94d-82ea4f447657"
   },
   "outputs": [
    {
     "data": {
      "text/plain": [
       "array([36.34246432])"
      ]
     },
     "execution_count": 19,
     "metadata": {},
     "output_type": "execute_result"
    }
   ],
   "source": [
    "predict(1890)"
   ]
  },
  {
   "cell_type": "markdown",
   "metadata": {
    "colab_type": "text",
    "id": "XrGRQTMYP875"
   },
   "source": [
    "#### Визуализация набора данных с регрессионной прямой\n",
    "\n",
    "Теперь построим диаграмму разброса данных при помощи функции `scatterplot` библиотеки Seaborn и функции `plot` библиотеки Matplotlib. \n",
    "\n",
    "Для вывода точек данных воспользуемся методом `scatterplot` с коллекцией DataFrame с именем `nyc`:"
   ]
  },
  {
   "cell_type": "code",
   "execution_count": 20,
   "metadata": {
    "colab": {
     "base_uri": "https://localhost:8080/",
     "height": 72
    },
    "colab_type": "code",
    "id": "IbEmOzJpP876",
    "outputId": "63e74329-77e6-4e9b-f4d4-b492f1cf9651"
   },
   "outputs": [],
   "source": [
    "import seaborn as sns"
   ]
  },
  {
   "cell_type": "code",
   "execution_count": 21,
   "metadata": {
    "colab": {
     "base_uri": "https://localhost:8080/",
     "height": 279
    },
    "colab_type": "code",
    "id": "AJxNL10TP879",
    "outputId": "a5b4add5-0ddc-49a4-dab5-40a2be473eb1"
   },
   "outputs": [
    {
     "data": {
      "image/png": "[encoded data removed]",
      "text/plain": [
       "<Figure size 432x288 with 1 Axes>"
      ]
     },
     "metadata": {
      "needs_background": "light"
     },
     "output_type": "display_data"
    }
   ],
   "source": [
    "axes = sns.scatterplot(data=nyc, x='Date', y='Temperature',\n",
    "                       hue='Temperature', palette='winter', legend=False)"
   ]
  },
  {
   "cell_type": "markdown",
   "metadata": {
    "colab_type": "text",
    "id": "DkjsnkAPP88B"
   },
   "source": [
    "#### Ключевые аргументы:\n",
    "\n",
    "* `data` — коллекция DataFrame (nyc) с выводимыми данными;\n",
    "* `x` и `y` — имена столбцов `nyc`, которые являются источником данных по осям `x` и `y` соответственно. В данном случае x содержит имя столбца 'Date' , а y — 'Temperature'. Соответствующие значения столбцов образуют пары координат x-y, наносимые на диаграмму;\n",
    "* `hue` — столбец, данные которого используются для определения цветов точек ('Temperature'). В нашем примере цвет особой роли не играет, но мы хотели сделать диаграмму более привлекательной;\n",
    "* `palette` — цветовая карта Matplotlib, по которой выбираются цвета точек;\n",
    "* `legend=False` — на диаграмме разброса данных не должны выводиться условные обозначения. По умолчанию используется значение True, но в нашем примере условные обозначения не нужны.\n",
    "\n",
    "Изменим масштаб оси `y`, чтобы при выводе регрессионной прямой линейность отношения была более очевидной:"
   ]
  },
  {
   "cell_type": "code",
   "execution_count": 22,
   "metadata": {
    "colab": {
     "base_uri": "https://localhost:8080/",
     "height": 35
    },
    "colab_type": "code",
    "id": "ACTdWqaqP88B",
    "outputId": "3cea5814-f557-455f-85cc-0a7b36b6cce2"
   },
   "outputs": [
    {
     "data": {
      "text/plain": [
       "(10.0, 70.0)"
      ]
     },
     "execution_count": 22,
     "metadata": {},
     "output_type": "execute_result"
    }
   ],
   "source": [
    "axes.set_ylim(10, 70)"
   ]
  },
  {
   "cell_type": "markdown",
   "metadata": {
    "colab_type": "text",
    "id": "HWbV0bOZP88F"
   },
   "source": [
    "Перейдем к выводу регрессионной прямой. Начнем с создания массива, содержащего минимальные и максимальные значения даты из `nyc.Date`. Они станут координатами `x` начальной и конечной точек регрессионной прямой:"
   ]
  },
  {
   "cell_type": "code",
   "execution_count": 23,
   "metadata": {
    "colab": {},
    "colab_type": "code",
    "id": "EcM6DbfaP88G"
   },
   "outputs": [],
   "source": [
    "import numpy as np\n",
    "x = np.array([min(nyc.Date.values), max(nyc.Date.values)])"
   ]
  },
  {
   "cell_type": "markdown",
   "metadata": {
    "colab_type": "text",
    "id": "OdSIp8J1P88J"
   },
   "source": [
    "В результате передачи `predict` массива `x` будет получен массив соответствующих прогнозируемых значений, которые будут использоваться в качестве координат `y`:"
   ]
  },
  {
   "cell_type": "code",
   "execution_count": 24,
   "metadata": {
    "colab": {},
    "colab_type": "code",
    "id": "69ykI9eNP88J"
   },
   "outputs": [],
   "source": [
    "y = predict(x)"
   ]
  },
  {
   "cell_type": "markdown",
   "metadata": {
    "colab_type": "text",
    "id": "ToQ10wwtP88M"
   },
   "source": [
    "Наконец, функция `plot` библиотеки Matplotlib рисует линию по массивам x и y, представляющим координаты x и y точек соответственно:"
   ]
  },
  {
   "cell_type": "code",
   "execution_count": 25,
   "metadata": {
    "colab": {
     "base_uri": "https://localhost:8080/",
     "height": 265
    },
    "colab_type": "code",
    "id": "YPul2VdRP88N",
    "outputId": "59664fea-35ff-42fa-9c53-1ca25fa4ffc2"
   },
   "outputs": [
    {
     "data": {
      "image/png": "[encoded data removed]",
      "text/plain": [
       "<Figure size 432x288 with 1 Axes>"
      ]
     },
     "metadata": {
      "needs_background": "light"
     },
     "output_type": "display_data"
    }
   ],
   "source": [
    "import matplotlib.pyplot as plt\n",
    "line = plt.plot(x, y)"
   ]
  },
  {
   "cell_type": "code",
   "execution_count": 26,
   "metadata": {
    "colab": {
     "base_uri": "https://localhost:8080/",
     "height": 283
    },
    "colab_type": "code",
    "id": "0FuvNrIiP88Q",
    "outputId": "f0511324-9130-4198-dede-212b98620356"
   },
   "outputs": [
    {
     "data": {
      "image/png": "[encoded data removed]",
      "text/plain": [
       "<Figure size 432x288 with 1 Axes>"
      ]
     },
     "metadata": {
      "needs_background": "light"
     },
     "output_type": "display_data"
    }
   ],
   "source": [
    "axes = sns.scatterplot(data=nyc, x='Date', y='Temperature',\n",
    "                         hue='Temperature', palette='winter', legend=False)\n",
    "\n",
    "axes.set_ylim(10, 70)\n",
    "\n",
    "import numpy as np\n",
    "x = np.array([min(nyc.Date.values), max(nyc.Date.values)])\n",
    "y = predict(x)\n",
    "\n",
    "import matplotlib.pyplot as plt \n",
    "line = plt.plot(x, y)"
   ]
  },
  {
   "cell_type": "markdown",
   "metadata": {
    "colab_type": "text",
    "id": "2y_HgYcmP88T"
   },
   "source": [
    "### Чрезмерная/недостаточная подгонка\n",
    "\n",
    "При создании модели нужно в первую очередь стремиться к тому, чтобы эта модель выдавала точные прогнозы для данных, которые ей пока неизвестны. \n",
    "\n",
    "Две распространенные проблемы, препятствующие точному прогнозированию, — `чрезмерная` и `недостаточная подгонка`:\n",
    "* Недостаточная подгонка происходит в том случае, если модель слишком проста для построения прогнозов на основании тренировочных данных. Например, линейная модель (скажем, простая линейная регрессия) используется в задаче, которая на самом деле требует нелинейной модели. Например, температуры существенно изменяются на протяжении четырех времен года. Если вы попытаетесь создать обобщенную модель, которая может прогнозировать температуры круглый год, модель простой линейной регрессии приведет к недостаточной подгонке данных.\n",
    "* Чрезмерная подгонка происходит при излишней сложности модели. Крайний случай такого рода — модель, запоминающая свои обучающие данные. Такое решение приемлемо, если новые данные будут полностью совпадать с обучающими, но обычно это не так. При построении прогнозов на основании модели с чрезмерной подгонкой для новых данных, совпадающих с обучающими, будут сделаны идеально точные прогнозы, но такая модель не будет знать, что делать с данными, которые ей еще не встречались."
   ]
  },
  {
   "cell_type": "code",
   "execution_count": null,
   "metadata": {
    "colab": {},
    "colab_type": "code",
    "id": "JSkhOZmMP88U"
   },
   "outputs": [],
   "source": []
  }
 ],
 "metadata": {
  "colab": {
   "collapsed_sections": [],
   "name": "03. Временные ряды и простая линейная регрессия.ipynb",
   "provenance": []
  },
  "kernelspec": {
   "display_name": "Python 3",
   "language": "python",
   "name": "python3"
  },
  "language_info": {
   "codemirror_mode": {
    "name": "ipython",
    "version": 3
   },
   "file_extension": ".py",
   "mimetype": "text/x-python",
   "name": "python",
   "nbconvert_exporter": "python",
   "pygments_lexer": "ipython3",
   "version": "3.8.3"
  }
 },
 "nbformat": 4,
 "nbformat_minor": 4
}
